{
 "cells": [
  {
   "cell_type": "code",
   "execution_count": 1,
   "id": "4eab2d2b",
   "metadata": {
    "_cell_guid": "b1076dfc-b9ad-4769-8c92-a6c4dae69d19",
    "_uuid": "8f2839f25d086af736a60e9eeb907d3b93b6e0e5",
    "execution": {
     "iopub.execute_input": "2022-12-11T04:58:00.910345Z",
     "iopub.status.busy": "2022-12-11T04:58:00.909917Z",
     "iopub.status.idle": "2022-12-11T04:58:02.207171Z",
     "shell.execute_reply": "2022-12-11T04:58:02.206089Z"
    },
    "papermill": {
     "duration": 1.311211,
     "end_time": "2022-12-11T04:58:02.209764",
     "exception": false,
     "start_time": "2022-12-11T04:58:00.898553",
     "status": "completed"
    },
    "tags": []
   },
   "outputs": [],
   "source": [
    "import numpy as np\n",
    "import pandas as pd\n",
    "import matplotlib.pyplot as plt\n",
    "import IPython\n",
    "import sklearn\n",
    "from sklearn.linear_model import Ridge\n",
    "from sklearn.neural_network import MLPClassifier\n",
    "from sklearn.neural_network import MLPRegressor\n",
    "\n",
    "from sklearn.ensemble import RandomForestRegressor\n",
    "from sklearn.multioutput import MultiOutputClassifier\n",
    "from sklearn.multioutput import MultiOutputRegressor\n",
    "from sklearn.metrics import mean_squared_log_error\n",
    "from statsmodels.tsa.deterministic import DeterministicProcess\n",
    "from sklearn.linear_model import ElasticNet\n",
    "from statsmodels.tsa.deterministic import CalendarFourier\n",
    "\n",
    "\n",
    "import os"
   ]
  },
  {
   "cell_type": "code",
   "execution_count": 2,
   "id": "aa853cf6",
   "metadata": {
    "execution": {
     "iopub.execute_input": "2022-12-11T04:58:02.229511Z",
     "iopub.status.busy": "2022-12-11T04:58:02.229165Z",
     "iopub.status.idle": "2022-12-11T04:58:02.233267Z",
     "shell.execute_reply": "2022-12-11T04:58:02.232275Z"
    },
    "papermill": {
     "duration": 0.016001,
     "end_time": "2022-12-11T04:58:02.235004",
     "exception": false,
     "start_time": "2022-12-11T04:58:02.219003",
     "status": "completed"
    },
    "tags": []
   },
   "outputs": [],
   "source": [
    "# path to the dataset in Kaggle's notebook\n",
    "path ='../input/store-sales-time-series-forecasting/'"
   ]
  },
  {
   "cell_type": "markdown",
   "id": "bdab2794",
   "metadata": {
    "papermill": {
     "duration": 0.009576,
     "end_time": "2022-12-11T04:58:02.253418",
     "exception": false,
     "start_time": "2022-12-11T04:58:02.243842",
     "status": "completed"
    },
    "tags": []
   },
   "source": [
    "# LR"
   ]
  },
  {
   "cell_type": "markdown",
   "id": "4392b362",
   "metadata": {
    "papermill": {
     "duration": 0.008431,
     "end_time": "2022-12-11T04:58:02.270520",
     "exception": false,
     "start_time": "2022-12-11T04:58:02.262089",
     "status": "completed"
    },
    "tags": []
   },
   "source": [
    "### 1. Compute Moving Average of Oil Prices"
   ]
  },
  {
   "cell_type": "code",
   "execution_count": 3,
   "id": "371651ee",
   "metadata": {
    "execution": {
     "iopub.execute_input": "2022-12-11T04:58:02.289875Z",
     "iopub.status.busy": "2022-12-11T04:58:02.289542Z",
     "iopub.status.idle": "2022-12-11T04:58:02.348688Z",
     "shell.execute_reply": "2022-12-11T04:58:02.347928Z"
    },
    "papermill": {
     "duration": 0.070787,
     "end_time": "2022-12-11T04:58:02.350359",
     "exception": false,
     "start_time": "2022-12-11T04:58:02.279572",
     "status": "completed"
    },
    "tags": []
   },
   "outputs": [
    {
     "data": {
      "text/html": [
       "<div>\n",
       "<style scoped>\n",
       "    .dataframe tbody tr th:only-of-type {\n",
       "        vertical-align: middle;\n",
       "    }\n",
       "\n",
       "    .dataframe tbody tr th {\n",
       "        vertical-align: top;\n",
       "    }\n",
       "\n",
       "    .dataframe thead th {\n",
       "        text-align: right;\n",
       "    }\n",
       "</style>\n",
       "<table border=\"1\" class=\"dataframe\">\n",
       "  <thead>\n",
       "    <tr style=\"text-align: right;\">\n",
       "      <th></th>\n",
       "      <th>dcoilwtico</th>\n",
       "      <th>ma_oil</th>\n",
       "    </tr>\n",
       "  </thead>\n",
       "  <tbody>\n",
       "    <tr>\n",
       "      <th>2013-01-01</th>\n",
       "      <td>NaN</td>\n",
       "      <td>NaN</td>\n",
       "    </tr>\n",
       "    <tr>\n",
       "      <th>2013-01-02</th>\n",
       "      <td>93.14</td>\n",
       "      <td>NaN</td>\n",
       "    </tr>\n",
       "    <tr>\n",
       "      <th>2013-01-03</th>\n",
       "      <td>92.97</td>\n",
       "      <td>NaN</td>\n",
       "    </tr>\n",
       "    <tr>\n",
       "      <th>2013-01-04</th>\n",
       "      <td>93.12</td>\n",
       "      <td>NaN</td>\n",
       "    </tr>\n",
       "    <tr>\n",
       "      <th>2013-01-05</th>\n",
       "      <td>NaN</td>\n",
       "      <td>NaN</td>\n",
       "    </tr>\n",
       "    <tr>\n",
       "      <th>2013-01-06</th>\n",
       "      <td>NaN</td>\n",
       "      <td>NaN</td>\n",
       "    </tr>\n",
       "    <tr>\n",
       "      <th>2013-01-07</th>\n",
       "      <td>93.20</td>\n",
       "      <td>NaN</td>\n",
       "    </tr>\n",
       "    <tr>\n",
       "      <th>2013-01-08</th>\n",
       "      <td>93.21</td>\n",
       "      <td>NaN</td>\n",
       "    </tr>\n",
       "    <tr>\n",
       "      <th>2013-01-09</th>\n",
       "      <td>93.08</td>\n",
       "      <td>NaN</td>\n",
       "    </tr>\n",
       "    <tr>\n",
       "      <th>2013-01-10</th>\n",
       "      <td>93.81</td>\n",
       "      <td>93.218571</td>\n",
       "    </tr>\n",
       "    <tr>\n",
       "      <th>2013-01-11</th>\n",
       "      <td>93.60</td>\n",
       "      <td>93.284286</td>\n",
       "    </tr>\n",
       "    <tr>\n",
       "      <th>2013-01-12</th>\n",
       "      <td>NaN</td>\n",
       "      <td>93.284286</td>\n",
       "    </tr>\n",
       "    <tr>\n",
       "      <th>2013-01-13</th>\n",
       "      <td>NaN</td>\n",
       "      <td>93.284286</td>\n",
       "    </tr>\n",
       "    <tr>\n",
       "      <th>2013-01-14</th>\n",
       "      <td>94.27</td>\n",
       "      <td>93.470000</td>\n",
       "    </tr>\n",
       "    <tr>\n",
       "      <th>2013-01-15</th>\n",
       "      <td>93.26</td>\n",
       "      <td>93.490000</td>\n",
       "    </tr>\n",
       "  </tbody>\n",
       "</table>\n",
       "</div>"
      ],
      "text/plain": [
       "            dcoilwtico     ma_oil\n",
       "2013-01-01         NaN        NaN\n",
       "2013-01-02       93.14        NaN\n",
       "2013-01-03       92.97        NaN\n",
       "2013-01-04       93.12        NaN\n",
       "2013-01-05         NaN        NaN\n",
       "2013-01-06         NaN        NaN\n",
       "2013-01-07       93.20        NaN\n",
       "2013-01-08       93.21        NaN\n",
       "2013-01-09       93.08        NaN\n",
       "2013-01-10       93.81  93.218571\n",
       "2013-01-11       93.60  93.284286\n",
       "2013-01-12         NaN  93.284286\n",
       "2013-01-13         NaN  93.284286\n",
       "2013-01-14       94.27  93.470000\n",
       "2013-01-15       93.26  93.490000"
      ]
     },
     "execution_count": 3,
     "metadata": {},
     "output_type": "execute_result"
    }
   ],
   "source": [
    "# read oil price\n",
    "data_oil = pd.read_csv(path + 'oil.csv', parse_dates=['date'], infer_datetime_format=True, index_col='date')\n",
    "\n",
    "########################################################################################################################\n",
    "# TODO: compute data_oil['ma_oil'] as the moving average of data_oil['dcoilwtico'] with window size 7\n",
    "# Hint: check the documentation of .rolling() method of pandas.DataFrame\n",
    "########################################################################################################################\n",
    "data_oil['ma_oil'] = None # change 'None' to your answer\n",
    "data_oil['ma_oil'] = data_oil['dcoilwtico'].rolling(7).mean() ### answer\n",
    "\n",
    "\n",
    "\n",
    "# Create continguous moving average of oil prices\n",
    "calendar_LR = pd.DataFrame(index=pd.date_range('2013-01-01', '2017-08-31'))\n",
    "\n",
    "########################################################################################################################\n",
    "# TODO 1: merge two DataFrame instances (data_oil and calendar_LR) such that the merged instances has the same indexes\n",
    "# as calendar_LR.\n",
    "# TODO 2: replace each NaN in data_oil['ma_oil'] by the first non-null value before it.\n",
    "# Hint: check the documentation of .merge() and .fillna() methods of pandas.DataFrame\n",
    "########################################################################################################################\n",
    "calendar_LR = calendar_LR.merge(data_oil, how='left', left_index=True, right_index=True) ### answer\n",
    "calendar_LR['ma_oil'].fillna(method='ffill', inplace=True) ### answer\n",
    "\n",
    "calendar_LR.head(15) # display some entries of calendar_LR"
   ]
  },
  {
   "cell_type": "markdown",
   "id": "c3ce4521",
   "metadata": {
    "papermill": {
     "duration": 0.009287,
     "end_time": "2022-12-11T04:58:02.368719",
     "exception": false,
     "start_time": "2022-12-11T04:58:02.359432",
     "status": "completed"
    },
    "tags": []
   },
   "source": [
    "### 2. Create Workday Feature"
   ]
  },
  {
   "cell_type": "code",
   "execution_count": 4,
   "id": "4bbdef5d",
   "metadata": {
    "execution": {
     "iopub.execute_input": "2022-12-11T04:58:02.388598Z",
     "iopub.status.busy": "2022-12-11T04:58:02.388276Z",
     "iopub.status.idle": "2022-12-11T04:58:02.407111Z",
     "shell.execute_reply": "2022-12-11T04:58:02.406067Z"
    },
    "papermill": {
     "duration": 0.031363,
     "end_time": "2022-12-11T04:58:02.409182",
     "exception": false,
     "start_time": "2022-12-11T04:58:02.377819",
     "status": "completed"
    },
    "tags": []
   },
   "outputs": [
    {
     "data": {
      "text/html": [
       "<div>\n",
       "<style scoped>\n",
       "    .dataframe tbody tr th:only-of-type {\n",
       "        vertical-align: middle;\n",
       "    }\n",
       "\n",
       "    .dataframe tbody tr th {\n",
       "        vertical-align: top;\n",
       "    }\n",
       "\n",
       "    .dataframe thead th {\n",
       "        text-align: right;\n",
       "    }\n",
       "</style>\n",
       "<table border=\"1\" class=\"dataframe\">\n",
       "  <thead>\n",
       "    <tr style=\"text-align: right;\">\n",
       "      <th></th>\n",
       "      <th>dcoilwtico</th>\n",
       "      <th>ma_oil</th>\n",
       "      <th>wd</th>\n",
       "      <th>dofw</th>\n",
       "    </tr>\n",
       "  </thead>\n",
       "  <tbody>\n",
       "    <tr>\n",
       "      <th>2013-01-01</th>\n",
       "      <td>NaN</td>\n",
       "      <td>NaN</td>\n",
       "      <td>True</td>\n",
       "      <td>1</td>\n",
       "    </tr>\n",
       "    <tr>\n",
       "      <th>2013-01-02</th>\n",
       "      <td>93.14</td>\n",
       "      <td>NaN</td>\n",
       "      <td>True</td>\n",
       "      <td>2</td>\n",
       "    </tr>\n",
       "    <tr>\n",
       "      <th>2013-01-03</th>\n",
       "      <td>92.97</td>\n",
       "      <td>NaN</td>\n",
       "      <td>True</td>\n",
       "      <td>3</td>\n",
       "    </tr>\n",
       "    <tr>\n",
       "      <th>2013-01-04</th>\n",
       "      <td>93.12</td>\n",
       "      <td>NaN</td>\n",
       "      <td>True</td>\n",
       "      <td>4</td>\n",
       "    </tr>\n",
       "    <tr>\n",
       "      <th>2013-01-05</th>\n",
       "      <td>NaN</td>\n",
       "      <td>NaN</td>\n",
       "      <td>False</td>\n",
       "      <td>5</td>\n",
       "    </tr>\n",
       "    <tr>\n",
       "      <th>2013-01-06</th>\n",
       "      <td>NaN</td>\n",
       "      <td>NaN</td>\n",
       "      <td>False</td>\n",
       "      <td>6</td>\n",
       "    </tr>\n",
       "    <tr>\n",
       "      <th>2013-01-07</th>\n",
       "      <td>93.20</td>\n",
       "      <td>NaN</td>\n",
       "      <td>True</td>\n",
       "      <td>0</td>\n",
       "    </tr>\n",
       "    <tr>\n",
       "      <th>2013-01-08</th>\n",
       "      <td>93.21</td>\n",
       "      <td>NaN</td>\n",
       "      <td>True</td>\n",
       "      <td>1</td>\n",
       "    </tr>\n",
       "    <tr>\n",
       "      <th>2013-01-09</th>\n",
       "      <td>93.08</td>\n",
       "      <td>NaN</td>\n",
       "      <td>True</td>\n",
       "      <td>2</td>\n",
       "    </tr>\n",
       "    <tr>\n",
       "      <th>2013-01-10</th>\n",
       "      <td>93.81</td>\n",
       "      <td>93.218571</td>\n",
       "      <td>True</td>\n",
       "      <td>3</td>\n",
       "    </tr>\n",
       "    <tr>\n",
       "      <th>2013-01-11</th>\n",
       "      <td>93.60</td>\n",
       "      <td>93.284286</td>\n",
       "      <td>True</td>\n",
       "      <td>4</td>\n",
       "    </tr>\n",
       "    <tr>\n",
       "      <th>2013-01-12</th>\n",
       "      <td>NaN</td>\n",
       "      <td>93.284286</td>\n",
       "      <td>False</td>\n",
       "      <td>5</td>\n",
       "    </tr>\n",
       "    <tr>\n",
       "      <th>2013-01-13</th>\n",
       "      <td>NaN</td>\n",
       "      <td>93.284286</td>\n",
       "      <td>False</td>\n",
       "      <td>6</td>\n",
       "    </tr>\n",
       "    <tr>\n",
       "      <th>2013-01-14</th>\n",
       "      <td>94.27</td>\n",
       "      <td>93.470000</td>\n",
       "      <td>True</td>\n",
       "      <td>0</td>\n",
       "    </tr>\n",
       "    <tr>\n",
       "      <th>2013-01-15</th>\n",
       "      <td>93.26</td>\n",
       "      <td>93.490000</td>\n",
       "      <td>True</td>\n",
       "      <td>1</td>\n",
       "    </tr>\n",
       "  </tbody>\n",
       "</table>\n",
       "</div>"
      ],
      "text/plain": [
       "            dcoilwtico     ma_oil     wd  dofw\n",
       "2013-01-01         NaN        NaN   True     1\n",
       "2013-01-02       93.14        NaN   True     2\n",
       "2013-01-03       92.97        NaN   True     3\n",
       "2013-01-04       93.12        NaN   True     4\n",
       "2013-01-05         NaN        NaN  False     5\n",
       "2013-01-06         NaN        NaN  False     6\n",
       "2013-01-07       93.20        NaN   True     0\n",
       "2013-01-08       93.21        NaN   True     1\n",
       "2013-01-09       93.08        NaN   True     2\n",
       "2013-01-10       93.81  93.218571   True     3\n",
       "2013-01-11       93.60  93.284286   True     4\n",
       "2013-01-12         NaN  93.284286  False     5\n",
       "2013-01-13         NaN  93.284286  False     6\n",
       "2013-01-14       94.27  93.470000   True     0\n",
       "2013-01-15       93.26  93.490000   True     1"
      ]
     },
     "execution_count": 4,
     "metadata": {},
     "output_type": "execute_result"
    }
   ],
   "source": [
    "########################################################################################################################\n",
    "# TODO: create a True/False feature calendar_LR['wd'] to indicate whether each date is a workday (Monday-Friday) or not.\n",
    "# Hint: check documentation of pandas.DatetimeIndex.dayofweek\n",
    "########################################################################################################################\n",
    "calendar_LR['wd'] = None # change 'None' to your answer\n",
    "calendar_LR['dofw'] = calendar_LR.index.dayofweek ### answer\n",
    "calendar_LR['wd'] = True ### answer\n",
    "calendar_LR.loc[calendar_LR.dofw > 4, 'wd'] = False ### answer\n",
    "\n",
    "calendar_LR.head(15) # display some entries of calendar_LR"
   ]
  },
  {
   "cell_type": "markdown",
   "id": "52c06227",
   "metadata": {
    "papermill": {
     "duration": 0.008979,
     "end_time": "2022-12-11T04:58:02.427513",
     "exception": false,
     "start_time": "2022-12-11T04:58:02.418534",
     "status": "completed"
    },
    "tags": []
   },
   "source": [
    "### 3. Read Train and Test Data"
   ]
  },
  {
   "cell_type": "code",
   "execution_count": 5,
   "id": "4fd90b56",
   "metadata": {
    "execution": {
     "iopub.execute_input": "2022-12-11T04:58:02.448330Z",
     "iopub.status.busy": "2022-12-11T04:58:02.447979Z",
     "iopub.status.idle": "2022-12-11T04:58:06.182382Z",
     "shell.execute_reply": "2022-12-11T04:58:06.180927Z"
    },
    "papermill": {
     "duration": 3.748656,
     "end_time": "2022-12-11T04:58:06.185401",
     "exception": false,
     "start_time": "2022-12-11T04:58:02.436745",
     "status": "completed"
    },
    "tags": []
   },
   "outputs": [
    {
     "data": {
      "text/html": [
       "<div>\n",
       "<style scoped>\n",
       "    .dataframe tbody tr th:only-of-type {\n",
       "        vertical-align: middle;\n",
       "    }\n",
       "\n",
       "    .dataframe tbody tr th {\n",
       "        vertical-align: top;\n",
       "    }\n",
       "\n",
       "    .dataframe thead th {\n",
       "        text-align: right;\n",
       "    }\n",
       "</style>\n",
       "<table border=\"1\" class=\"dataframe\">\n",
       "  <thead>\n",
       "    <tr style=\"text-align: right;\">\n",
       "      <th></th>\n",
       "      <th></th>\n",
       "      <th></th>\n",
       "      <th>sales</th>\n",
       "    </tr>\n",
       "    <tr>\n",
       "      <th>store_nbr</th>\n",
       "      <th>family</th>\n",
       "      <th>date</th>\n",
       "      <th></th>\n",
       "    </tr>\n",
       "  </thead>\n",
       "  <tbody>\n",
       "    <tr>\n",
       "      <th rowspan=\"15\" valign=\"top\">1</th>\n",
       "      <th rowspan=\"15\" valign=\"top\">AUTOMOTIVE</th>\n",
       "      <th>2013-01-01</th>\n",
       "      <td>0.0</td>\n",
       "    </tr>\n",
       "    <tr>\n",
       "      <th>2013-01-02</th>\n",
       "      <td>2.0</td>\n",
       "    </tr>\n",
       "    <tr>\n",
       "      <th>2013-01-03</th>\n",
       "      <td>3.0</td>\n",
       "    </tr>\n",
       "    <tr>\n",
       "      <th>2013-01-04</th>\n",
       "      <td>3.0</td>\n",
       "    </tr>\n",
       "    <tr>\n",
       "      <th>2013-01-05</th>\n",
       "      <td>5.0</td>\n",
       "    </tr>\n",
       "    <tr>\n",
       "      <th>2013-01-06</th>\n",
       "      <td>2.0</td>\n",
       "    </tr>\n",
       "    <tr>\n",
       "      <th>2013-01-07</th>\n",
       "      <td>0.0</td>\n",
       "    </tr>\n",
       "    <tr>\n",
       "      <th>2013-01-08</th>\n",
       "      <td>2.0</td>\n",
       "    </tr>\n",
       "    <tr>\n",
       "      <th>2013-01-09</th>\n",
       "      <td>2.0</td>\n",
       "    </tr>\n",
       "    <tr>\n",
       "      <th>2013-01-10</th>\n",
       "      <td>2.0</td>\n",
       "    </tr>\n",
       "    <tr>\n",
       "      <th>2013-01-11</th>\n",
       "      <td>3.0</td>\n",
       "    </tr>\n",
       "    <tr>\n",
       "      <th>2013-01-12</th>\n",
       "      <td>2.0</td>\n",
       "    </tr>\n",
       "    <tr>\n",
       "      <th>2013-01-13</th>\n",
       "      <td>2.0</td>\n",
       "    </tr>\n",
       "    <tr>\n",
       "      <th>2013-01-14</th>\n",
       "      <td>2.0</td>\n",
       "    </tr>\n",
       "    <tr>\n",
       "      <th>2013-01-15</th>\n",
       "      <td>1.0</td>\n",
       "    </tr>\n",
       "  </tbody>\n",
       "</table>\n",
       "</div>"
      ],
      "text/plain": [
       "                                 sales\n",
       "store_nbr family     date             \n",
       "1         AUTOMOTIVE 2013-01-01    0.0\n",
       "                     2013-01-02    2.0\n",
       "                     2013-01-03    3.0\n",
       "                     2013-01-04    3.0\n",
       "                     2013-01-05    5.0\n",
       "                     2013-01-06    2.0\n",
       "                     2013-01-07    0.0\n",
       "                     2013-01-08    2.0\n",
       "                     2013-01-09    2.0\n",
       "                     2013-01-10    2.0\n",
       "                     2013-01-11    3.0\n",
       "                     2013-01-12    2.0\n",
       "                     2013-01-13    2.0\n",
       "                     2013-01-14    2.0\n",
       "                     2013-01-15    1.0"
      ]
     },
     "execution_count": 5,
     "metadata": {},
     "output_type": "execute_result"
    }
   ],
   "source": [
    "df_train = pd.read_csv(path + 'train.csv',\n",
    "                       usecols=['store_nbr', 'family', 'date', 'sales'],\n",
    "                       dtype={'store_nbr': 'category', 'family': 'category', 'sales': 'float32'},\n",
    "                       parse_dates=['date'], infer_datetime_format=True)\n",
    "\n",
    "df_train.date = df_train.date.dt.to_period('D')\n",
    "df_train = df_train.set_index(['store_nbr', 'family', 'date']).sort_index()\n",
    "\n",
    "df_train.head(15) # display some entries of the training data"
   ]
  },
  {
   "cell_type": "code",
   "execution_count": 6,
   "id": "9038c85a",
   "metadata": {
    "execution": {
     "iopub.execute_input": "2022-12-11T04:58:06.209574Z",
     "iopub.status.busy": "2022-12-11T04:58:06.209176Z",
     "iopub.status.idle": "2022-12-11T04:58:06.259218Z",
     "shell.execute_reply": "2022-12-11T04:58:06.257917Z"
    },
    "papermill": {
     "duration": 0.065814,
     "end_time": "2022-12-11T04:58:06.261298",
     "exception": false,
     "start_time": "2022-12-11T04:58:06.195484",
     "status": "completed"
    },
    "tags": []
   },
   "outputs": [
    {
     "data": {
      "text/html": [
       "<div>\n",
       "<style scoped>\n",
       "    .dataframe tbody tr th:only-of-type {\n",
       "        vertical-align: middle;\n",
       "    }\n",
       "\n",
       "    .dataframe tbody tr th {\n",
       "        vertical-align: top;\n",
       "    }\n",
       "\n",
       "    .dataframe thead th {\n",
       "        text-align: right;\n",
       "    }\n",
       "</style>\n",
       "<table border=\"1\" class=\"dataframe\">\n",
       "  <thead>\n",
       "    <tr style=\"text-align: right;\">\n",
       "      <th></th>\n",
       "      <th></th>\n",
       "      <th></th>\n",
       "    </tr>\n",
       "    <tr>\n",
       "      <th>store_nbr</th>\n",
       "      <th>family</th>\n",
       "      <th>date</th>\n",
       "    </tr>\n",
       "  </thead>\n",
       "  <tbody>\n",
       "    <tr>\n",
       "      <th rowspan=\"15\" valign=\"top\">1</th>\n",
       "      <th rowspan=\"15\" valign=\"top\">AUTOMOTIVE</th>\n",
       "      <th>2017-08-16</th>\n",
       "    </tr>\n",
       "    <tr>\n",
       "      <th>2017-08-17</th>\n",
       "    </tr>\n",
       "    <tr>\n",
       "      <th>2017-08-18</th>\n",
       "    </tr>\n",
       "    <tr>\n",
       "      <th>2017-08-19</th>\n",
       "    </tr>\n",
       "    <tr>\n",
       "      <th>2017-08-20</th>\n",
       "    </tr>\n",
       "    <tr>\n",
       "      <th>2017-08-21</th>\n",
       "    </tr>\n",
       "    <tr>\n",
       "      <th>2017-08-22</th>\n",
       "    </tr>\n",
       "    <tr>\n",
       "      <th>2017-08-23</th>\n",
       "    </tr>\n",
       "    <tr>\n",
       "      <th>2017-08-24</th>\n",
       "    </tr>\n",
       "    <tr>\n",
       "      <th>2017-08-25</th>\n",
       "    </tr>\n",
       "    <tr>\n",
       "      <th>2017-08-26</th>\n",
       "    </tr>\n",
       "    <tr>\n",
       "      <th>2017-08-27</th>\n",
       "    </tr>\n",
       "    <tr>\n",
       "      <th>2017-08-28</th>\n",
       "    </tr>\n",
       "    <tr>\n",
       "      <th>2017-08-29</th>\n",
       "    </tr>\n",
       "    <tr>\n",
       "      <th>2017-08-30</th>\n",
       "    </tr>\n",
       "  </tbody>\n",
       "</table>\n",
       "</div>"
      ],
      "text/plain": [
       "Empty DataFrame\n",
       "Columns: []\n",
       "Index: [(1, AUTOMOTIVE, 2017-08-16), (1, AUTOMOTIVE, 2017-08-17), (1, AUTOMOTIVE, 2017-08-18), (1, AUTOMOTIVE, 2017-08-19), (1, AUTOMOTIVE, 2017-08-20), (1, AUTOMOTIVE, 2017-08-21), (1, AUTOMOTIVE, 2017-08-22), (1, AUTOMOTIVE, 2017-08-23), (1, AUTOMOTIVE, 2017-08-24), (1, AUTOMOTIVE, 2017-08-25), (1, AUTOMOTIVE, 2017-08-26), (1, AUTOMOTIVE, 2017-08-27), (1, AUTOMOTIVE, 2017-08-28), (1, AUTOMOTIVE, 2017-08-29), (1, AUTOMOTIVE, 2017-08-30)]"
      ]
     },
     "execution_count": 6,
     "metadata": {},
     "output_type": "execute_result"
    }
   ],
   "source": [
    "df_test = pd.read_csv(path + 'test.csv',\n",
    "                      usecols=['store_nbr', 'family', 'date'],\n",
    "                      dtype={'store_nbr': 'category', 'family': 'category'},\n",
    "                      parse_dates=['date'], infer_datetime_format=True)\n",
    "\n",
    "df_test.date = df_test.date.dt.to_period('D')\n",
    "df_test = df_test.set_index(['store_nbr', 'family', 'date']).sort_index()\n",
    "\n",
    "df_test.head(15) # display some entries of the testing data"
   ]
  },
  {
   "cell_type": "code",
   "execution_count": 7,
   "id": "58915cb7",
   "metadata": {
    "execution": {
     "iopub.execute_input": "2022-12-11T04:58:06.281937Z",
     "iopub.status.busy": "2022-12-11T04:58:06.281638Z",
     "iopub.status.idle": "2022-12-11T04:58:07.128597Z",
     "shell.execute_reply": "2022-12-11T04:58:07.127655Z"
    },
    "papermill": {
     "duration": 0.859362,
     "end_time": "2022-12-11T04:58:07.130382",
     "exception": false,
     "start_time": "2022-12-11T04:58:06.271020",
     "status": "completed"
    },
    "tags": []
   },
   "outputs": [
    {
     "data": {
      "text/html": [
       "<div>\n",
       "<style scoped>\n",
       "    .dataframe tbody tr th:only-of-type {\n",
       "        vertical-align: middle;\n",
       "    }\n",
       "\n",
       "    .dataframe tbody tr th {\n",
       "        vertical-align: top;\n",
       "    }\n",
       "\n",
       "    .dataframe thead th {\n",
       "        text-align: right;\n",
       "    }\n",
       "</style>\n",
       "<table border=\"1\" class=\"dataframe\">\n",
       "  <thead>\n",
       "    <tr style=\"text-align: right;\">\n",
       "      <th></th>\n",
       "      <th>trend</th>\n",
       "      <th>sin(1,freq=W-SUN)</th>\n",
       "      <th>cos(1,freq=W-SUN)</th>\n",
       "      <th>sin(2,freq=W-SUN)</th>\n",
       "      <th>cos(2,freq=W-SUN)</th>\n",
       "      <th>sin(3,freq=W-SUN)</th>\n",
       "      <th>cos(3,freq=W-SUN)</th>\n",
       "      <th>oil</th>\n",
       "      <th>wd</th>\n",
       "    </tr>\n",
       "    <tr>\n",
       "      <th>date</th>\n",
       "      <th></th>\n",
       "      <th></th>\n",
       "      <th></th>\n",
       "      <th></th>\n",
       "      <th></th>\n",
       "      <th></th>\n",
       "      <th></th>\n",
       "      <th></th>\n",
       "      <th></th>\n",
       "    </tr>\n",
       "  </thead>\n",
       "  <tbody>\n",
       "    <tr>\n",
       "      <th>2017-04-01</th>\n",
       "      <td>1.0</td>\n",
       "      <td>-0.974928</td>\n",
       "      <td>-0.222521</td>\n",
       "      <td>0.433884</td>\n",
       "      <td>-0.900969</td>\n",
       "      <td>0.781831</td>\n",
       "      <td>0.623490</td>\n",
       "      <td>48.570000</td>\n",
       "      <td>False</td>\n",
       "    </tr>\n",
       "    <tr>\n",
       "      <th>2017-04-02</th>\n",
       "      <td>2.0</td>\n",
       "      <td>-0.781831</td>\n",
       "      <td>0.623490</td>\n",
       "      <td>-0.974928</td>\n",
       "      <td>-0.222521</td>\n",
       "      <td>-0.433884</td>\n",
       "      <td>-0.900969</td>\n",
       "      <td>48.570000</td>\n",
       "      <td>False</td>\n",
       "    </tr>\n",
       "    <tr>\n",
       "      <th>2017-04-03</th>\n",
       "      <td>3.0</td>\n",
       "      <td>0.000000</td>\n",
       "      <td>1.000000</td>\n",
       "      <td>0.000000</td>\n",
       "      <td>1.000000</td>\n",
       "      <td>0.000000</td>\n",
       "      <td>1.000000</td>\n",
       "      <td>49.034286</td>\n",
       "      <td>True</td>\n",
       "    </tr>\n",
       "    <tr>\n",
       "      <th>2017-04-04</th>\n",
       "      <td>4.0</td>\n",
       "      <td>0.781831</td>\n",
       "      <td>0.623490</td>\n",
       "      <td>0.974928</td>\n",
       "      <td>-0.222521</td>\n",
       "      <td>0.433884</td>\n",
       "      <td>-0.900969</td>\n",
       "      <td>49.561429</td>\n",
       "      <td>True</td>\n",
       "    </tr>\n",
       "    <tr>\n",
       "      <th>2017-04-05</th>\n",
       "      <td>5.0</td>\n",
       "      <td>0.974928</td>\n",
       "      <td>-0.222521</td>\n",
       "      <td>-0.433884</td>\n",
       "      <td>-0.900969</td>\n",
       "      <td>-0.781831</td>\n",
       "      <td>0.623490</td>\n",
       "      <td>50.150000</td>\n",
       "      <td>True</td>\n",
       "    </tr>\n",
       "    <tr>\n",
       "      <th>2017-04-06</th>\n",
       "      <td>6.0</td>\n",
       "      <td>0.433884</td>\n",
       "      <td>-0.900969</td>\n",
       "      <td>-0.781831</td>\n",
       "      <td>0.623490</td>\n",
       "      <td>0.974928</td>\n",
       "      <td>-0.222521</td>\n",
       "      <td>50.625714</td>\n",
       "      <td>True</td>\n",
       "    </tr>\n",
       "    <tr>\n",
       "      <th>2017-04-07</th>\n",
       "      <td>7.0</td>\n",
       "      <td>-0.433884</td>\n",
       "      <td>-0.900969</td>\n",
       "      <td>0.781831</td>\n",
       "      <td>0.623490</td>\n",
       "      <td>-0.974928</td>\n",
       "      <td>-0.222521</td>\n",
       "      <td>51.022857</td>\n",
       "      <td>True</td>\n",
       "    </tr>\n",
       "    <tr>\n",
       "      <th>2017-04-08</th>\n",
       "      <td>8.0</td>\n",
       "      <td>-0.974928</td>\n",
       "      <td>-0.222521</td>\n",
       "      <td>0.433884</td>\n",
       "      <td>-0.900969</td>\n",
       "      <td>0.781831</td>\n",
       "      <td>0.623490</td>\n",
       "      <td>51.022857</td>\n",
       "      <td>False</td>\n",
       "    </tr>\n",
       "    <tr>\n",
       "      <th>2017-04-09</th>\n",
       "      <td>9.0</td>\n",
       "      <td>-0.781831</td>\n",
       "      <td>0.623490</td>\n",
       "      <td>-0.974928</td>\n",
       "      <td>-0.222521</td>\n",
       "      <td>-0.433884</td>\n",
       "      <td>-0.900969</td>\n",
       "      <td>51.022857</td>\n",
       "      <td>False</td>\n",
       "    </tr>\n",
       "    <tr>\n",
       "      <th>2017-04-10</th>\n",
       "      <td>10.0</td>\n",
       "      <td>0.000000</td>\n",
       "      <td>1.000000</td>\n",
       "      <td>0.000000</td>\n",
       "      <td>1.000000</td>\n",
       "      <td>0.000000</td>\n",
       "      <td>1.000000</td>\n",
       "      <td>51.417143</td>\n",
       "      <td>True</td>\n",
       "    </tr>\n",
       "    <tr>\n",
       "      <th>2017-04-11</th>\n",
       "      <td>11.0</td>\n",
       "      <td>0.781831</td>\n",
       "      <td>0.623490</td>\n",
       "      <td>0.974928</td>\n",
       "      <td>-0.222521</td>\n",
       "      <td>0.433884</td>\n",
       "      <td>-0.900969</td>\n",
       "      <td>51.822857</td>\n",
       "      <td>True</td>\n",
       "    </tr>\n",
       "    <tr>\n",
       "      <th>2017-04-12</th>\n",
       "      <td>12.0</td>\n",
       "      <td>0.974928</td>\n",
       "      <td>-0.222521</td>\n",
       "      <td>-0.433884</td>\n",
       "      <td>-0.900969</td>\n",
       "      <td>-0.781831</td>\n",
       "      <td>0.623490</td>\n",
       "      <td>52.232857</td>\n",
       "      <td>True</td>\n",
       "    </tr>\n",
       "    <tr>\n",
       "      <th>2017-04-13</th>\n",
       "      <td>13.0</td>\n",
       "      <td>0.433884</td>\n",
       "      <td>-0.900969</td>\n",
       "      <td>-0.781831</td>\n",
       "      <td>0.623490</td>\n",
       "      <td>0.974928</td>\n",
       "      <td>-0.222521</td>\n",
       "      <td>52.547143</td>\n",
       "      <td>True</td>\n",
       "    </tr>\n",
       "    <tr>\n",
       "      <th>2017-04-14</th>\n",
       "      <td>14.0</td>\n",
       "      <td>-0.433884</td>\n",
       "      <td>-0.900969</td>\n",
       "      <td>0.781831</td>\n",
       "      <td>0.623490</td>\n",
       "      <td>-0.974928</td>\n",
       "      <td>-0.222521</td>\n",
       "      <td>52.547143</td>\n",
       "      <td>True</td>\n",
       "    </tr>\n",
       "    <tr>\n",
       "      <th>2017-04-15</th>\n",
       "      <td>15.0</td>\n",
       "      <td>-0.974928</td>\n",
       "      <td>-0.222521</td>\n",
       "      <td>0.433884</td>\n",
       "      <td>-0.900969</td>\n",
       "      <td>0.781831</td>\n",
       "      <td>0.623490</td>\n",
       "      <td>52.547143</td>\n",
       "      <td>False</td>\n",
       "    </tr>\n",
       "  </tbody>\n",
       "</table>\n",
       "</div>"
      ],
      "text/plain": [
       "            trend  sin(1,freq=W-SUN)  cos(1,freq=W-SUN)  sin(2,freq=W-SUN)  \\\n",
       "date                                                                         \n",
       "2017-04-01    1.0          -0.974928          -0.222521           0.433884   \n",
       "2017-04-02    2.0          -0.781831           0.623490          -0.974928   \n",
       "2017-04-03    3.0           0.000000           1.000000           0.000000   \n",
       "2017-04-04    4.0           0.781831           0.623490           0.974928   \n",
       "2017-04-05    5.0           0.974928          -0.222521          -0.433884   \n",
       "2017-04-06    6.0           0.433884          -0.900969          -0.781831   \n",
       "2017-04-07    7.0          -0.433884          -0.900969           0.781831   \n",
       "2017-04-08    8.0          -0.974928          -0.222521           0.433884   \n",
       "2017-04-09    9.0          -0.781831           0.623490          -0.974928   \n",
       "2017-04-10   10.0           0.000000           1.000000           0.000000   \n",
       "2017-04-11   11.0           0.781831           0.623490           0.974928   \n",
       "2017-04-12   12.0           0.974928          -0.222521          -0.433884   \n",
       "2017-04-13   13.0           0.433884          -0.900969          -0.781831   \n",
       "2017-04-14   14.0          -0.433884          -0.900969           0.781831   \n",
       "2017-04-15   15.0          -0.974928          -0.222521           0.433884   \n",
       "\n",
       "            cos(2,freq=W-SUN)  sin(3,freq=W-SUN)  cos(3,freq=W-SUN)  \\\n",
       "date                                                                  \n",
       "2017-04-01          -0.900969           0.781831           0.623490   \n",
       "2017-04-02          -0.222521          -0.433884          -0.900969   \n",
       "2017-04-03           1.000000           0.000000           1.000000   \n",
       "2017-04-04          -0.222521           0.433884          -0.900969   \n",
       "2017-04-05          -0.900969          -0.781831           0.623490   \n",
       "2017-04-06           0.623490           0.974928          -0.222521   \n",
       "2017-04-07           0.623490          -0.974928          -0.222521   \n",
       "2017-04-08          -0.900969           0.781831           0.623490   \n",
       "2017-04-09          -0.222521          -0.433884          -0.900969   \n",
       "2017-04-10           1.000000           0.000000           1.000000   \n",
       "2017-04-11          -0.222521           0.433884          -0.900969   \n",
       "2017-04-12          -0.900969          -0.781831           0.623490   \n",
       "2017-04-13           0.623490           0.974928          -0.222521   \n",
       "2017-04-14           0.623490          -0.974928          -0.222521   \n",
       "2017-04-15          -0.900969           0.781831           0.623490   \n",
       "\n",
       "                  oil     wd  \n",
       "date                          \n",
       "2017-04-01  48.570000  False  \n",
       "2017-04-02  48.570000  False  \n",
       "2017-04-03  49.034286   True  \n",
       "2017-04-04  49.561429   True  \n",
       "2017-04-05  50.150000   True  \n",
       "2017-04-06  50.625714   True  \n",
       "2017-04-07  51.022857   True  \n",
       "2017-04-08  51.022857  False  \n",
       "2017-04-09  51.022857  False  \n",
       "2017-04-10  51.417143   True  \n",
       "2017-04-11  51.822857   True  \n",
       "2017-04-12  52.232857   True  \n",
       "2017-04-13  52.547143   True  \n",
       "2017-04-14  52.547143   True  \n",
       "2017-04-15  52.547143  False  "
      ]
     },
     "execution_count": 7,
     "metadata": {},
     "output_type": "execute_result"
    }
   ],
   "source": [
    "# set the range of data used in training\n",
    "sdate = '2017-04-01'\n",
    "edate = '2017-08-15'\n",
    "\n",
    "# we will train a model that takes feature of a date as input and predicts the sales for each store and family of goods on that date.\n",
    "y = df_train.unstack(['store_nbr', 'family']).loc[sdate:edate]\n",
    "\n",
    "\n",
    "########################################################################################################################\n",
    "# TODO: create the trend feature X_LR: the value for sdate is 1, the value for the next day of sdate is 2, etc.\n",
    "# Hint: check the documentation of DeterministicProcess, or this tutorial: https://www.kaggle.com/code/ryanholbrook/trend.\n",
    "########################################################################################################################\n",
    "X_LR = None # change 'None' to your answer\n",
    "fourier = CalendarFourier(freq='W', order=4)\n",
    "dp = DeterministicProcess(index=y.index,\n",
    "                          constant=False,\n",
    "                          order=1,\n",
    "                          seasonal=False,\n",
    "                          additional_terms=[fourier],\n",
    "                          drop=True)\n",
    "X_LR = dp.in_sample() ### answer\n",
    "\n",
    "# Extentions\n",
    "X_LR['oil']  = calendar_LR.loc[sdate:edate]['ma_oil'].values\n",
    "X_LR['wd']   = calendar_LR.loc[sdate:edate]['wd'].values\n",
    "\n",
    "X_LR.head(15)"
   ]
  },
  {
   "cell_type": "markdown",
   "id": "b1c1b9bd",
   "metadata": {
    "papermill": {
     "duration": 0.009458,
     "end_time": "2022-12-11T04:58:07.150189",
     "exception": false,
     "start_time": "2022-12-11T04:58:07.140731",
     "status": "completed"
    },
    "tags": []
   },
   "source": [
    "### 4. Train Model!"
   ]
  },
  {
   "cell_type": "code",
   "execution_count": 8,
   "id": "4e5150a4",
   "metadata": {
    "execution": {
     "iopub.execute_input": "2022-12-11T04:58:07.172186Z",
     "iopub.status.busy": "2022-12-11T04:58:07.171409Z",
     "iopub.status.idle": "2022-12-11T04:58:07.207311Z",
     "shell.execute_reply": "2022-12-11T04:58:07.206536Z"
    },
    "papermill": {
     "duration": 0.052695,
     "end_time": "2022-12-11T04:58:07.212833",
     "exception": false,
     "start_time": "2022-12-11T04:58:07.160138",
     "status": "completed"
    },
    "tags": []
   },
   "outputs": [
    {
     "name": "stderr",
     "output_type": "stream",
     "text": [
      "/opt/conda/lib/python3.7/site-packages/sklearn/linear_model/_base.py:145: FutureWarning: 'normalize' was deprecated in version 1.0 and will be removed in 1.2.\n",
      "If you wish to scale the data, use Pipeline with a StandardScaler in a preprocessing stage. To reproduce the previous behavior:\n",
      "\n",
      "from sklearn.pipeline import make_pipeline\n",
      "\n",
      "model = make_pipeline(StandardScaler(with_mean=False), Ridge())\n",
      "\n",
      "If you wish to pass a sample_weight parameter, you need to pass it as a fit parameter to each step of the pipeline as follows:\n",
      "\n",
      "kwargs = {s[0] + '__sample_weight': sample_weight for s in model.steps}\n",
      "model.fit(X, y, **kwargs)\n",
      "\n",
      "Set parameter alpha to: original_alpha * n_samples. \n",
      "  FutureWarning,\n"
     ]
    }
   ],
   "source": [
    "model = Ridge(fit_intercept=True, solver='svd', alpha=0.5, normalize=True)\n",
    "model.fit(X_LR, y)\n",
    "y_pred = pd.DataFrame(model.predict(X_LR), index=X_LR.index, columns=y.columns)"
   ]
  },
  {
   "cell_type": "code",
   "execution_count": 9,
   "id": "fdb605e0",
   "metadata": {
    "execution": {
     "iopub.execute_input": "2022-12-11T04:58:07.242649Z",
     "iopub.status.busy": "2022-12-11T04:58:07.241809Z",
     "iopub.status.idle": "2022-12-11T04:58:07.438461Z",
     "shell.execute_reply": "2022-12-11T04:58:07.437281Z"
    },
    "papermill": {
     "duration": 0.213389,
     "end_time": "2022-12-11T04:58:07.441093",
     "exception": false,
     "start_time": "2022-12-11T04:58:07.227704",
     "status": "completed"
    },
    "tags": []
   },
   "outputs": [],
   "source": [
    "# Results on the training set\n",
    "\n",
    "y_pred   = y_pred.stack(['store_nbr', 'family']).reset_index()\n",
    "y_target = y.stack(['store_nbr', 'family']).reset_index().copy()\n",
    "\n",
    "y_target['sales_pred'] = y_pred['sales'].clip(0.) # Sales should be >= 0\n",
    "\n",
    "########################################################################################################################\n",
    "# TODO: show the training loss for each type of product.\n",
    "# Hint: check the documentation of DataFrame.groupby() and GroupBy.apply().\n",
    "########################################################################################################################\n",
    "LR_result = y_target.groupby('family').apply(lambda r: mean_squared_log_error(r['sales'], r['sales_pred'])) ### answer"
   ]
  },
  {
   "cell_type": "markdown",
   "id": "16ece7c3",
   "metadata": {
    "papermill": {
     "duration": 0.009924,
     "end_time": "2022-12-11T04:58:07.461294",
     "exception": false,
     "start_time": "2022-12-11T04:58:07.451370",
     "status": "completed"
    },
    "tags": []
   },
   "source": [
    "# RF"
   ]
  },
  {
   "cell_type": "markdown",
   "id": "e1f28b1f",
   "metadata": {
    "papermill": {
     "duration": 0.010332,
     "end_time": "2022-12-11T04:58:07.481891",
     "exception": false,
     "start_time": "2022-12-11T04:58:07.471559",
     "status": "completed"
    },
    "tags": []
   },
   "source": [
    "## Feature Engineering"
   ]
  },
  {
   "cell_type": "code",
   "execution_count": 10,
   "id": "91703ef4",
   "metadata": {
    "execution": {
     "iopub.execute_input": "2022-12-11T04:58:07.503369Z",
     "iopub.status.busy": "2022-12-11T04:58:07.502987Z",
     "iopub.status.idle": "2022-12-11T04:58:07.508231Z",
     "shell.execute_reply": "2022-12-11T04:58:07.507407Z"
    },
    "papermill": {
     "duration": 0.018438,
     "end_time": "2022-12-11T04:58:07.510386",
     "exception": false,
     "start_time": "2022-12-11T04:58:07.491948",
     "status": "completed"
    },
    "tags": []
   },
   "outputs": [],
   "source": [
    "calendar = pd.DataFrame(index=pd.date_range('2013-01-01', '2017-08-31'))"
   ]
  },
  {
   "cell_type": "markdown",
   "id": "28d230d5",
   "metadata": {
    "papermill": {
     "duration": 0.010697,
     "end_time": "2022-12-11T04:58:07.531623",
     "exception": false,
     "start_time": "2022-12-11T04:58:07.520926",
     "status": "completed"
    },
    "tags": []
   },
   "source": [
    "## Oil"
   ]
  },
  {
   "cell_type": "code",
   "execution_count": 11,
   "id": "7022de0e",
   "metadata": {
    "execution": {
     "iopub.execute_input": "2022-12-11T04:58:07.553840Z",
     "iopub.status.busy": "2022-12-11T04:58:07.553475Z",
     "iopub.status.idle": "2022-12-11T04:58:07.572846Z",
     "shell.execute_reply": "2022-12-11T04:58:07.572091Z"
    },
    "id": "e88ac138",
    "papermill": {
     "duration": 0.033209,
     "end_time": "2022-12-11T04:58:07.575565",
     "exception": false,
     "start_time": "2022-12-11T04:58:07.542356",
     "status": "completed"
    },
    "tags": []
   },
   "outputs": [
    {
     "data": {
      "text/html": [
       "<div>\n",
       "<style scoped>\n",
       "    .dataframe tbody tr th:only-of-type {\n",
       "        vertical-align: middle;\n",
       "    }\n",
       "\n",
       "    .dataframe tbody tr th {\n",
       "        vertical-align: top;\n",
       "    }\n",
       "\n",
       "    .dataframe thead th {\n",
       "        text-align: right;\n",
       "    }\n",
       "</style>\n",
       "<table border=\"1\" class=\"dataframe\">\n",
       "  <thead>\n",
       "    <tr style=\"text-align: right;\">\n",
       "      <th></th>\n",
       "      <th>dcoilwtico</th>\n",
       "      <th>ma_oil</th>\n",
       "    </tr>\n",
       "  </thead>\n",
       "  <tbody>\n",
       "    <tr>\n",
       "      <th>2013-01-01</th>\n",
       "      <td>NaN</td>\n",
       "      <td>93.218571</td>\n",
       "    </tr>\n",
       "    <tr>\n",
       "      <th>2013-01-02</th>\n",
       "      <td>93.14</td>\n",
       "      <td>93.218571</td>\n",
       "    </tr>\n",
       "    <tr>\n",
       "      <th>2013-01-03</th>\n",
       "      <td>92.97</td>\n",
       "      <td>93.218571</td>\n",
       "    </tr>\n",
       "    <tr>\n",
       "      <th>2013-01-04</th>\n",
       "      <td>93.12</td>\n",
       "      <td>93.218571</td>\n",
       "    </tr>\n",
       "    <tr>\n",
       "      <th>2013-01-05</th>\n",
       "      <td>NaN</td>\n",
       "      <td>93.218571</td>\n",
       "    </tr>\n",
       "  </tbody>\n",
       "</table>\n",
       "</div>"
      ],
      "text/plain": [
       "            dcoilwtico     ma_oil\n",
       "2013-01-01         NaN  93.218571\n",
       "2013-01-02       93.14  93.218571\n",
       "2013-01-03       92.97  93.218571\n",
       "2013-01-04       93.12  93.218571\n",
       "2013-01-05         NaN  93.218571"
      ]
     },
     "execution_count": 11,
     "metadata": {},
     "output_type": "execute_result"
    }
   ],
   "source": [
    "df_oil = pd.read_csv(path + 'oil.csv', parse_dates=['date'], infer_datetime_format=True, index_col='date')\n",
    "df_oil['ma_oil'] = df_oil['dcoilwtico'].rolling(7).mean()\n",
    "calendar = calendar.merge(df_oil, how='left', left_index=True, right_index=True)\n",
    "calendar['ma_oil'].fillna(method='bfill', inplace=True)\n",
    "calendar.head()"
   ]
  },
  {
   "cell_type": "markdown",
   "id": "4c0a819e",
   "metadata": {
    "papermill": {
     "duration": 0.00983,
     "end_time": "2022-12-11T04:58:07.595663",
     "exception": false,
     "start_time": "2022-12-11T04:58:07.585833",
     "status": "completed"
    },
    "tags": []
   },
   "source": [
    "## Day of week"
   ]
  },
  {
   "cell_type": "code",
   "execution_count": 12,
   "id": "f1f18428",
   "metadata": {
    "execution": {
     "iopub.execute_input": "2022-12-11T04:58:07.617554Z",
     "iopub.status.busy": "2022-12-11T04:58:07.617203Z",
     "iopub.status.idle": "2022-12-11T04:58:07.628878Z",
     "shell.execute_reply": "2022-12-11T04:58:07.627888Z"
    },
    "id": "7df95f13",
    "papermill": {
     "duration": 0.025069,
     "end_time": "2022-12-11T04:58:07.630739",
     "exception": false,
     "start_time": "2022-12-11T04:58:07.605670",
     "status": "completed"
    },
    "tags": []
   },
   "outputs": [
    {
     "data": {
      "text/html": [
       "<div>\n",
       "<style scoped>\n",
       "    .dataframe tbody tr th:only-of-type {\n",
       "        vertical-align: middle;\n",
       "    }\n",
       "\n",
       "    .dataframe tbody tr th {\n",
       "        vertical-align: top;\n",
       "    }\n",
       "\n",
       "    .dataframe thead th {\n",
       "        text-align: right;\n",
       "    }\n",
       "</style>\n",
       "<table border=\"1\" class=\"dataframe\">\n",
       "  <thead>\n",
       "    <tr style=\"text-align: right;\">\n",
       "      <th></th>\n",
       "      <th>dcoilwtico</th>\n",
       "      <th>ma_oil</th>\n",
       "      <th>dow</th>\n",
       "    </tr>\n",
       "  </thead>\n",
       "  <tbody>\n",
       "    <tr>\n",
       "      <th>2013-01-01</th>\n",
       "      <td>NaN</td>\n",
       "      <td>93.218571</td>\n",
       "      <td>1</td>\n",
       "    </tr>\n",
       "    <tr>\n",
       "      <th>2013-01-02</th>\n",
       "      <td>93.14</td>\n",
       "      <td>93.218571</td>\n",
       "      <td>2</td>\n",
       "    </tr>\n",
       "    <tr>\n",
       "      <th>2013-01-03</th>\n",
       "      <td>92.97</td>\n",
       "      <td>93.218571</td>\n",
       "      <td>3</td>\n",
       "    </tr>\n",
       "    <tr>\n",
       "      <th>2013-01-04</th>\n",
       "      <td>93.12</td>\n",
       "      <td>93.218571</td>\n",
       "      <td>4</td>\n",
       "    </tr>\n",
       "    <tr>\n",
       "      <th>2013-01-05</th>\n",
       "      <td>NaN</td>\n",
       "      <td>93.218571</td>\n",
       "      <td>5</td>\n",
       "    </tr>\n",
       "  </tbody>\n",
       "</table>\n",
       "</div>"
      ],
      "text/plain": [
       "            dcoilwtico     ma_oil  dow\n",
       "2013-01-01         NaN  93.218571    1\n",
       "2013-01-02       93.14  93.218571    2\n",
       "2013-01-03       92.97  93.218571    3\n",
       "2013-01-04       93.12  93.218571    4\n",
       "2013-01-05         NaN  93.218571    5"
      ]
     },
     "execution_count": 12,
     "metadata": {},
     "output_type": "execute_result"
    }
   ],
   "source": [
    "calendar['dow'] = calendar.index.dayofweek\n",
    "calendar.head()"
   ]
  },
  {
   "cell_type": "markdown",
   "id": "41358c4c",
   "metadata": {
    "papermill": {
     "duration": 0.010061,
     "end_time": "2022-12-11T04:58:07.651546",
     "exception": false,
     "start_time": "2022-12-11T04:58:07.641485",
     "status": "completed"
    },
    "tags": []
   },
   "source": [
    "## Hoilday"
   ]
  },
  {
   "cell_type": "code",
   "execution_count": 13,
   "id": "31aa4911",
   "metadata": {
    "execution": {
     "iopub.execute_input": "2022-12-11T04:58:07.673975Z",
     "iopub.status.busy": "2022-12-11T04:58:07.673607Z",
     "iopub.status.idle": "2022-12-11T04:58:07.694669Z",
     "shell.execute_reply": "2022-12-11T04:58:07.693774Z"
    },
    "id": "fd75fe40",
    "papermill": {
     "duration": 0.034784,
     "end_time": "2022-12-11T04:58:07.696629",
     "exception": false,
     "start_time": "2022-12-11T04:58:07.661845",
     "status": "completed"
    },
    "tags": []
   },
   "outputs": [
    {
     "data": {
      "text/html": [
       "<div>\n",
       "<style scoped>\n",
       "    .dataframe tbody tr th:only-of-type {\n",
       "        vertical-align: middle;\n",
       "    }\n",
       "\n",
       "    .dataframe tbody tr th {\n",
       "        vertical-align: top;\n",
       "    }\n",
       "\n",
       "    .dataframe thead th {\n",
       "        text-align: right;\n",
       "    }\n",
       "</style>\n",
       "<table border=\"1\" class=\"dataframe\">\n",
       "  <thead>\n",
       "    <tr style=\"text-align: right;\">\n",
       "      <th></th>\n",
       "      <th>type</th>\n",
       "      <th>locale</th>\n",
       "      <th>locale_name</th>\n",
       "      <th>description</th>\n",
       "      <th>transferred</th>\n",
       "    </tr>\n",
       "    <tr>\n",
       "      <th>date</th>\n",
       "      <th></th>\n",
       "      <th></th>\n",
       "      <th></th>\n",
       "      <th></th>\n",
       "      <th></th>\n",
       "    </tr>\n",
       "  </thead>\n",
       "  <tbody>\n",
       "    <tr>\n",
       "      <th>2012-08-10</th>\n",
       "      <td>Holiday</td>\n",
       "      <td>National</td>\n",
       "      <td>Ecuador</td>\n",
       "      <td>Primer Grito de Independencia</td>\n",
       "      <td>False</td>\n",
       "    </tr>\n",
       "    <tr>\n",
       "      <th>2012-10-09</th>\n",
       "      <td>Holiday</td>\n",
       "      <td>National</td>\n",
       "      <td>Ecuador</td>\n",
       "      <td>Independencia de Guayaquil</td>\n",
       "      <td>True</td>\n",
       "    </tr>\n",
       "    <tr>\n",
       "      <th>2012-10-12</th>\n",
       "      <td>Transfer</td>\n",
       "      <td>National</td>\n",
       "      <td>Ecuador</td>\n",
       "      <td>Traslado Independencia de Guayaquil</td>\n",
       "      <td>False</td>\n",
       "    </tr>\n",
       "    <tr>\n",
       "      <th>2012-11-02</th>\n",
       "      <td>Holiday</td>\n",
       "      <td>National</td>\n",
       "      <td>Ecuador</td>\n",
       "      <td>Dia de Difuntos</td>\n",
       "      <td>False</td>\n",
       "    </tr>\n",
       "    <tr>\n",
       "      <th>2012-11-03</th>\n",
       "      <td>Holiday</td>\n",
       "      <td>National</td>\n",
       "      <td>Ecuador</td>\n",
       "      <td>Independencia de Cuenca</td>\n",
       "      <td>False</td>\n",
       "    </tr>\n",
       "  </tbody>\n",
       "</table>\n",
       "</div>"
      ],
      "text/plain": [
       "                type    locale locale_name  \\\n",
       "date                                         \n",
       "2012-08-10   Holiday  National     Ecuador   \n",
       "2012-10-09   Holiday  National     Ecuador   \n",
       "2012-10-12  Transfer  National     Ecuador   \n",
       "2012-11-02   Holiday  National     Ecuador   \n",
       "2012-11-03   Holiday  National     Ecuador   \n",
       "\n",
       "                                    description  transferred  \n",
       "date                                                          \n",
       "2012-08-10        Primer Grito de Independencia        False  \n",
       "2012-10-09           Independencia de Guayaquil         True  \n",
       "2012-10-12  Traslado Independencia de Guayaquil        False  \n",
       "2012-11-02                      Dia de Difuntos        False  \n",
       "2012-11-03              Independencia de Cuenca        False  "
      ]
     },
     "execution_count": 13,
     "metadata": {},
     "output_type": "execute_result"
    }
   ],
   "source": [
    "holidays = pd.read_csv(path + 'holidays_events.csv', parse_dates=['date'], infer_datetime_format=True)\n",
    "holidays = holidays.set_index('date').sort_index()\n",
    "holidays = holidays[holidays.locale == 'National'] # National level only for simplicity\n",
    "#holidays = holidays.groupby(holidays.index).first() # Keep one event only\n",
    "holidays.head()"
   ]
  },
  {
   "cell_type": "markdown",
   "id": "81c6eaf0",
   "metadata": {
    "papermill": {
     "duration": 0.010626,
     "end_time": "2022-12-11T04:58:07.718189",
     "exception": false,
     "start_time": "2022-12-11T04:58:07.707563",
     "status": "completed"
    },
    "tags": []
   },
   "source": [
    "## Work Day"
   ]
  },
  {
   "cell_type": "code",
   "execution_count": 14,
   "id": "f2443bda",
   "metadata": {
    "execution": {
     "iopub.execute_input": "2022-12-11T04:58:07.741855Z",
     "iopub.status.busy": "2022-12-11T04:58:07.741489Z",
     "iopub.status.idle": "2022-12-11T04:58:07.769030Z",
     "shell.execute_reply": "2022-12-11T04:58:07.768173Z"
    },
    "id": "8c90d5da",
    "papermill": {
     "duration": 0.041568,
     "end_time": "2022-12-11T04:58:07.771127",
     "exception": false,
     "start_time": "2022-12-11T04:58:07.729559",
     "status": "completed"
    },
    "tags": []
   },
   "outputs": [
    {
     "data": {
      "text/html": [
       "<div>\n",
       "<style scoped>\n",
       "    .dataframe tbody tr th:only-of-type {\n",
       "        vertical-align: middle;\n",
       "    }\n",
       "\n",
       "    .dataframe tbody tr th {\n",
       "        vertical-align: top;\n",
       "    }\n",
       "\n",
       "    .dataframe thead th {\n",
       "        text-align: right;\n",
       "    }\n",
       "</style>\n",
       "<table border=\"1\" class=\"dataframe\">\n",
       "  <thead>\n",
       "    <tr style=\"text-align: right;\">\n",
       "      <th></th>\n",
       "      <th>dcoilwtico</th>\n",
       "      <th>ma_oil</th>\n",
       "      <th>dow</th>\n",
       "      <th>wd</th>\n",
       "      <th>type</th>\n",
       "      <th>locale</th>\n",
       "      <th>locale_name</th>\n",
       "      <th>description</th>\n",
       "      <th>transferred</th>\n",
       "    </tr>\n",
       "  </thead>\n",
       "  <tbody>\n",
       "    <tr>\n",
       "      <th>2013-01-01</th>\n",
       "      <td>NaN</td>\n",
       "      <td>93.218571</td>\n",
       "      <td>1</td>\n",
       "      <td>False</td>\n",
       "      <td>Holiday</td>\n",
       "      <td>National</td>\n",
       "      <td>Ecuador</td>\n",
       "      <td>Primer dia del ano</td>\n",
       "      <td>False</td>\n",
       "    </tr>\n",
       "    <tr>\n",
       "      <th>2013-01-02</th>\n",
       "      <td>93.14</td>\n",
       "      <td>93.218571</td>\n",
       "      <td>2</td>\n",
       "      <td>True</td>\n",
       "      <td>NaN</td>\n",
       "      <td>NaN</td>\n",
       "      <td>NaN</td>\n",
       "      <td>NaN</td>\n",
       "      <td>NaN</td>\n",
       "    </tr>\n",
       "    <tr>\n",
       "      <th>2013-01-03</th>\n",
       "      <td>92.97</td>\n",
       "      <td>93.218571</td>\n",
       "      <td>3</td>\n",
       "      <td>True</td>\n",
       "      <td>NaN</td>\n",
       "      <td>NaN</td>\n",
       "      <td>NaN</td>\n",
       "      <td>NaN</td>\n",
       "      <td>NaN</td>\n",
       "    </tr>\n",
       "    <tr>\n",
       "      <th>2013-01-04</th>\n",
       "      <td>93.12</td>\n",
       "      <td>93.218571</td>\n",
       "      <td>4</td>\n",
       "      <td>True</td>\n",
       "      <td>NaN</td>\n",
       "      <td>NaN</td>\n",
       "      <td>NaN</td>\n",
       "      <td>NaN</td>\n",
       "      <td>NaN</td>\n",
       "    </tr>\n",
       "    <tr>\n",
       "      <th>2013-01-05</th>\n",
       "      <td>NaN</td>\n",
       "      <td>93.218571</td>\n",
       "      <td>5</td>\n",
       "      <td>True</td>\n",
       "      <td>Work Day</td>\n",
       "      <td>National</td>\n",
       "      <td>Ecuador</td>\n",
       "      <td>Recupero puente Navidad</td>\n",
       "      <td>False</td>\n",
       "    </tr>\n",
       "  </tbody>\n",
       "</table>\n",
       "</div>"
      ],
      "text/plain": [
       "            dcoilwtico     ma_oil  dow     wd      type    locale locale_name  \\\n",
       "2013-01-01         NaN  93.218571    1  False   Holiday  National     Ecuador   \n",
       "2013-01-02       93.14  93.218571    2   True       NaN       NaN         NaN   \n",
       "2013-01-03       92.97  93.218571    3   True       NaN       NaN         NaN   \n",
       "2013-01-04       93.12  93.218571    4   True       NaN       NaN         NaN   \n",
       "2013-01-05         NaN  93.218571    5   True  Work Day  National     Ecuador   \n",
       "\n",
       "                        description transferred  \n",
       "2013-01-01       Primer dia del ano       False  \n",
       "2013-01-02                      NaN         NaN  \n",
       "2013-01-03                      NaN         NaN  \n",
       "2013-01-04                      NaN         NaN  \n",
       "2013-01-05  Recupero puente Navidad       False  "
      ]
     },
     "execution_count": 14,
     "metadata": {},
     "output_type": "execute_result"
    }
   ],
   "source": [
    "calendar['wd'] = True\n",
    "calendar.loc[calendar.dow > 4, 'wd'] = False\n",
    "calendar = calendar.merge(holidays, how='left', left_index=True, right_index=True)\n",
    "calendar.loc[calendar.type == 'Bridge'  , 'wd'] = False\n",
    "calendar.loc[calendar.type == 'Work Day', 'wd'] = True\n",
    "calendar.loc[calendar.type == 'Transfer', 'wd'] = False\n",
    "calendar.loc[(calendar.type == 'Holiday') & (calendar.transferred == False), 'wd'] = False\n",
    "calendar.loc[(calendar.type == 'Holiday') & (calendar.transferred == True ), 'wd'] = True\n",
    "calendar.head()"
   ]
  },
  {
   "cell_type": "markdown",
   "id": "3d5cde4f",
   "metadata": {
    "papermill": {
     "duration": 0.010704,
     "end_time": "2022-12-11T04:58:07.793014",
     "exception": false,
     "start_time": "2022-12-11T04:58:07.782310",
     "status": "completed"
    },
    "tags": []
   },
   "source": [
    "## Drop 12/25 which training set exclude"
   ]
  },
  {
   "cell_type": "code",
   "execution_count": 15,
   "id": "7dd29ea1",
   "metadata": {
    "execution": {
     "iopub.execute_input": "2022-12-11T04:58:07.816244Z",
     "iopub.status.busy": "2022-12-11T04:58:07.815904Z",
     "iopub.status.idle": "2022-12-11T04:58:07.827673Z",
     "shell.execute_reply": "2022-12-11T04:58:07.826207Z"
    },
    "papermill": {
     "duration": 0.026055,
     "end_time": "2022-12-11T04:58:07.829888",
     "exception": false,
     "start_time": "2022-12-11T04:58:07.803833",
     "status": "completed"
    },
    "tags": []
   },
   "outputs": [
    {
     "name": "stdout",
     "output_type": "stream",
     "text": [
      "(1700, 9)\n"
     ]
    }
   ],
   "source": [
    "calendar = calendar.reset_index()\n",
    "calendar.drop_duplicates(subset=['index'], keep='last', inplace=True, ignore_index=True)\n",
    "calendar = calendar.set_index('index')\n",
    "calendar = calendar.drop(index=['2013-12-25', '2014-12-25', '2015-12-25', '2016-12-25'])\n",
    "print(calendar.shape)"
   ]
  },
  {
   "cell_type": "markdown",
   "id": "99462f09",
   "metadata": {
    "papermill": {
     "duration": 0.010817,
     "end_time": "2022-12-11T04:58:07.852708",
     "exception": false,
     "start_time": "2022-12-11T04:58:07.841891",
     "status": "completed"
    },
    "tags": []
   },
   "source": [
    "## Training"
   ]
  },
  {
   "cell_type": "code",
   "execution_count": 16,
   "id": "321ac275",
   "metadata": {
    "execution": {
     "iopub.execute_input": "2022-12-11T04:58:07.876802Z",
     "iopub.status.busy": "2022-12-11T04:58:07.876384Z",
     "iopub.status.idle": "2022-12-11T04:58:10.233781Z",
     "shell.execute_reply": "2022-12-11T04:58:10.232926Z"
    },
    "id": "8f48f6db",
    "papermill": {
     "duration": 2.371956,
     "end_time": "2022-12-11T04:58:10.235550",
     "exception": false,
     "start_time": "2022-12-11T04:58:07.863594",
     "status": "completed"
    },
    "tags": []
   },
   "outputs": [
    {
     "data": {
      "text/html": [
       "<div>\n",
       "<style scoped>\n",
       "    .dataframe tbody tr th:only-of-type {\n",
       "        vertical-align: middle;\n",
       "    }\n",
       "\n",
       "    .dataframe tbody tr th {\n",
       "        vertical-align: top;\n",
       "    }\n",
       "\n",
       "    .dataframe thead th {\n",
       "        text-align: right;\n",
       "    }\n",
       "</style>\n",
       "<table border=\"1\" class=\"dataframe\">\n",
       "  <thead>\n",
       "    <tr style=\"text-align: right;\">\n",
       "      <th></th>\n",
       "      <th></th>\n",
       "      <th></th>\n",
       "      <th>sales</th>\n",
       "    </tr>\n",
       "    <tr>\n",
       "      <th>store_nbr</th>\n",
       "      <th>family</th>\n",
       "      <th>date</th>\n",
       "      <th></th>\n",
       "    </tr>\n",
       "  </thead>\n",
       "  <tbody>\n",
       "    <tr>\n",
       "      <th rowspan=\"5\" valign=\"top\">1</th>\n",
       "      <th rowspan=\"5\" valign=\"top\">AUTOMOTIVE</th>\n",
       "      <th>2013-01-01</th>\n",
       "      <td>0.0</td>\n",
       "    </tr>\n",
       "    <tr>\n",
       "      <th>2013-01-02</th>\n",
       "      <td>2.0</td>\n",
       "    </tr>\n",
       "    <tr>\n",
       "      <th>2013-01-03</th>\n",
       "      <td>3.0</td>\n",
       "    </tr>\n",
       "    <tr>\n",
       "      <th>2013-01-04</th>\n",
       "      <td>3.0</td>\n",
       "    </tr>\n",
       "    <tr>\n",
       "      <th>2013-01-05</th>\n",
       "      <td>5.0</td>\n",
       "    </tr>\n",
       "  </tbody>\n",
       "</table>\n",
       "</div>"
      ],
      "text/plain": [
       "                                 sales\n",
       "store_nbr family     date             \n",
       "1         AUTOMOTIVE 2013-01-01    0.0\n",
       "                     2013-01-02    2.0\n",
       "                     2013-01-03    3.0\n",
       "                     2013-01-04    3.0\n",
       "                     2013-01-05    5.0"
      ]
     },
     "execution_count": 16,
     "metadata": {},
     "output_type": "execute_result"
    }
   ],
   "source": [
    "df_train = pd.read_csv(path + 'train.csv',\n",
    "                       usecols=['store_nbr', 'family', 'date', 'sales'],\n",
    "                       dtype={'store_nbr': 'category', 'family': 'category', 'sales': 'float32'},\n",
    "                       parse_dates=['date'], infer_datetime_format=True)\n",
    "\n",
    "df_train.date = df_train.date.dt.to_period('D')\n",
    "df_train = df_train.set_index(['store_nbr', 'family', 'date']).sort_index()\n",
    "df_train.head()"
   ]
  },
  {
   "cell_type": "markdown",
   "id": "31343c82",
   "metadata": {
    "papermill": {
     "duration": 0.010688,
     "end_time": "2022-12-11T04:58:10.257397",
     "exception": false,
     "start_time": "2022-12-11T04:58:10.246709",
     "status": "completed"
    },
    "tags": []
   },
   "source": [
    "### Label (y)"
   ]
  },
  {
   "cell_type": "code",
   "execution_count": 17,
   "id": "9a42abb7",
   "metadata": {
    "execution": {
     "iopub.execute_input": "2022-12-11T04:58:10.280178Z",
     "iopub.status.busy": "2022-12-11T04:58:10.279820Z",
     "iopub.status.idle": "2022-12-11T04:58:11.101568Z",
     "shell.execute_reply": "2022-12-11T04:58:11.100285Z"
    },
    "papermill": {
     "duration": 0.836361,
     "end_time": "2022-12-11T04:58:11.104509",
     "exception": false,
     "start_time": "2022-12-11T04:58:10.268148",
     "status": "completed"
    },
    "tags": []
   },
   "outputs": [
    {
     "name": "stdout",
     "output_type": "stream",
     "text": [
      "(137, 1782)\n"
     ]
    },
    {
     "data": {
      "text/html": [
       "<div>\n",
       "<style scoped>\n",
       "    .dataframe tbody tr th:only-of-type {\n",
       "        vertical-align: middle;\n",
       "    }\n",
       "\n",
       "    .dataframe tbody tr th {\n",
       "        vertical-align: top;\n",
       "    }\n",
       "\n",
       "    .dataframe thead tr th {\n",
       "        text-align: left;\n",
       "    }\n",
       "\n",
       "    .dataframe thead tr:last-of-type th {\n",
       "        text-align: right;\n",
       "    }\n",
       "</style>\n",
       "<table border=\"1\" class=\"dataframe\">\n",
       "  <thead>\n",
       "    <tr>\n",
       "      <th></th>\n",
       "      <th colspan=\"21\" halign=\"left\">sales</th>\n",
       "    </tr>\n",
       "    <tr>\n",
       "      <th>store_nbr</th>\n",
       "      <th colspan=\"10\" halign=\"left\">1</th>\n",
       "      <th>...</th>\n",
       "      <th colspan=\"10\" halign=\"left\">9</th>\n",
       "    </tr>\n",
       "    <tr>\n",
       "      <th>family</th>\n",
       "      <th>AUTOMOTIVE</th>\n",
       "      <th>BABY CARE</th>\n",
       "      <th>BEAUTY</th>\n",
       "      <th>BEVERAGES</th>\n",
       "      <th>BOOKS</th>\n",
       "      <th>BREAD/BAKERY</th>\n",
       "      <th>CELEBRATION</th>\n",
       "      <th>CLEANING</th>\n",
       "      <th>DAIRY</th>\n",
       "      <th>DELI</th>\n",
       "      <th>...</th>\n",
       "      <th>MAGAZINES</th>\n",
       "      <th>MEATS</th>\n",
       "      <th>PERSONAL CARE</th>\n",
       "      <th>PET SUPPLIES</th>\n",
       "      <th>PLAYERS AND ELECTRONICS</th>\n",
       "      <th>POULTRY</th>\n",
       "      <th>PREPARED FOODS</th>\n",
       "      <th>PRODUCE</th>\n",
       "      <th>SCHOOL AND OFFICE SUPPLIES</th>\n",
       "      <th>SEAFOOD</th>\n",
       "    </tr>\n",
       "    <tr>\n",
       "      <th>date</th>\n",
       "      <th></th>\n",
       "      <th></th>\n",
       "      <th></th>\n",
       "      <th></th>\n",
       "      <th></th>\n",
       "      <th></th>\n",
       "      <th></th>\n",
       "      <th></th>\n",
       "      <th></th>\n",
       "      <th></th>\n",
       "      <th></th>\n",
       "      <th></th>\n",
       "      <th></th>\n",
       "      <th></th>\n",
       "      <th></th>\n",
       "      <th></th>\n",
       "      <th></th>\n",
       "      <th></th>\n",
       "      <th></th>\n",
       "      <th></th>\n",
       "      <th></th>\n",
       "    </tr>\n",
       "  </thead>\n",
       "  <tbody>\n",
       "    <tr>\n",
       "      <th>2017-04-01</th>\n",
       "      <td>9.0</td>\n",
       "      <td>0.0</td>\n",
       "      <td>1.0</td>\n",
       "      <td>3229.0</td>\n",
       "      <td>0.0</td>\n",
       "      <td>526.249023</td>\n",
       "      <td>14.0</td>\n",
       "      <td>858.0</td>\n",
       "      <td>1151.0</td>\n",
       "      <td>243.272003</td>\n",
       "      <td>...</td>\n",
       "      <td>3.0</td>\n",
       "      <td>671.481018</td>\n",
       "      <td>1524.0</td>\n",
       "      <td>20.0</td>\n",
       "      <td>24.0</td>\n",
       "      <td>851.388000</td>\n",
       "      <td>311.147003</td>\n",
       "      <td>2625.523926</td>\n",
       "      <td>1.0</td>\n",
       "      <td>40.446999</td>\n",
       "    </tr>\n",
       "    <tr>\n",
       "      <th>2017-04-02</th>\n",
       "      <td>4.0</td>\n",
       "      <td>0.0</td>\n",
       "      <td>1.0</td>\n",
       "      <td>1210.0</td>\n",
       "      <td>0.0</td>\n",
       "      <td>180.339005</td>\n",
       "      <td>3.0</td>\n",
       "      <td>281.0</td>\n",
       "      <td>446.0</td>\n",
       "      <td>86.641998</td>\n",
       "      <td>...</td>\n",
       "      <td>4.0</td>\n",
       "      <td>513.000977</td>\n",
       "      <td>842.0</td>\n",
       "      <td>19.0</td>\n",
       "      <td>29.0</td>\n",
       "      <td>621.062012</td>\n",
       "      <td>229.181000</td>\n",
       "      <td>2303.476074</td>\n",
       "      <td>3.0</td>\n",
       "      <td>15.000000</td>\n",
       "    </tr>\n",
       "    <tr>\n",
       "      <th>2017-04-03</th>\n",
       "      <td>11.0</td>\n",
       "      <td>0.0</td>\n",
       "      <td>2.0</td>\n",
       "      <td>2097.0</td>\n",
       "      <td>0.0</td>\n",
       "      <td>444.856995</td>\n",
       "      <td>11.0</td>\n",
       "      <td>801.0</td>\n",
       "      <td>794.0</td>\n",
       "      <td>166.119995</td>\n",
       "      <td>...</td>\n",
       "      <td>3.0</td>\n",
       "      <td>481.912018</td>\n",
       "      <td>742.0</td>\n",
       "      <td>7.0</td>\n",
       "      <td>14.0</td>\n",
       "      <td>532.640991</td>\n",
       "      <td>132.583008</td>\n",
       "      <td>1697.151001</td>\n",
       "      <td>2.0</td>\n",
       "      <td>16.000000</td>\n",
       "    </tr>\n",
       "    <tr>\n",
       "      <th>2017-04-04</th>\n",
       "      <td>3.0</td>\n",
       "      <td>0.0</td>\n",
       "      <td>4.0</td>\n",
       "      <td>2249.0</td>\n",
       "      <td>1.0</td>\n",
       "      <td>403.819000</td>\n",
       "      <td>19.0</td>\n",
       "      <td>673.0</td>\n",
       "      <td>725.0</td>\n",
       "      <td>149.078003</td>\n",
       "      <td>...</td>\n",
       "      <td>0.0</td>\n",
       "      <td>290.717010</td>\n",
       "      <td>594.0</td>\n",
       "      <td>4.0</td>\n",
       "      <td>15.0</td>\n",
       "      <td>451.968994</td>\n",
       "      <td>127.585999</td>\n",
       "      <td>2506.139893</td>\n",
       "      <td>2.0</td>\n",
       "      <td>15.000000</td>\n",
       "    </tr>\n",
       "    <tr>\n",
       "      <th>2017-04-05</th>\n",
       "      <td>5.0</td>\n",
       "      <td>0.0</td>\n",
       "      <td>1.0</td>\n",
       "      <td>2687.0</td>\n",
       "      <td>2.0</td>\n",
       "      <td>499.385010</td>\n",
       "      <td>18.0</td>\n",
       "      <td>1057.0</td>\n",
       "      <td>1074.0</td>\n",
       "      <td>216.742996</td>\n",
       "      <td>...</td>\n",
       "      <td>1.0</td>\n",
       "      <td>410.497009</td>\n",
       "      <td>633.0</td>\n",
       "      <td>2.0</td>\n",
       "      <td>20.0</td>\n",
       "      <td>395.341003</td>\n",
       "      <td>84.173996</td>\n",
       "      <td>1349.001953</td>\n",
       "      <td>1.0</td>\n",
       "      <td>13.373000</td>\n",
       "    </tr>\n",
       "  </tbody>\n",
       "</table>\n",
       "<p>5 rows × 1782 columns</p>\n",
       "</div>"
      ],
      "text/plain": [
       "                sales                                                \\\n",
       "store_nbr           1                                                 \n",
       "family     AUTOMOTIVE BABY CARE BEAUTY BEVERAGES BOOKS BREAD/BAKERY   \n",
       "date                                                                  \n",
       "2017-04-01        9.0       0.0    1.0    3229.0   0.0   526.249023   \n",
       "2017-04-02        4.0       0.0    1.0    1210.0   0.0   180.339005   \n",
       "2017-04-03       11.0       0.0    2.0    2097.0   0.0   444.856995   \n",
       "2017-04-04        3.0       0.0    4.0    2249.0   1.0   403.819000   \n",
       "2017-04-05        5.0       0.0    1.0    2687.0   2.0   499.385010   \n",
       "\n",
       "                                                     ...            \\\n",
       "store_nbr                                            ...         9   \n",
       "family     CELEBRATION CLEANING   DAIRY        DELI  ... MAGAZINES   \n",
       "date                                                 ...             \n",
       "2017-04-01        14.0    858.0  1151.0  243.272003  ...       3.0   \n",
       "2017-04-02         3.0    281.0   446.0   86.641998  ...       4.0   \n",
       "2017-04-03        11.0    801.0   794.0  166.119995  ...       3.0   \n",
       "2017-04-04        19.0    673.0   725.0  149.078003  ...       0.0   \n",
       "2017-04-05        18.0   1057.0  1074.0  216.742996  ...       1.0   \n",
       "\n",
       "                                                                           \\\n",
       "store_nbr                                                                   \n",
       "family           MEATS PERSONAL CARE PET SUPPLIES PLAYERS AND ELECTRONICS   \n",
       "date                                                                        \n",
       "2017-04-01  671.481018        1524.0         20.0                    24.0   \n",
       "2017-04-02  513.000977         842.0         19.0                    29.0   \n",
       "2017-04-03  481.912018         742.0          7.0                    14.0   \n",
       "2017-04-04  290.717010         594.0          4.0                    15.0   \n",
       "2017-04-05  410.497009         633.0          2.0                    20.0   \n",
       "\n",
       "                                                                               \\\n",
       "store_nbr                                                                       \n",
       "family         POULTRY PREPARED FOODS      PRODUCE SCHOOL AND OFFICE SUPPLIES   \n",
       "date                                                                            \n",
       "2017-04-01  851.388000     311.147003  2625.523926                        1.0   \n",
       "2017-04-02  621.062012     229.181000  2303.476074                        3.0   \n",
       "2017-04-03  532.640991     132.583008  1697.151001                        2.0   \n",
       "2017-04-04  451.968994     127.585999  2506.139893                        2.0   \n",
       "2017-04-05  395.341003      84.173996  1349.001953                        1.0   \n",
       "\n",
       "                       \n",
       "store_nbr              \n",
       "family        SEAFOOD  \n",
       "date                   \n",
       "2017-04-01  40.446999  \n",
       "2017-04-02  15.000000  \n",
       "2017-04-03  16.000000  \n",
       "2017-04-04  15.000000  \n",
       "2017-04-05  13.373000  \n",
       "\n",
       "[5 rows x 1782 columns]"
      ]
     },
     "execution_count": 17,
     "metadata": {},
     "output_type": "execute_result"
    }
   ],
   "source": [
    "sdate = '2017-04-01'\n",
    "edate = '2017-08-15'\n",
    "y = df_train.unstack(['store_nbr', 'family']).loc[sdate:edate]\n",
    "print(y.shape)\n",
    "y.head()"
   ]
  },
  {
   "cell_type": "markdown",
   "id": "f9c75471",
   "metadata": {
    "papermill": {
     "duration": 0.011107,
     "end_time": "2022-12-11T04:58:11.127442",
     "exception": false,
     "start_time": "2022-12-11T04:58:11.116335",
     "status": "completed"
    },
    "tags": []
   },
   "source": [
    "### Data point (X)"
   ]
  },
  {
   "cell_type": "code",
   "execution_count": 18,
   "id": "fe150607",
   "metadata": {
    "execution": {
     "iopub.execute_input": "2022-12-11T04:58:11.151827Z",
     "iopub.status.busy": "2022-12-11T04:58:11.151485Z",
     "iopub.status.idle": "2022-12-11T04:58:11.196410Z",
     "shell.execute_reply": "2022-12-11T04:58:11.195218Z"
    },
    "papermill": {
     "duration": 0.059655,
     "end_time": "2022-12-11T04:58:11.198465",
     "exception": false,
     "start_time": "2022-12-11T04:58:11.138810",
     "status": "completed"
    },
    "tags": []
   },
   "outputs": [
    {
     "name": "stdout",
     "output_type": "stream",
     "text": [
      "(137, 19)\n"
     ]
    },
    {
     "data": {
      "text/html": [
       "<div>\n",
       "<style scoped>\n",
       "    .dataframe tbody tr th:only-of-type {\n",
       "        vertical-align: middle;\n",
       "    }\n",
       "\n",
       "    .dataframe tbody tr th {\n",
       "        vertical-align: top;\n",
       "    }\n",
       "\n",
       "    .dataframe thead th {\n",
       "        text-align: right;\n",
       "    }\n",
       "</style>\n",
       "<table border=\"1\" class=\"dataframe\">\n",
       "  <thead>\n",
       "    <tr style=\"text-align: right;\">\n",
       "      <th></th>\n",
       "      <th>trend</th>\n",
       "      <th>sin(1,freq=W-SUN)</th>\n",
       "      <th>cos(1,freq=W-SUN)</th>\n",
       "      <th>sin(2,freq=W-SUN)</th>\n",
       "      <th>cos(2,freq=W-SUN)</th>\n",
       "      <th>sin(3,freq=W-SUN)</th>\n",
       "      <th>cos(3,freq=W-SUN)</th>\n",
       "      <th>oil</th>\n",
       "      <th>wd</th>\n",
       "      <th>dow_1</th>\n",
       "      <th>dow_2</th>\n",
       "      <th>dow_3</th>\n",
       "      <th>dow_4</th>\n",
       "      <th>dow_5</th>\n",
       "      <th>dow_6</th>\n",
       "      <th>type_Additional</th>\n",
       "      <th>type_Event</th>\n",
       "      <th>type_Holiday</th>\n",
       "      <th>type_Transfer</th>\n",
       "    </tr>\n",
       "    <tr>\n",
       "      <th>date</th>\n",
       "      <th></th>\n",
       "      <th></th>\n",
       "      <th></th>\n",
       "      <th></th>\n",
       "      <th></th>\n",
       "      <th></th>\n",
       "      <th></th>\n",
       "      <th></th>\n",
       "      <th></th>\n",
       "      <th></th>\n",
       "      <th></th>\n",
       "      <th></th>\n",
       "      <th></th>\n",
       "      <th></th>\n",
       "      <th></th>\n",
       "      <th></th>\n",
       "      <th></th>\n",
       "      <th></th>\n",
       "      <th></th>\n",
       "    </tr>\n",
       "  </thead>\n",
       "  <tbody>\n",
       "    <tr>\n",
       "      <th>2017-04-01</th>\n",
       "      <td>1.0</td>\n",
       "      <td>-0.974928</td>\n",
       "      <td>-0.222521</td>\n",
       "      <td>0.433884</td>\n",
       "      <td>-0.900969</td>\n",
       "      <td>0.781831</td>\n",
       "      <td>0.623490</td>\n",
       "      <td>49.034286</td>\n",
       "      <td>False</td>\n",
       "      <td>0</td>\n",
       "      <td>0</td>\n",
       "      <td>0</td>\n",
       "      <td>0</td>\n",
       "      <td>1</td>\n",
       "      <td>0</td>\n",
       "      <td>0</td>\n",
       "      <td>0</td>\n",
       "      <td>0</td>\n",
       "      <td>0</td>\n",
       "    </tr>\n",
       "    <tr>\n",
       "      <th>2017-04-02</th>\n",
       "      <td>2.0</td>\n",
       "      <td>-0.781831</td>\n",
       "      <td>0.623490</td>\n",
       "      <td>-0.974928</td>\n",
       "      <td>-0.222521</td>\n",
       "      <td>-0.433884</td>\n",
       "      <td>-0.900969</td>\n",
       "      <td>49.034286</td>\n",
       "      <td>False</td>\n",
       "      <td>0</td>\n",
       "      <td>0</td>\n",
       "      <td>0</td>\n",
       "      <td>0</td>\n",
       "      <td>0</td>\n",
       "      <td>1</td>\n",
       "      <td>0</td>\n",
       "      <td>0</td>\n",
       "      <td>0</td>\n",
       "      <td>0</td>\n",
       "    </tr>\n",
       "    <tr>\n",
       "      <th>2017-04-03</th>\n",
       "      <td>3.0</td>\n",
       "      <td>0.000000</td>\n",
       "      <td>1.000000</td>\n",
       "      <td>0.000000</td>\n",
       "      <td>1.000000</td>\n",
       "      <td>0.000000</td>\n",
       "      <td>1.000000</td>\n",
       "      <td>49.034286</td>\n",
       "      <td>True</td>\n",
       "      <td>0</td>\n",
       "      <td>0</td>\n",
       "      <td>0</td>\n",
       "      <td>0</td>\n",
       "      <td>0</td>\n",
       "      <td>0</td>\n",
       "      <td>0</td>\n",
       "      <td>0</td>\n",
       "      <td>0</td>\n",
       "      <td>0</td>\n",
       "    </tr>\n",
       "    <tr>\n",
       "      <th>2017-04-04</th>\n",
       "      <td>4.0</td>\n",
       "      <td>0.781831</td>\n",
       "      <td>0.623490</td>\n",
       "      <td>0.974928</td>\n",
       "      <td>-0.222521</td>\n",
       "      <td>0.433884</td>\n",
       "      <td>-0.900969</td>\n",
       "      <td>49.561429</td>\n",
       "      <td>True</td>\n",
       "      <td>1</td>\n",
       "      <td>0</td>\n",
       "      <td>0</td>\n",
       "      <td>0</td>\n",
       "      <td>0</td>\n",
       "      <td>0</td>\n",
       "      <td>0</td>\n",
       "      <td>0</td>\n",
       "      <td>0</td>\n",
       "      <td>0</td>\n",
       "    </tr>\n",
       "    <tr>\n",
       "      <th>2017-04-05</th>\n",
       "      <td>5.0</td>\n",
       "      <td>0.974928</td>\n",
       "      <td>-0.222521</td>\n",
       "      <td>-0.433884</td>\n",
       "      <td>-0.900969</td>\n",
       "      <td>-0.781831</td>\n",
       "      <td>0.623490</td>\n",
       "      <td>50.150000</td>\n",
       "      <td>True</td>\n",
       "      <td>0</td>\n",
       "      <td>1</td>\n",
       "      <td>0</td>\n",
       "      <td>0</td>\n",
       "      <td>0</td>\n",
       "      <td>0</td>\n",
       "      <td>0</td>\n",
       "      <td>0</td>\n",
       "      <td>0</td>\n",
       "      <td>0</td>\n",
       "    </tr>\n",
       "  </tbody>\n",
       "</table>\n",
       "</div>"
      ],
      "text/plain": [
       "            trend  sin(1,freq=W-SUN)  cos(1,freq=W-SUN)  sin(2,freq=W-SUN)  \\\n",
       "date                                                                         \n",
       "2017-04-01    1.0          -0.974928          -0.222521           0.433884   \n",
       "2017-04-02    2.0          -0.781831           0.623490          -0.974928   \n",
       "2017-04-03    3.0           0.000000           1.000000           0.000000   \n",
       "2017-04-04    4.0           0.781831           0.623490           0.974928   \n",
       "2017-04-05    5.0           0.974928          -0.222521          -0.433884   \n",
       "\n",
       "            cos(2,freq=W-SUN)  sin(3,freq=W-SUN)  cos(3,freq=W-SUN)  \\\n",
       "date                                                                  \n",
       "2017-04-01          -0.900969           0.781831           0.623490   \n",
       "2017-04-02          -0.222521          -0.433884          -0.900969   \n",
       "2017-04-03           1.000000           0.000000           1.000000   \n",
       "2017-04-04          -0.222521           0.433884          -0.900969   \n",
       "2017-04-05          -0.900969          -0.781831           0.623490   \n",
       "\n",
       "                  oil     wd  dow_1  dow_2  dow_3  dow_4  dow_5  dow_6  \\\n",
       "date                                                                     \n",
       "2017-04-01  49.034286  False      0      0      0      0      1      0   \n",
       "2017-04-02  49.034286  False      0      0      0      0      0      1   \n",
       "2017-04-03  49.034286   True      0      0      0      0      0      0   \n",
       "2017-04-04  49.561429   True      1      0      0      0      0      0   \n",
       "2017-04-05  50.150000   True      0      1      0      0      0      0   \n",
       "\n",
       "            type_Additional  type_Event  type_Holiday  type_Transfer  \n",
       "date                                                                  \n",
       "2017-04-01                0           0             0              0  \n",
       "2017-04-02                0           0             0              0  \n",
       "2017-04-03                0           0             0              0  \n",
       "2017-04-04                0           0             0              0  \n",
       "2017-04-05                0           0             0              0  "
      ]
     },
     "execution_count": 18,
     "metadata": {},
     "output_type": "execute_result"
    }
   ],
   "source": [
    "fourier = CalendarFourier(freq='W', order=4)\n",
    "dp = DeterministicProcess(index=y.index,\n",
    "                          constant=False,\n",
    "                          order=1,\n",
    "                          seasonal=False,\n",
    "                          additional_terms=[fourier],\n",
    "                          drop=True)\n",
    "X = dp.in_sample()\n",
    "\n",
    "# Extentions\n",
    "X['oil']  = calendar.loc[sdate:edate]['ma_oil'].values\n",
    "X['dow'] = calendar.loc[sdate:edate]['dow'].values\n",
    "X['wd']   = calendar.loc[sdate:edate]['wd'].values\n",
    "X['type'] = calendar.loc[sdate:edate]['type'].values\n",
    "X = pd.get_dummies(X, columns=['dow'], drop_first=True)\n",
    "X = pd.get_dummies(X, columns=['type'], drop_first=False)\n",
    "print(X.shape)\n",
    "X.head()\n"
   ]
  },
  {
   "cell_type": "markdown",
   "id": "ff19f3c2",
   "metadata": {
    "papermill": {
     "duration": 0.012324,
     "end_time": "2022-12-11T04:58:11.222804",
     "exception": false,
     "start_time": "2022-12-11T04:58:11.210480",
     "status": "completed"
    },
    "tags": []
   },
   "source": [
    "### Train"
   ]
  },
  {
   "cell_type": "code",
   "execution_count": 19,
   "id": "d14395a1",
   "metadata": {
    "execution": {
     "iopub.execute_input": "2022-12-11T04:58:11.247906Z",
     "iopub.status.busy": "2022-12-11T04:58:11.247561Z",
     "iopub.status.idle": "2022-12-11T04:58:15.378737Z",
     "shell.execute_reply": "2022-12-11T04:58:15.377883Z"
    },
    "id": "b71fcf1a",
    "outputId": "6ef7c8c0-1874-4f19-a821-b6f275456c38",
    "papermill": {
     "duration": 4.146216,
     "end_time": "2022-12-11T04:58:15.380984",
     "exception": false,
     "start_time": "2022-12-11T04:58:11.234768",
     "status": "completed"
    },
    "tags": []
   },
   "outputs": [
    {
     "data": {
      "text/plain": [
       "RandomForestRegressor(n_estimators=300, random_state=2022)"
      ]
     },
     "execution_count": 19,
     "metadata": {},
     "output_type": "execute_result"
    }
   ],
   "source": [
    "# model = LinearRegression()\n",
    "# model.fit(X,y)\n",
    "model_rf = RandomForestRegressor(n_estimators=300,random_state=2022, verbose=0)\n",
    "model_rf.fit(X, y)"
   ]
  },
  {
   "cell_type": "code",
   "execution_count": 20,
   "id": "a11d154c",
   "metadata": {
    "execution": {
     "iopub.execute_input": "2022-12-11T04:58:15.407702Z",
     "iopub.status.busy": "2022-12-11T04:58:15.406581Z",
     "iopub.status.idle": "2022-12-11T04:58:15.565821Z",
     "shell.execute_reply": "2022-12-11T04:58:15.564536Z"
    },
    "id": "43e5ea3a",
    "outputId": "62dfe5d0-7927-4ed9-e1a0-42c215b0f3f5",
    "papermill": {
     "duration": 0.174611,
     "end_time": "2022-12-11T04:58:15.567966",
     "exception": false,
     "start_time": "2022-12-11T04:58:15.393355",
     "status": "completed"
    },
    "tags": []
   },
   "outputs": [
    {
     "data": {
      "text/html": [
       "<div>\n",
       "<style scoped>\n",
       "    .dataframe tbody tr th:only-of-type {\n",
       "        vertical-align: middle;\n",
       "    }\n",
       "\n",
       "    .dataframe tbody tr th {\n",
       "        vertical-align: top;\n",
       "    }\n",
       "\n",
       "    .dataframe thead th {\n",
       "        text-align: right;\n",
       "    }\n",
       "</style>\n",
       "<table border=\"1\" class=\"dataframe\">\n",
       "  <thead>\n",
       "    <tr style=\"text-align: right;\">\n",
       "      <th></th>\n",
       "      <th>date</th>\n",
       "      <th>store_nbr</th>\n",
       "      <th>family</th>\n",
       "      <th>sales</th>\n",
       "    </tr>\n",
       "  </thead>\n",
       "  <tbody>\n",
       "    <tr>\n",
       "      <th>0</th>\n",
       "      <td>2017-04-01</td>\n",
       "      <td>1</td>\n",
       "      <td>AUTOMOTIVE</td>\n",
       "      <td>7.273333</td>\n",
       "    </tr>\n",
       "    <tr>\n",
       "      <th>1</th>\n",
       "      <td>2017-04-01</td>\n",
       "      <td>1</td>\n",
       "      <td>BABY CARE</td>\n",
       "      <td>0.000000</td>\n",
       "    </tr>\n",
       "    <tr>\n",
       "      <th>2</th>\n",
       "      <td>2017-04-01</td>\n",
       "      <td>1</td>\n",
       "      <td>BEAUTY</td>\n",
       "      <td>1.383333</td>\n",
       "    </tr>\n",
       "    <tr>\n",
       "      <th>3</th>\n",
       "      <td>2017-04-01</td>\n",
       "      <td>1</td>\n",
       "      <td>BEVERAGES</td>\n",
       "      <td>2762.533333</td>\n",
       "    </tr>\n",
       "    <tr>\n",
       "      <th>4</th>\n",
       "      <td>2017-04-01</td>\n",
       "      <td>1</td>\n",
       "      <td>BOOKS</td>\n",
       "      <td>0.023333</td>\n",
       "    </tr>\n",
       "  </tbody>\n",
       "</table>\n",
       "</div>"
      ],
      "text/plain": [
       "         date store_nbr      family        sales\n",
       "0  2017-04-01         1  AUTOMOTIVE     7.273333\n",
       "1  2017-04-01         1   BABY CARE     0.000000\n",
       "2  2017-04-01         1      BEAUTY     1.383333\n",
       "3  2017-04-01         1   BEVERAGES  2762.533333\n",
       "4  2017-04-01         1       BOOKS     0.023333"
      ]
     },
     "execution_count": 20,
     "metadata": {},
     "output_type": "execute_result"
    }
   ],
   "source": [
    "y_pred = pd.DataFrame(model_rf.predict(X), index=X.index, columns=y.columns)\n",
    "y_pred=y_pred.stack(['store_nbr', 'family']).reset_index()\n",
    "y_pred.head()"
   ]
  },
  {
   "cell_type": "code",
   "execution_count": 21,
   "id": "5daa3131",
   "metadata": {
    "execution": {
     "iopub.execute_input": "2022-12-11T04:58:15.594133Z",
     "iopub.status.busy": "2022-12-11T04:58:15.593748Z",
     "iopub.status.idle": "2022-12-11T04:58:15.704298Z",
     "shell.execute_reply": "2022-12-11T04:58:15.703493Z"
    },
    "papermill": {
     "duration": 0.126331,
     "end_time": "2022-12-11T04:58:15.706725",
     "exception": false,
     "start_time": "2022-12-11T04:58:15.580394",
     "status": "completed"
    },
    "tags": []
   },
   "outputs": [],
   "source": [
    "y_target=y.stack(['store_nbr', 'family']).reset_index().copy()\n",
    "y_target['sales_pred'] = y_pred['sales'].clip(0.) # Sales should be >= 0\n",
    "RF_result = y_target.groupby('family').apply(lambda x: np.sqrt(mean_squared_log_error(x['sales'], x['sales_pred'])))"
   ]
  },
  {
   "cell_type": "markdown",
   "id": "262b02d7",
   "metadata": {
    "papermill": {
     "duration": 0.011752,
     "end_time": "2022-12-11T04:58:15.730729",
     "exception": false,
     "start_time": "2022-12-11T04:58:15.718977",
     "status": "completed"
    },
    "tags": []
   },
   "source": [
    "# Retrain"
   ]
  },
  {
   "cell_type": "markdown",
   "id": "fb316f3c",
   "metadata": {
    "papermill": {
     "duration": 0.01208,
     "end_time": "2022-12-11T04:58:15.754954",
     "exception": false,
     "start_time": "2022-12-11T04:58:15.742874",
     "status": "completed"
    },
    "tags": []
   },
   "source": [
    "## Comapre two model"
   ]
  },
  {
   "cell_type": "code",
   "execution_count": 22,
   "id": "4f4c0d20",
   "metadata": {
    "execution": {
     "iopub.execute_input": "2022-12-11T04:58:15.781083Z",
     "iopub.status.busy": "2022-12-11T04:58:15.780723Z",
     "iopub.status.idle": "2022-12-11T04:58:15.788242Z",
     "shell.execute_reply": "2022-12-11T04:58:15.786907Z"
    },
    "papermill": {
     "duration": 0.022698,
     "end_time": "2022-12-11T04:58:15.790075",
     "exception": false,
     "start_time": "2022-12-11T04:58:15.767377",
     "status": "completed"
    },
    "tags": []
   },
   "outputs": [
    {
     "name": "stdout",
     "output_type": "stream",
     "text": [
      "['BABY CARE', 'BEVERAGES', 'BOOKS', 'BREAD/BAKERY', 'CLEANING', 'DAIRY', 'DELI', 'EGGS', 'FROZEN FOODS', 'GROCERY I', 'HOME AND KITCHEN II', 'HOME APPLIANCES', 'HOME CARE', 'MEATS', 'PERSONAL CARE', 'PET SUPPLIES', 'PLAYERS AND ELECTRONICS', 'POULTRY', 'PREPARED FOODS', 'PRODUCE']\n",
      "['AUTOMOTIVE', 'BEAUTY', 'CELEBRATION', 'GROCERY II', 'HARDWARE', 'HOME AND KITCHEN I', 'LADIESWEAR', 'LAWN AND GARDEN', 'LINGERIE', 'LIQUOR,WINE,BEER', 'MAGAZINES', 'SCHOOL AND OFFICE SUPPLIES', 'SEAFOOD']\n"
     ]
    }
   ],
   "source": [
    "LR_list = []\n",
    "RF_list = []\n",
    "for i in LR_result.index:\n",
    "    if LR_result.loc[i] <= RF_result.loc[i]:\n",
    "        LR_list.append(i)\n",
    "    else:\n",
    "        RF_list.append(i)\n",
    "print(LR_list)\n",
    "print(RF_list)"
   ]
  },
  {
   "cell_type": "markdown",
   "id": "9dc1cd55",
   "metadata": {
    "papermill": {
     "duration": 0.012079,
     "end_time": "2022-12-11T04:58:15.814548",
     "exception": false,
     "start_time": "2022-12-11T04:58:15.802469",
     "status": "completed"
    },
    "tags": []
   },
   "source": [
    "## Data set"
   ]
  },
  {
   "cell_type": "code",
   "execution_count": 23,
   "id": "822d336d",
   "metadata": {
    "execution": {
     "iopub.execute_input": "2022-12-11T04:58:15.840376Z",
     "iopub.status.busy": "2022-12-11T04:58:15.839974Z",
     "iopub.status.idle": "2022-12-11T04:58:17.434425Z",
     "shell.execute_reply": "2022-12-11T04:58:17.433410Z"
    },
    "papermill": {
     "duration": 1.610063,
     "end_time": "2022-12-11T04:58:17.436728",
     "exception": false,
     "start_time": "2022-12-11T04:58:15.826665",
     "status": "completed"
    },
    "tags": []
   },
   "outputs": [],
   "source": [
    "df_train = pd.read_csv(path + 'train.csv',\n",
    "                       usecols=['store_nbr', 'family', 'date', 'sales'],\n",
    "                       dtype={'store_nbr': 'category', 'family': 'category', 'sales': 'float32'},\n",
    "                       parse_dates=['date'], infer_datetime_format=True)\n",
    "\n",
    "df_train.date = df_train.date.dt.to_period('D')"
   ]
  },
  {
   "cell_type": "code",
   "execution_count": 24,
   "id": "1ce65aab",
   "metadata": {
    "execution": {
     "iopub.execute_input": "2022-12-11T04:58:17.462924Z",
     "iopub.status.busy": "2022-12-11T04:58:17.462564Z",
     "iopub.status.idle": "2022-12-11T04:58:18.602157Z",
     "shell.execute_reply": "2022-12-11T04:58:18.601109Z"
    },
    "papermill": {
     "duration": 1.155307,
     "end_time": "2022-12-11T04:58:18.604518",
     "exception": false,
     "start_time": "2022-12-11T04:58:17.449211",
     "status": "completed"
    },
    "tags": []
   },
   "outputs": [],
   "source": [
    "LR_train = pd.DataFrame()\n",
    "for item in LR_list:\n",
    "    df = df_train[df_train['family'] == item]\n",
    "    LR_train = pd.concat([LR_train, df])\n",
    "LR_train = LR_train.set_index(['store_nbr', 'family', 'date']).sort_index()\n",
    "\n",
    "RF_train = pd.DataFrame()\n",
    "for item in RF_list:\n",
    "    df = df_train[df_train['family'] == item]\n",
    "    RF_train = pd.concat([RF_train, df])\n",
    "RF_train = RF_train.set_index(['store_nbr', 'family', 'date']).sort_index()"
   ]
  },
  {
   "cell_type": "code",
   "execution_count": 25,
   "id": "66ce6b84",
   "metadata": {
    "execution": {
     "iopub.execute_input": "2022-12-11T04:58:18.630926Z",
     "iopub.status.busy": "2022-12-11T04:58:18.630578Z",
     "iopub.status.idle": "2022-12-11T04:58:19.332674Z",
     "shell.execute_reply": "2022-12-11T04:58:19.331817Z"
    },
    "papermill": {
     "duration": 0.717955,
     "end_time": "2022-12-11T04:58:19.334889",
     "exception": false,
     "start_time": "2022-12-11T04:58:18.616934",
     "status": "completed"
    },
    "tags": []
   },
   "outputs": [],
   "source": [
    "sdate = '2017-04-01'\n",
    "edate = '2017-08-15'\n",
    "y_LR = LR_train.unstack(['store_nbr', 'family']).loc[sdate:edate]\n",
    "y_rf = RF_train.unstack(['store_nbr', 'family']).loc[sdate:edate]"
   ]
  },
  {
   "cell_type": "markdown",
   "id": "e38b9562",
   "metadata": {
    "papermill": {
     "duration": 0.011451,
     "end_time": "2022-12-11T04:58:19.358982",
     "exception": false,
     "start_time": "2022-12-11T04:58:19.347531",
     "status": "completed"
    },
    "tags": []
   },
   "source": [
    "## Train Model"
   ]
  },
  {
   "cell_type": "code",
   "execution_count": 26,
   "id": "aa739e72",
   "metadata": {
    "execution": {
     "iopub.execute_input": "2022-12-11T04:58:19.383800Z",
     "iopub.status.busy": "2022-12-11T04:58:19.383464Z",
     "iopub.status.idle": "2022-12-11T04:58:21.510200Z",
     "shell.execute_reply": "2022-12-11T04:58:21.509020Z"
    },
    "papermill": {
     "duration": 2.141934,
     "end_time": "2022-12-11T04:58:21.512569",
     "exception": false,
     "start_time": "2022-12-11T04:58:19.370635",
     "status": "completed"
    },
    "tags": []
   },
   "outputs": [
    {
     "data": {
      "text/plain": [
       "RandomForestRegressor(n_estimators=300, random_state=2022)"
      ]
     },
     "execution_count": 26,
     "metadata": {},
     "output_type": "execute_result"
    }
   ],
   "source": [
    "model_rf = RandomForestRegressor(n_estimators=300,random_state=2022, verbose=0)\n",
    "model_rf.fit(X, y_rf)"
   ]
  },
  {
   "cell_type": "code",
   "execution_count": 27,
   "id": "c4a90766",
   "metadata": {
    "execution": {
     "iopub.execute_input": "2022-12-11T04:58:21.539536Z",
     "iopub.status.busy": "2022-12-11T04:58:21.539216Z",
     "iopub.status.idle": "2022-12-11T04:58:21.568465Z",
     "shell.execute_reply": "2022-12-11T04:58:21.567533Z"
    },
    "papermill": {
     "duration": 0.045654,
     "end_time": "2022-12-11T04:58:21.571117",
     "exception": false,
     "start_time": "2022-12-11T04:58:21.525463",
     "status": "completed"
    },
    "tags": []
   },
   "outputs": [
    {
     "name": "stderr",
     "output_type": "stream",
     "text": [
      "/opt/conda/lib/python3.7/site-packages/sklearn/linear_model/_base.py:145: FutureWarning: 'normalize' was deprecated in version 1.0 and will be removed in 1.2.\n",
      "If you wish to scale the data, use Pipeline with a StandardScaler in a preprocessing stage. To reproduce the previous behavior:\n",
      "\n",
      "from sklearn.pipeline import make_pipeline\n",
      "\n",
      "model = make_pipeline(StandardScaler(with_mean=False), Ridge())\n",
      "\n",
      "If you wish to pass a sample_weight parameter, you need to pass it as a fit parameter to each step of the pipeline as follows:\n",
      "\n",
      "kwargs = {s[0] + '__sample_weight': sample_weight for s in model.steps}\n",
      "model.fit(X, y, **kwargs)\n",
      "\n",
      "Set parameter alpha to: original_alpha * n_samples. \n",
      "  FutureWarning,\n"
     ]
    },
    {
     "data": {
      "text/plain": [
       "Ridge(alpha=0.5, normalize=True, solver='svd')"
      ]
     },
     "execution_count": 27,
     "metadata": {},
     "output_type": "execute_result"
    }
   ],
   "source": [
    "model = Ridge(fit_intercept=True, solver='svd', alpha=0.5, normalize=True)\n",
    "model.fit(X_LR, y_LR)"
   ]
  },
  {
   "cell_type": "markdown",
   "id": "6e236099",
   "metadata": {
    "papermill": {
     "duration": 0.01641,
     "end_time": "2022-12-11T04:58:21.604103",
     "exception": false,
     "start_time": "2022-12-11T04:58:21.587693",
     "status": "completed"
    },
    "tags": []
   },
   "source": [
    "# Test"
   ]
  },
  {
   "cell_type": "code",
   "execution_count": 28,
   "id": "dc71bb4e",
   "metadata": {
    "execution": {
     "iopub.execute_input": "2022-12-11T04:58:21.639795Z",
     "iopub.status.busy": "2022-12-11T04:58:21.638705Z",
     "iopub.status.idle": "2022-12-11T04:58:21.702378Z",
     "shell.execute_reply": "2022-12-11T04:58:21.701240Z"
    },
    "papermill": {
     "duration": 0.083783,
     "end_time": "2022-12-11T04:58:21.704526",
     "exception": false,
     "start_time": "2022-12-11T04:58:21.620743",
     "status": "completed"
    },
    "tags": []
   },
   "outputs": [],
   "source": [
    "stest = '2017-08-16'\n",
    "etest = '2017-08-31'\n",
    "\n",
    "X_test_rf = dp.out_of_sample(steps=16)\n",
    "\n",
    "# Extentions\n",
    "X_test_rf['oil']  = calendar.loc[stest:etest]['ma_oil'].values\n",
    "X_test_rf['dow'] = calendar.loc[stest:etest]['dow'].values\n",
    "X_test_rf['wd']   = calendar.loc[stest:etest]['wd'].values\n",
    "X_test_rf['type'] = calendar.loc[stest:etest]['type'].values\n",
    "X_test_rf = pd.get_dummies(X_test_rf, columns=['dow'], drop_first=True)\n",
    "X_test_rf = pd.get_dummies(X_test_rf, columns=['type'], drop_first=False)\n",
    "\n",
    "# No national level events in this period\n",
    "X_test_rf[['type_Additional', 'type_Event', 'type_Holiday', 'type_Transfer']] = 0\n",
    "X_test_rf.index.names = ['date']\n",
    "\n",
    "sales_pred_rf = pd.DataFrame(model_rf.predict(X_test_rf), index=X_test_rf.index, columns=y_rf.columns)\n",
    "# sales_pred_rf = sales_pred_rf.stack(['store_nbr', 'family']).reset_index()\n",
    "sales_pred_rf[sales_pred_rf < 0] = 0 # Sales should be >= 0"
   ]
  },
  {
   "cell_type": "code",
   "execution_count": 29,
   "id": "d11340b2",
   "metadata": {
    "execution": {
     "iopub.execute_input": "2022-12-11T04:58:21.731639Z",
     "iopub.status.busy": "2022-12-11T04:58:21.731083Z",
     "iopub.status.idle": "2022-12-11T04:58:21.749061Z",
     "shell.execute_reply": "2022-12-11T04:58:21.748282Z"
    },
    "papermill": {
     "duration": 0.033907,
     "end_time": "2022-12-11T04:58:21.751143",
     "exception": false,
     "start_time": "2022-12-11T04:58:21.717236",
     "status": "completed"
    },
    "tags": []
   },
   "outputs": [],
   "source": [
    "# Test predictions\n",
    "\n",
    "stest = '2017-08-16'\n",
    "etest = '2017-08-31'\n",
    "\n",
    "########################################################################################################################\n",
    "# TODO: create the feature matrix of test data.\n",
    "# Hint: check the documentation of DeterministicProcess.\n",
    "########################################################################################################################\n",
    "X_test_LR = None # change 'None' to your answer\n",
    "X_test_LR = dp.out_of_sample(steps=16) ### answer\n",
    "\n",
    "# Extentions\n",
    "\n",
    "X_test_LR['oil']  = calendar_LR.loc[stest:etest]['ma_oil'].values ### answer\n",
    "X_test_LR['wd']   = calendar_LR.loc[stest:etest]['wd'].values ### answer\n",
    "\n",
    "sales_pred_LR = pd.DataFrame(model.predict(X_test_LR), index=X_test_LR.index, columns=y_LR.columns)\n",
    "sales_pred_LR[sales_pred_LR < 0] = 0 "
   ]
  },
  {
   "cell_type": "code",
   "execution_count": 30,
   "id": "d7c67698",
   "metadata": {
    "execution": {
     "iopub.execute_input": "2022-12-11T04:58:21.778486Z",
     "iopub.status.busy": "2022-12-11T04:58:21.777906Z",
     "iopub.status.idle": "2022-12-11T04:58:21.840174Z",
     "shell.execute_reply": "2022-12-11T04:58:21.839450Z"
    },
    "papermill": {
     "duration": 0.078289,
     "end_time": "2022-12-11T04:58:21.842381",
     "exception": false,
     "start_time": "2022-12-11T04:58:21.764092",
     "status": "completed"
    },
    "tags": []
   },
   "outputs": [],
   "source": [
    "pred_final = sales_pred_rf.merge(sales_pred_LR, left_index=True, right_index=True)\n",
    "pred_final = pred_final.stack(['store_nbr', 'family']).reset_index()"
   ]
  },
  {
   "cell_type": "code",
   "execution_count": 31,
   "id": "d1ce4238",
   "metadata": {
    "execution": {
     "iopub.execute_input": "2022-12-11T04:58:21.869140Z",
     "iopub.status.busy": "2022-12-11T04:58:21.868791Z",
     "iopub.status.idle": "2022-12-11T04:58:21.945579Z",
     "shell.execute_reply": "2022-12-11T04:58:21.944507Z"
    },
    "papermill": {
     "duration": 0.093191,
     "end_time": "2022-12-11T04:58:21.948415",
     "exception": false,
     "start_time": "2022-12-11T04:58:21.855224",
     "status": "completed"
    },
    "tags": []
   },
   "outputs": [],
   "source": [
    "# Create submission\n",
    "df_sub = pd.read_csv(path + 'sample_submission.csv', index_col='id')\n",
    "df_sub.sales = pred_final['sales'].values\n",
    "df_sub.to_csv('submission.csv', index=True)"
   ]
  }
 ],
 "metadata": {
  "kernelspec": {
   "display_name": "Python 3",
   "language": "python",
   "name": "python3"
  },
  "language_info": {
   "codemirror_mode": {
    "name": "ipython",
    "version": 3
   },
   "file_extension": ".py",
   "mimetype": "text/x-python",
   "name": "python",
   "nbconvert_exporter": "python",
   "pygments_lexer": "ipython3",
   "version": "3.10.9 (tags/v3.10.9:1dd9be6, Dec  6 2022, 20:01:21) [MSC v.1934 64 bit (AMD64)]"
  },
  "papermill": {
   "default_parameters": {},
   "duration": 28.749968,
   "end_time": "2022-12-11T04:58:22.682624",
   "environment_variables": {},
   "exception": null,
   "input_path": "__notebook__.ipynb",
   "output_path": "__notebook__.ipynb",
   "parameters": {},
   "start_time": "2022-12-11T04:57:53.932656",
   "version": "2.3.4"
  },
  "vscode": {
   "interpreter": {
    "hash": "70852f765815b66220ad1ee0c8202b61bf5a4fbdd7701e7651519800995d9f3b"
   }
  }
 },
 "nbformat": 4,
 "nbformat_minor": 5
}
