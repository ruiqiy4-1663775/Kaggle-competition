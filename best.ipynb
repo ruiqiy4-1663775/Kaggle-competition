{
 "cells": [
  {
   "cell_type": "code",
   "execution_count": 1,
   "id": "2e508e11",
   "metadata": {
    "_cell_guid": "b1076dfc-b9ad-4769-8c92-a6c4dae69d19",
    "_uuid": "8f2839f25d086af736a60e9eeb907d3b93b6e0e5",
    "execution": {
     "iopub.execute_input": "2022-10-26T23:30:14.973064Z",
     "iopub.status.busy": "2022-10-26T23:30:14.972410Z",
     "iopub.status.idle": "2022-10-26T23:30:16.389812Z",
     "shell.execute_reply": "2022-10-26T23:30:16.388455Z"
    },
    "papermill": {
     "duration": 1.429997,
     "end_time": "2022-10-26T23:30:16.392879",
     "exception": false,
     "start_time": "2022-10-26T23:30:14.962882",
     "status": "completed"
    },
    "tags": []
   },
   "outputs": [],
   "source": [
    "import numpy as np\n",
    "import pandas as pd\n",
    "import matplotlib.pyplot as plt\n",
    "import IPython\n",
    "import sklearn\n",
    "from sklearn.linear_model import Ridge\n",
    "from sklearn.neural_network import MLPClassifier\n",
    "from sklearn.neural_network import MLPRegressor\n",
    "\n",
    "from sklearn.multioutput import MultiOutputClassifier\n",
    "from sklearn.multioutput import MultiOutputRegressor\n",
    "from sklearn.metrics import mean_squared_log_error\n",
    "from statsmodels.tsa.deterministic import DeterministicProcess\n",
    "from sklearn.ensemble import RandomForestRegressor\n",
    "from sklearn.metrics import mean_squared_log_error\n",
    "import os"
   ]
  },
  {
   "cell_type": "code",
   "execution_count": 2,
   "id": "2c1b4424",
   "metadata": {
    "execution": {
     "iopub.execute_input": "2022-10-26T23:30:16.403615Z",
     "iopub.status.busy": "2022-10-26T23:30:16.403186Z",
     "iopub.status.idle": "2022-10-26T23:30:16.407150Z",
     "shell.execute_reply": "2022-10-26T23:30:16.406308Z"
    },
    "papermill": {
     "duration": 0.012174,
     "end_time": "2022-10-26T23:30:16.409514",
     "exception": false,
     "start_time": "2022-10-26T23:30:16.397340",
     "status": "completed"
    },
    "tags": []
   },
   "outputs": [],
   "source": [
    "# path to the dataset in Kaggle's notebook\n",
    "path = ''"
   ]
  },
  {
   "cell_type": "markdown",
   "id": "e2a865d2",
   "metadata": {
    "papermill": {
     "duration": 0.003952,
     "end_time": "2022-10-26T23:30:16.418015",
     "exception": false,
     "start_time": "2022-10-26T23:30:16.414063",
     "status": "completed"
    },
    "tags": []
   },
   "source": [
    "### 1. Compute Moving Average of Oil Prices"
   ]
  },
  {
   "cell_type": "code",
   "execution_count": 3,
   "id": "b292917e",
   "metadata": {
    "execution": {
     "iopub.execute_input": "2022-10-26T23:30:16.429081Z",
     "iopub.status.busy": "2022-10-26T23:30:16.428015Z",
     "iopub.status.idle": "2022-10-26T23:30:16.503275Z",
     "shell.execute_reply": "2022-10-26T23:30:16.501901Z"
    },
    "papermill": {
     "duration": 0.08374,
     "end_time": "2022-10-26T23:30:16.506092",
     "exception": false,
     "start_time": "2022-10-26T23:30:16.422352",
     "status": "completed"
    },
    "tags": []
   },
   "outputs": [
    {
     "name": "stdout",
     "output_type": "stream",
     "text": [
      "            dcoilwtico\n",
      "date                  \n",
      "2013-01-01         NaN\n",
      "2013-01-02       93.14\n",
      "2013-01-03       92.97\n",
      "2013-01-04       93.12\n",
      "2013-01-07       93.20\n",
      "...                ...\n",
      "2017-08-25       47.65\n",
      "2017-08-28       46.40\n",
      "2017-08-29       46.46\n",
      "2017-08-30       45.96\n",
      "2017-08-31       47.26\n",
      "\n",
      "[1218 rows x 1 columns]\n"
     ]
    },
    {
     "data": {
      "text/plain": "            dcoilwtico  ma_oil\n2013-01-01         NaN     NaN\n2013-01-02       93.14     NaN\n2013-01-03       92.97     NaN\n2013-01-04       93.12     NaN\n2013-01-05         NaN     NaN\n2013-01-06         NaN     NaN\n2013-01-07       93.20     NaN\n2013-01-08       93.21  93.128\n2013-01-09       93.08  93.116\n2013-01-10       93.81  93.284\n2013-01-11       93.60  93.380\n2013-01-12         NaN  93.380\n2013-01-13         NaN  93.380\n2013-01-14       94.27  93.594\n2013-01-15       93.26  93.604",
      "text/html": "<div>\n<style scoped>\n    .dataframe tbody tr th:only-of-type {\n        vertical-align: middle;\n    }\n\n    .dataframe tbody tr th {\n        vertical-align: top;\n    }\n\n    .dataframe thead th {\n        text-align: right;\n    }\n</style>\n<table border=\"1\" class=\"dataframe\">\n  <thead>\n    <tr style=\"text-align: right;\">\n      <th></th>\n      <th>dcoilwtico</th>\n      <th>ma_oil</th>\n    </tr>\n  </thead>\n  <tbody>\n    <tr>\n      <th>2013-01-01</th>\n      <td>NaN</td>\n      <td>NaN</td>\n    </tr>\n    <tr>\n      <th>2013-01-02</th>\n      <td>93.14</td>\n      <td>NaN</td>\n    </tr>\n    <tr>\n      <th>2013-01-03</th>\n      <td>92.97</td>\n      <td>NaN</td>\n    </tr>\n    <tr>\n      <th>2013-01-04</th>\n      <td>93.12</td>\n      <td>NaN</td>\n    </tr>\n    <tr>\n      <th>2013-01-05</th>\n      <td>NaN</td>\n      <td>NaN</td>\n    </tr>\n    <tr>\n      <th>2013-01-06</th>\n      <td>NaN</td>\n      <td>NaN</td>\n    </tr>\n    <tr>\n      <th>2013-01-07</th>\n      <td>93.20</td>\n      <td>NaN</td>\n    </tr>\n    <tr>\n      <th>2013-01-08</th>\n      <td>93.21</td>\n      <td>93.128</td>\n    </tr>\n    <tr>\n      <th>2013-01-09</th>\n      <td>93.08</td>\n      <td>93.116</td>\n    </tr>\n    <tr>\n      <th>2013-01-10</th>\n      <td>93.81</td>\n      <td>93.284</td>\n    </tr>\n    <tr>\n      <th>2013-01-11</th>\n      <td>93.60</td>\n      <td>93.380</td>\n    </tr>\n    <tr>\n      <th>2013-01-12</th>\n      <td>NaN</td>\n      <td>93.380</td>\n    </tr>\n    <tr>\n      <th>2013-01-13</th>\n      <td>NaN</td>\n      <td>93.380</td>\n    </tr>\n    <tr>\n      <th>2013-01-14</th>\n      <td>94.27</td>\n      <td>93.594</td>\n    </tr>\n    <tr>\n      <th>2013-01-15</th>\n      <td>93.26</td>\n      <td>93.604</td>\n    </tr>\n  </tbody>\n</table>\n</div>"
     },
     "execution_count": 3,
     "metadata": {},
     "output_type": "execute_result"
    }
   ],
   "source": [
    "# read oil price\n",
    "data_oil = pd.read_csv(path + 'oil.csv', parse_dates=['date'], infer_datetime_format=True, index_col='date')\n",
    "#data_holiday = pd.read_csv(path + 'holidays_events.csv', parse_dates=['date'], infer_datetime_format=True, index_col='date')\n",
    "print(data_oil)\n",
    "#print(data_holiday)\n",
    "########################################################################################################################\n",
    "# TODO: compute data_oil['ma_oil'] as the moving average of data_oil['dcoilwtico'] with window size 7\n",
    "# Hint: check the documentation of .rolling() method of pandas.DataFrame\n",
    "########################################################################################################################\n",
    "data_oil['ma_oil'] = None # change 'None' to your answer\n",
    "data_oil['ma_oil'] = data_oil['dcoilwtico'].rolling(5).mean() ### answer\n",
    "\n",
    "\n",
    "\n",
    "# Create continguous moving average of oil prices\n",
    "calendar = pd.DataFrame(index=pd.date_range('2013-01-01', '2017-08-31'))\n",
    "\n",
    "########################################################################################################################\n",
    "# TODO 1: merge two DataFrame instances (data_oil and calendar) such that the merged instances has the same indexes\n",
    "# as calendar.\n",
    "# TODO 2: replace each NaN in data_oil['ma_oil'] by the first non-null value before it.\n",
    "# Hint: check the documentation of .merge() and .fillna() methods of pandas.DataFrame\n",
    "########################################################################################################################\n",
    "calendar = calendar.merge(data_oil, how='left', left_index=True, right_index=True) ### answer\n",
    "calendar['ma_oil'].fillna(method='ffill', inplace=True) ### answer\n",
    "calendar['ma_oil'].fillna(method='ffill', inplace=True) ### answer\n",
    "\n",
    "calendar.head(15) # display some entries of calendar"
   ]
  },
  {
   "cell_type": "code",
   "execution_count": 4,
   "outputs": [
    {
     "data": {
      "text/plain": "                type    locale locale_name  \\\ndate                                         \n2012-08-10   Holiday  National     Ecuador   \n2012-10-09   Holiday  National     Ecuador   \n2012-10-12  Transfer  National     Ecuador   \n2012-11-02   Holiday  National     Ecuador   \n2012-11-03   Holiday  National     Ecuador   \n\n                                    description  transferred  \ndate                                                          \n2012-08-10        Primer Grito de Independencia        False  \n2012-10-09           Independencia de Guayaquil         True  \n2012-10-12  Traslado Independencia de Guayaquil        False  \n2012-11-02                      Dia de Difuntos        False  \n2012-11-03              Independencia de Cuenca        False  ",
      "text/html": "<div>\n<style scoped>\n    .dataframe tbody tr th:only-of-type {\n        vertical-align: middle;\n    }\n\n    .dataframe tbody tr th {\n        vertical-align: top;\n    }\n\n    .dataframe thead th {\n        text-align: right;\n    }\n</style>\n<table border=\"1\" class=\"dataframe\">\n  <thead>\n    <tr style=\"text-align: right;\">\n      <th></th>\n      <th>type</th>\n      <th>locale</th>\n      <th>locale_name</th>\n      <th>description</th>\n      <th>transferred</th>\n    </tr>\n    <tr>\n      <th>date</th>\n      <th></th>\n      <th></th>\n      <th></th>\n      <th></th>\n      <th></th>\n    </tr>\n  </thead>\n  <tbody>\n    <tr>\n      <th>2012-08-10</th>\n      <td>Holiday</td>\n      <td>National</td>\n      <td>Ecuador</td>\n      <td>Primer Grito de Independencia</td>\n      <td>False</td>\n    </tr>\n    <tr>\n      <th>2012-10-09</th>\n      <td>Holiday</td>\n      <td>National</td>\n      <td>Ecuador</td>\n      <td>Independencia de Guayaquil</td>\n      <td>True</td>\n    </tr>\n    <tr>\n      <th>2012-10-12</th>\n      <td>Transfer</td>\n      <td>National</td>\n      <td>Ecuador</td>\n      <td>Traslado Independencia de Guayaquil</td>\n      <td>False</td>\n    </tr>\n    <tr>\n      <th>2012-11-02</th>\n      <td>Holiday</td>\n      <td>National</td>\n      <td>Ecuador</td>\n      <td>Dia de Difuntos</td>\n      <td>False</td>\n    </tr>\n    <tr>\n      <th>2012-11-03</th>\n      <td>Holiday</td>\n      <td>National</td>\n      <td>Ecuador</td>\n      <td>Independencia de Cuenca</td>\n      <td>False</td>\n    </tr>\n  </tbody>\n</table>\n</div>"
     },
     "execution_count": 4,
     "metadata": {},
     "output_type": "execute_result"
    }
   ],
   "source": [
    "holidays = pd.read_csv(path + 'holidays_events.csv', parse_dates=['date'], infer_datetime_format=True)\n",
    "holidays = holidays.set_index('date').sort_index()\n",
    "holidays = holidays[holidays.locale == 'National'] # National level only for simplicity\n",
    "#holidays = holidays.groupby(holidays.index).first() # Keep one event only\n",
    "holidays.head()"
   ],
   "metadata": {
    "collapsed": false
   }
  },
  {
   "cell_type": "code",
   "execution_count": 5,
   "outputs": [],
   "source": [
    "calendar = calendar.merge(holidays, how='left', left_index=True, right_index=True)\n",
    "calendar.loc[calendar.type == 'Bridge'  , 'wd'] = False\n",
    "calendar.loc[calendar.type == 'Work Day', 'wd'] = True\n",
    "calendar.loc[calendar.type == 'Transfer', 'wd'] = False\n",
    "calendar.loc[(calendar.type == 'Holiday') & (calendar.transferred == False), 'wd'] = False\n",
    "calendar.loc[(calendar.type == 'Holiday') & (calendar.transferred == True ), 'wd'] = True"
   ],
   "metadata": {
    "collapsed": false
   }
  },
  {
   "cell_type": "code",
   "execution_count": 6,
   "outputs": [
    {
     "name": "stdout",
     "output_type": "stream",
     "text": [
      "(1700, 8)\n"
     ]
    }
   ],
   "source": [
    "calendar = calendar.reset_index()\n",
    "calendar.drop_duplicates(subset=['index'], keep='last', inplace=True, ignore_index=True)\n",
    "calendar = calendar.set_index('index')\n",
    "calendar = calendar.drop(index=['2013-12-25', '2014-12-25', '2015-12-25', '2016-12-25'])\n",
    "print(calendar.shape)"
   ],
   "metadata": {
    "collapsed": false
   }
  },
  {
   "cell_type": "markdown",
   "id": "aa0ffd96",
   "metadata": {
    "papermill": {
     "duration": 0.004178,
     "end_time": "2022-10-26T23:30:16.515028",
     "exception": false,
     "start_time": "2022-10-26T23:30:16.510850",
     "status": "completed"
    },
    "tags": []
   },
   "source": [
    "### 2. Create Workday Feature"
   ]
  },
  {
   "cell_type": "code",
   "execution_count": 7,
   "id": "39db4a6f",
   "metadata": {
    "execution": {
     "iopub.execute_input": "2022-10-26T23:30:16.526019Z",
     "iopub.status.busy": "2022-10-26T23:30:16.525219Z",
     "iopub.status.idle": "2022-10-26T23:30:16.547441Z",
     "shell.execute_reply": "2022-10-26T23:30:16.546151Z"
    },
    "papermill": {
     "duration": 0.031109,
     "end_time": "2022-10-26T23:30:16.550528",
     "exception": false,
     "start_time": "2022-10-26T23:30:16.519419",
     "status": "completed"
    },
    "tags": []
   },
   "outputs": [
    {
     "name": "stdout",
     "output_type": "stream",
     "text": [
      "index\n",
      "2013-01-01    1\n",
      "2013-01-02    2\n",
      "2013-01-03    3\n",
      "2013-01-04    4\n",
      "2013-01-05    5\n",
      "             ..\n",
      "2017-08-27    6\n",
      "2017-08-28    0\n",
      "2017-08-29    1\n",
      "2017-08-30    2\n",
      "2017-08-31    3\n",
      "Name: dofw, Length: 1700, dtype: int64\n",
      "            dcoilwtico  ma_oil      type    locale locale_name  \\\n",
      "index                                                            \n",
      "2013-01-01         NaN     NaN   Holiday  National     Ecuador   \n",
      "2013-01-02       93.14     NaN       NaN       NaN         NaN   \n",
      "2013-01-03       92.97     NaN       NaN       NaN         NaN   \n",
      "2013-01-04       93.12     NaN       NaN       NaN         NaN   \n",
      "2013-01-05         NaN     NaN  Work Day  National     Ecuador   \n",
      "...                ...     ...       ...       ...         ...   \n",
      "2017-08-27         NaN  47.676       NaN       NaN         NaN   \n",
      "2017-08-28       46.40  47.478       NaN       NaN         NaN   \n",
      "2017-08-29       46.46  47.240       NaN       NaN         NaN   \n",
      "2017-08-30       45.96  46.742       NaN       NaN         NaN   \n",
      "2017-08-31       47.26  46.746       NaN       NaN         NaN   \n",
      "\n",
      "                        description transferred     wd    pay  dayind  ...  \\\n",
      "index                                                                  ...   \n",
      "2013-01-01       Primer dia del ano       False  False  False       1  ...   \n",
      "2013-01-02                      NaN         NaN  False  False       2  ...   \n",
      "2013-01-03                      NaN         NaN  False  False       3  ...   \n",
      "2013-01-04                      NaN         NaN   True  False       4  ...   \n",
      "2013-01-05  Recupero puente Navidad       False   True  False       5  ...   \n",
      "...                             ...         ...    ...    ...     ...  ...   \n",
      "2017-08-27                      NaN         NaN   True  False      27  ...   \n",
      "2017-08-28                      NaN         NaN  False  False      28  ...   \n",
      "2017-08-29                      NaN         NaN  False  False      29  ...   \n",
      "2017-08-30                      NaN         NaN  False  False      30  ...   \n",
      "2017-08-31                      NaN         NaN  False   True      31  ...   \n",
      "\n",
      "            november  december  monday  tuesday  wednesday  thursday  friday  \\\n",
      "index                                                                          \n",
      "2013-01-01     False     False   False     True      False     False   False   \n",
      "2013-01-02     False     False   False    False       True     False   False   \n",
      "2013-01-03     False     False   False    False      False      True   False   \n",
      "2013-01-04     False     False   False    False      False     False    True   \n",
      "2013-01-05     False     False   False    False      False     False   False   \n",
      "...              ...       ...     ...      ...        ...       ...     ...   \n",
      "2017-08-27     False     False   False    False      False     False   False   \n",
      "2017-08-28     False     False    True    False      False     False   False   \n",
      "2017-08-29     False     False   False     True      False     False   False   \n",
      "2017-08-30     False     False   False    False       True     False   False   \n",
      "2017-08-31     False     False   False    False      False      True   False   \n",
      "\n",
      "            saturday  sunday  bigholiday  \n",
      "index                                     \n",
      "2013-01-01     False   False       False  \n",
      "2013-01-02     False   False       False  \n",
      "2013-01-03     False   False       False  \n",
      "2013-01-04     False   False       False  \n",
      "2013-01-05      True   False       False  \n",
      "...              ...     ...         ...  \n",
      "2017-08-27     False    True       False  \n",
      "2017-08-28     False   False       False  \n",
      "2017-08-29     False   False       False  \n",
      "2017-08-30     False   False       False  \n",
      "2017-08-31     False   False       False  \n",
      "\n",
      "[1700 rows x 32 columns]\n"
     ]
    },
    {
     "data": {
      "text/plain": "            dcoilwtico  ma_oil      type    locale locale_name  \\\nindex                                                            \n2013-01-01         NaN     NaN   Holiday  National     Ecuador   \n2013-01-02       93.14     NaN       NaN       NaN         NaN   \n2013-01-03       92.97     NaN       NaN       NaN         NaN   \n2013-01-04       93.12     NaN       NaN       NaN         NaN   \n2013-01-05         NaN     NaN  Work Day  National     Ecuador   \n2013-01-06         NaN     NaN       NaN       NaN         NaN   \n2013-01-07       93.20     NaN       NaN       NaN         NaN   \n2013-01-08       93.21  93.128       NaN       NaN         NaN   \n2013-01-09       93.08  93.116       NaN       NaN         NaN   \n2013-01-10       93.81  93.284       NaN       NaN         NaN   \n2013-01-11       93.60  93.380       NaN       NaN         NaN   \n2013-01-12         NaN  93.380  Work Day  National     Ecuador   \n2013-01-13         NaN  93.380       NaN       NaN         NaN   \n2013-01-14       94.27  93.594       NaN       NaN         NaN   \n2013-01-15       93.26  93.604       NaN       NaN         NaN   \n2013-01-16       94.28  93.844       NaN       NaN         NaN   \n2013-01-17       95.49  94.180       NaN       NaN         NaN   \n2013-01-18       95.61  94.582       NaN       NaN         NaN   \n2013-01-19         NaN  94.582       NaN       NaN         NaN   \n2013-01-20         NaN  94.582       NaN       NaN         NaN   \n2013-01-21         NaN  94.582       NaN       NaN         NaN   \n2013-01-22       96.09  94.582       NaN       NaN         NaN   \n2013-01-23       95.06  94.582       NaN       NaN         NaN   \n2013-01-24       95.35  94.582       NaN       NaN         NaN   \n2013-01-25       95.15  94.582       NaN       NaN         NaN   \n2013-01-26         NaN  94.582       NaN       NaN         NaN   \n2013-01-27         NaN  94.582       NaN       NaN         NaN   \n2013-01-28       95.95  95.520       NaN       NaN         NaN   \n2013-01-29       97.62  95.826       NaN       NaN         NaN   \n2013-01-30       97.98  96.410       NaN       NaN         NaN   \n2013-01-31       97.65  96.870       NaN       NaN         NaN   \n2013-02-01       97.46  97.332       NaN       NaN         NaN   \n2013-02-02         NaN  97.332       NaN       NaN         NaN   \n2013-02-03         NaN  97.332       NaN       NaN         NaN   \n2013-02-04       96.21  97.384       NaN       NaN         NaN   \n\n                                   description transferred     wd    pay  \\\nindex                                                                      \n2013-01-01                  Primer dia del ano       False  False  False   \n2013-01-02                                 NaN         NaN  False  False   \n2013-01-03                                 NaN         NaN  False  False   \n2013-01-04                                 NaN         NaN   True  False   \n2013-01-05             Recupero puente Navidad       False   True  False   \n2013-01-06                                 NaN         NaN   True  False   \n2013-01-07                                 NaN         NaN  False  False   \n2013-01-08                                 NaN         NaN  False  False   \n2013-01-09                                 NaN         NaN  False  False   \n2013-01-10                                 NaN         NaN  False  False   \n2013-01-11                                 NaN         NaN   True  False   \n2013-01-12  Recupero puente primer dia del ano       False   True  False   \n2013-01-13                                 NaN         NaN   True  False   \n2013-01-14                                 NaN         NaN  False  False   \n2013-01-15                                 NaN         NaN  False   True   \n2013-01-16                                 NaN         NaN  False  False   \n2013-01-17                                 NaN         NaN  False  False   \n2013-01-18                                 NaN         NaN   True  False   \n2013-01-19                                 NaN         NaN   True  False   \n2013-01-20                                 NaN         NaN   True  False   \n2013-01-21                                 NaN         NaN  False  False   \n2013-01-22                                 NaN         NaN  False  False   \n2013-01-23                                 NaN         NaN  False  False   \n2013-01-24                                 NaN         NaN  False  False   \n2013-01-25                                 NaN         NaN   True  False   \n2013-01-26                                 NaN         NaN   True  False   \n2013-01-27                                 NaN         NaN   True  False   \n2013-01-28                                 NaN         NaN  False  False   \n2013-01-29                                 NaN         NaN  False  False   \n2013-01-30                                 NaN         NaN  False  False   \n2013-01-31                                 NaN         NaN  False   True   \n2013-02-01                                 NaN         NaN   True  False   \n2013-02-02                                 NaN         NaN   True  False   \n2013-02-03                                 NaN         NaN   True  False   \n2013-02-04                                 NaN         NaN  False  False   \n\n            dayind  ...  november  december  monday  tuesday  wednesday  \\\nindex               ...                                                   \n2013-01-01       1  ...     False     False   False     True      False   \n2013-01-02       2  ...     False     False   False    False       True   \n2013-01-03       3  ...     False     False   False    False      False   \n2013-01-04       4  ...     False     False   False    False      False   \n2013-01-05       5  ...     False     False   False    False      False   \n2013-01-06       6  ...     False     False   False    False      False   \n2013-01-07       7  ...     False     False    True    False      False   \n2013-01-08       8  ...     False     False   False     True      False   \n2013-01-09       9  ...     False     False   False    False       True   \n2013-01-10      10  ...     False     False   False    False      False   \n2013-01-11      11  ...     False     False   False    False      False   \n2013-01-12      12  ...     False     False   False    False      False   \n2013-01-13      13  ...     False     False   False    False      False   \n2013-01-14      14  ...     False     False    True    False      False   \n2013-01-15      15  ...     False     False   False     True      False   \n2013-01-16      16  ...     False     False   False    False       True   \n2013-01-17      17  ...     False     False   False    False      False   \n2013-01-18      18  ...     False     False   False    False      False   \n2013-01-19      19  ...     False     False   False    False      False   \n2013-01-20      20  ...     False     False   False    False      False   \n2013-01-21      21  ...     False     False    True    False      False   \n2013-01-22      22  ...     False     False   False     True      False   \n2013-01-23      23  ...     False     False   False    False       True   \n2013-01-24      24  ...     False     False   False    False      False   \n2013-01-25      25  ...     False     False   False    False      False   \n2013-01-26      26  ...     False     False   False    False      False   \n2013-01-27      27  ...     False     False   False    False      False   \n2013-01-28      28  ...     False     False    True    False      False   \n2013-01-29      29  ...     False     False   False     True      False   \n2013-01-30      30  ...     False     False   False    False       True   \n2013-01-31      31  ...     False     False   False    False      False   \n2013-02-01       1  ...     False     False   False    False      False   \n2013-02-02       2  ...     False     False   False    False      False   \n2013-02-03       3  ...     False     False   False    False      False   \n2013-02-04       4  ...     False     False    True    False      False   \n\n            thursday  friday  saturday  sunday  bigholiday  \nindex                                                       \n2013-01-01     False   False     False   False        True  \n2013-01-02     False   False     False   False       False  \n2013-01-03      True   False     False   False       False  \n2013-01-04     False    True     False   False       False  \n2013-01-05     False   False      True   False       False  \n2013-01-06     False   False     False    True       False  \n2013-01-07     False   False     False   False       False  \n2013-01-08     False   False     False   False       False  \n2013-01-09     False   False     False   False       False  \n2013-01-10      True   False     False   False       False  \n2013-01-11     False    True     False   False       False  \n2013-01-12     False   False      True   False       False  \n2013-01-13     False   False     False    True       False  \n2013-01-14     False   False     False   False       False  \n2013-01-15     False   False     False   False       False  \n2013-01-16     False   False     False   False       False  \n2013-01-17      True   False     False   False       False  \n2013-01-18     False    True     False   False       False  \n2013-01-19     False   False      True   False       False  \n2013-01-20     False   False     False    True       False  \n2013-01-21     False   False     False   False       False  \n2013-01-22     False   False     False   False       False  \n2013-01-23     False   False     False   False       False  \n2013-01-24      True   False     False   False       False  \n2013-01-25     False    True     False   False       False  \n2013-01-26     False   False      True   False       False  \n2013-01-27     False   False     False    True       False  \n2013-01-28     False   False     False   False       False  \n2013-01-29     False   False     False   False       False  \n2013-01-30     False   False     False   False       False  \n2013-01-31      True   False     False   False       False  \n2013-02-01     False    True     False   False       False  \n2013-02-02     False   False      True   False       False  \n2013-02-03     False   False     False    True       False  \n2013-02-04     False   False     False   False       False  \n\n[35 rows x 32 columns]",
      "text/html": "<div>\n<style scoped>\n    .dataframe tbody tr th:only-of-type {\n        vertical-align: middle;\n    }\n\n    .dataframe tbody tr th {\n        vertical-align: top;\n    }\n\n    .dataframe thead th {\n        text-align: right;\n    }\n</style>\n<table border=\"1\" class=\"dataframe\">\n  <thead>\n    <tr style=\"text-align: right;\">\n      <th></th>\n      <th>dcoilwtico</th>\n      <th>ma_oil</th>\n      <th>type</th>\n      <th>locale</th>\n      <th>locale_name</th>\n      <th>description</th>\n      <th>transferred</th>\n      <th>wd</th>\n      <th>pay</th>\n      <th>dayind</th>\n      <th>...</th>\n      <th>november</th>\n      <th>december</th>\n      <th>monday</th>\n      <th>tuesday</th>\n      <th>wednesday</th>\n      <th>thursday</th>\n      <th>friday</th>\n      <th>saturday</th>\n      <th>sunday</th>\n      <th>bigholiday</th>\n    </tr>\n    <tr>\n      <th>index</th>\n      <th></th>\n      <th></th>\n      <th></th>\n      <th></th>\n      <th></th>\n      <th></th>\n      <th></th>\n      <th></th>\n      <th></th>\n      <th></th>\n      <th></th>\n      <th></th>\n      <th></th>\n      <th></th>\n      <th></th>\n      <th></th>\n      <th></th>\n      <th></th>\n      <th></th>\n      <th></th>\n      <th></th>\n    </tr>\n  </thead>\n  <tbody>\n    <tr>\n      <th>2013-01-01</th>\n      <td>NaN</td>\n      <td>NaN</td>\n      <td>Holiday</td>\n      <td>National</td>\n      <td>Ecuador</td>\n      <td>Primer dia del ano</td>\n      <td>False</td>\n      <td>False</td>\n      <td>False</td>\n      <td>1</td>\n      <td>...</td>\n      <td>False</td>\n      <td>False</td>\n      <td>False</td>\n      <td>True</td>\n      <td>False</td>\n      <td>False</td>\n      <td>False</td>\n      <td>False</td>\n      <td>False</td>\n      <td>True</td>\n    </tr>\n    <tr>\n      <th>2013-01-02</th>\n      <td>93.14</td>\n      <td>NaN</td>\n      <td>NaN</td>\n      <td>NaN</td>\n      <td>NaN</td>\n      <td>NaN</td>\n      <td>NaN</td>\n      <td>False</td>\n      <td>False</td>\n      <td>2</td>\n      <td>...</td>\n      <td>False</td>\n      <td>False</td>\n      <td>False</td>\n      <td>False</td>\n      <td>True</td>\n      <td>False</td>\n      <td>False</td>\n      <td>False</td>\n      <td>False</td>\n      <td>False</td>\n    </tr>\n    <tr>\n      <th>2013-01-03</th>\n      <td>92.97</td>\n      <td>NaN</td>\n      <td>NaN</td>\n      <td>NaN</td>\n      <td>NaN</td>\n      <td>NaN</td>\n      <td>NaN</td>\n      <td>False</td>\n      <td>False</td>\n      <td>3</td>\n      <td>...</td>\n      <td>False</td>\n      <td>False</td>\n      <td>False</td>\n      <td>False</td>\n      <td>False</td>\n      <td>True</td>\n      <td>False</td>\n      <td>False</td>\n      <td>False</td>\n      <td>False</td>\n    </tr>\n    <tr>\n      <th>2013-01-04</th>\n      <td>93.12</td>\n      <td>NaN</td>\n      <td>NaN</td>\n      <td>NaN</td>\n      <td>NaN</td>\n      <td>NaN</td>\n      <td>NaN</td>\n      <td>True</td>\n      <td>False</td>\n      <td>4</td>\n      <td>...</td>\n      <td>False</td>\n      <td>False</td>\n      <td>False</td>\n      <td>False</td>\n      <td>False</td>\n      <td>False</td>\n      <td>True</td>\n      <td>False</td>\n      <td>False</td>\n      <td>False</td>\n    </tr>\n    <tr>\n      <th>2013-01-05</th>\n      <td>NaN</td>\n      <td>NaN</td>\n      <td>Work Day</td>\n      <td>National</td>\n      <td>Ecuador</td>\n      <td>Recupero puente Navidad</td>\n      <td>False</td>\n      <td>True</td>\n      <td>False</td>\n      <td>5</td>\n      <td>...</td>\n      <td>False</td>\n      <td>False</td>\n      <td>False</td>\n      <td>False</td>\n      <td>False</td>\n      <td>False</td>\n      <td>False</td>\n      <td>True</td>\n      <td>False</td>\n      <td>False</td>\n    </tr>\n    <tr>\n      <th>2013-01-06</th>\n      <td>NaN</td>\n      <td>NaN</td>\n      <td>NaN</td>\n      <td>NaN</td>\n      <td>NaN</td>\n      <td>NaN</td>\n      <td>NaN</td>\n      <td>True</td>\n      <td>False</td>\n      <td>6</td>\n      <td>...</td>\n      <td>False</td>\n      <td>False</td>\n      <td>False</td>\n      <td>False</td>\n      <td>False</td>\n      <td>False</td>\n      <td>False</td>\n      <td>False</td>\n      <td>True</td>\n      <td>False</td>\n    </tr>\n    <tr>\n      <th>2013-01-07</th>\n      <td>93.20</td>\n      <td>NaN</td>\n      <td>NaN</td>\n      <td>NaN</td>\n      <td>NaN</td>\n      <td>NaN</td>\n      <td>NaN</td>\n      <td>False</td>\n      <td>False</td>\n      <td>7</td>\n      <td>...</td>\n      <td>False</td>\n      <td>False</td>\n      <td>True</td>\n      <td>False</td>\n      <td>False</td>\n      <td>False</td>\n      <td>False</td>\n      <td>False</td>\n      <td>False</td>\n      <td>False</td>\n    </tr>\n    <tr>\n      <th>2013-01-08</th>\n      <td>93.21</td>\n      <td>93.128</td>\n      <td>NaN</td>\n      <td>NaN</td>\n      <td>NaN</td>\n      <td>NaN</td>\n      <td>NaN</td>\n      <td>False</td>\n      <td>False</td>\n      <td>8</td>\n      <td>...</td>\n      <td>False</td>\n      <td>False</td>\n      <td>False</td>\n      <td>True</td>\n      <td>False</td>\n      <td>False</td>\n      <td>False</td>\n      <td>False</td>\n      <td>False</td>\n      <td>False</td>\n    </tr>\n    <tr>\n      <th>2013-01-09</th>\n      <td>93.08</td>\n      <td>93.116</td>\n      <td>NaN</td>\n      <td>NaN</td>\n      <td>NaN</td>\n      <td>NaN</td>\n      <td>NaN</td>\n      <td>False</td>\n      <td>False</td>\n      <td>9</td>\n      <td>...</td>\n      <td>False</td>\n      <td>False</td>\n      <td>False</td>\n      <td>False</td>\n      <td>True</td>\n      <td>False</td>\n      <td>False</td>\n      <td>False</td>\n      <td>False</td>\n      <td>False</td>\n    </tr>\n    <tr>\n      <th>2013-01-10</th>\n      <td>93.81</td>\n      <td>93.284</td>\n      <td>NaN</td>\n      <td>NaN</td>\n      <td>NaN</td>\n      <td>NaN</td>\n      <td>NaN</td>\n      <td>False</td>\n      <td>False</td>\n      <td>10</td>\n      <td>...</td>\n      <td>False</td>\n      <td>False</td>\n      <td>False</td>\n      <td>False</td>\n      <td>False</td>\n      <td>True</td>\n      <td>False</td>\n      <td>False</td>\n      <td>False</td>\n      <td>False</td>\n    </tr>\n    <tr>\n      <th>2013-01-11</th>\n      <td>93.60</td>\n      <td>93.380</td>\n      <td>NaN</td>\n      <td>NaN</td>\n      <td>NaN</td>\n      <td>NaN</td>\n      <td>NaN</td>\n      <td>True</td>\n      <td>False</td>\n      <td>11</td>\n      <td>...</td>\n      <td>False</td>\n      <td>False</td>\n      <td>False</td>\n      <td>False</td>\n      <td>False</td>\n      <td>False</td>\n      <td>True</td>\n      <td>False</td>\n      <td>False</td>\n      <td>False</td>\n    </tr>\n    <tr>\n      <th>2013-01-12</th>\n      <td>NaN</td>\n      <td>93.380</td>\n      <td>Work Day</td>\n      <td>National</td>\n      <td>Ecuador</td>\n      <td>Recupero puente primer dia del ano</td>\n      <td>False</td>\n      <td>True</td>\n      <td>False</td>\n      <td>12</td>\n      <td>...</td>\n      <td>False</td>\n      <td>False</td>\n      <td>False</td>\n      <td>False</td>\n      <td>False</td>\n      <td>False</td>\n      <td>False</td>\n      <td>True</td>\n      <td>False</td>\n      <td>False</td>\n    </tr>\n    <tr>\n      <th>2013-01-13</th>\n      <td>NaN</td>\n      <td>93.380</td>\n      <td>NaN</td>\n      <td>NaN</td>\n      <td>NaN</td>\n      <td>NaN</td>\n      <td>NaN</td>\n      <td>True</td>\n      <td>False</td>\n      <td>13</td>\n      <td>...</td>\n      <td>False</td>\n      <td>False</td>\n      <td>False</td>\n      <td>False</td>\n      <td>False</td>\n      <td>False</td>\n      <td>False</td>\n      <td>False</td>\n      <td>True</td>\n      <td>False</td>\n    </tr>\n    <tr>\n      <th>2013-01-14</th>\n      <td>94.27</td>\n      <td>93.594</td>\n      <td>NaN</td>\n      <td>NaN</td>\n      <td>NaN</td>\n      <td>NaN</td>\n      <td>NaN</td>\n      <td>False</td>\n      <td>False</td>\n      <td>14</td>\n      <td>...</td>\n      <td>False</td>\n      <td>False</td>\n      <td>True</td>\n      <td>False</td>\n      <td>False</td>\n      <td>False</td>\n      <td>False</td>\n      <td>False</td>\n      <td>False</td>\n      <td>False</td>\n    </tr>\n    <tr>\n      <th>2013-01-15</th>\n      <td>93.26</td>\n      <td>93.604</td>\n      <td>NaN</td>\n      <td>NaN</td>\n      <td>NaN</td>\n      <td>NaN</td>\n      <td>NaN</td>\n      <td>False</td>\n      <td>True</td>\n      <td>15</td>\n      <td>...</td>\n      <td>False</td>\n      <td>False</td>\n      <td>False</td>\n      <td>True</td>\n      <td>False</td>\n      <td>False</td>\n      <td>False</td>\n      <td>False</td>\n      <td>False</td>\n      <td>False</td>\n    </tr>\n    <tr>\n      <th>2013-01-16</th>\n      <td>94.28</td>\n      <td>93.844</td>\n      <td>NaN</td>\n      <td>NaN</td>\n      <td>NaN</td>\n      <td>NaN</td>\n      <td>NaN</td>\n      <td>False</td>\n      <td>False</td>\n      <td>16</td>\n      <td>...</td>\n      <td>False</td>\n      <td>False</td>\n      <td>False</td>\n      <td>False</td>\n      <td>True</td>\n      <td>False</td>\n      <td>False</td>\n      <td>False</td>\n      <td>False</td>\n      <td>False</td>\n    </tr>\n    <tr>\n      <th>2013-01-17</th>\n      <td>95.49</td>\n      <td>94.180</td>\n      <td>NaN</td>\n      <td>NaN</td>\n      <td>NaN</td>\n      <td>NaN</td>\n      <td>NaN</td>\n      <td>False</td>\n      <td>False</td>\n      <td>17</td>\n      <td>...</td>\n      <td>False</td>\n      <td>False</td>\n      <td>False</td>\n      <td>False</td>\n      <td>False</td>\n      <td>True</td>\n      <td>False</td>\n      <td>False</td>\n      <td>False</td>\n      <td>False</td>\n    </tr>\n    <tr>\n      <th>2013-01-18</th>\n      <td>95.61</td>\n      <td>94.582</td>\n      <td>NaN</td>\n      <td>NaN</td>\n      <td>NaN</td>\n      <td>NaN</td>\n      <td>NaN</td>\n      <td>True</td>\n      <td>False</td>\n      <td>18</td>\n      <td>...</td>\n      <td>False</td>\n      <td>False</td>\n      <td>False</td>\n      <td>False</td>\n      <td>False</td>\n      <td>False</td>\n      <td>True</td>\n      <td>False</td>\n      <td>False</td>\n      <td>False</td>\n    </tr>\n    <tr>\n      <th>2013-01-19</th>\n      <td>NaN</td>\n      <td>94.582</td>\n      <td>NaN</td>\n      <td>NaN</td>\n      <td>NaN</td>\n      <td>NaN</td>\n      <td>NaN</td>\n      <td>True</td>\n      <td>False</td>\n      <td>19</td>\n      <td>...</td>\n      <td>False</td>\n      <td>False</td>\n      <td>False</td>\n      <td>False</td>\n      <td>False</td>\n      <td>False</td>\n      <td>False</td>\n      <td>True</td>\n      <td>False</td>\n      <td>False</td>\n    </tr>\n    <tr>\n      <th>2013-01-20</th>\n      <td>NaN</td>\n      <td>94.582</td>\n      <td>NaN</td>\n      <td>NaN</td>\n      <td>NaN</td>\n      <td>NaN</td>\n      <td>NaN</td>\n      <td>True</td>\n      <td>False</td>\n      <td>20</td>\n      <td>...</td>\n      <td>False</td>\n      <td>False</td>\n      <td>False</td>\n      <td>False</td>\n      <td>False</td>\n      <td>False</td>\n      <td>False</td>\n      <td>False</td>\n      <td>True</td>\n      <td>False</td>\n    </tr>\n    <tr>\n      <th>2013-01-21</th>\n      <td>NaN</td>\n      <td>94.582</td>\n      <td>NaN</td>\n      <td>NaN</td>\n      <td>NaN</td>\n      <td>NaN</td>\n      <td>NaN</td>\n      <td>False</td>\n      <td>False</td>\n      <td>21</td>\n      <td>...</td>\n      <td>False</td>\n      <td>False</td>\n      <td>True</td>\n      <td>False</td>\n      <td>False</td>\n      <td>False</td>\n      <td>False</td>\n      <td>False</td>\n      <td>False</td>\n      <td>False</td>\n    </tr>\n    <tr>\n      <th>2013-01-22</th>\n      <td>96.09</td>\n      <td>94.582</td>\n      <td>NaN</td>\n      <td>NaN</td>\n      <td>NaN</td>\n      <td>NaN</td>\n      <td>NaN</td>\n      <td>False</td>\n      <td>False</td>\n      <td>22</td>\n      <td>...</td>\n      <td>False</td>\n      <td>False</td>\n      <td>False</td>\n      <td>True</td>\n      <td>False</td>\n      <td>False</td>\n      <td>False</td>\n      <td>False</td>\n      <td>False</td>\n      <td>False</td>\n    </tr>\n    <tr>\n      <th>2013-01-23</th>\n      <td>95.06</td>\n      <td>94.582</td>\n      <td>NaN</td>\n      <td>NaN</td>\n      <td>NaN</td>\n      <td>NaN</td>\n      <td>NaN</td>\n      <td>False</td>\n      <td>False</td>\n      <td>23</td>\n      <td>...</td>\n      <td>False</td>\n      <td>False</td>\n      <td>False</td>\n      <td>False</td>\n      <td>True</td>\n      <td>False</td>\n      <td>False</td>\n      <td>False</td>\n      <td>False</td>\n      <td>False</td>\n    </tr>\n    <tr>\n      <th>2013-01-24</th>\n      <td>95.35</td>\n      <td>94.582</td>\n      <td>NaN</td>\n      <td>NaN</td>\n      <td>NaN</td>\n      <td>NaN</td>\n      <td>NaN</td>\n      <td>False</td>\n      <td>False</td>\n      <td>24</td>\n      <td>...</td>\n      <td>False</td>\n      <td>False</td>\n      <td>False</td>\n      <td>False</td>\n      <td>False</td>\n      <td>True</td>\n      <td>False</td>\n      <td>False</td>\n      <td>False</td>\n      <td>False</td>\n    </tr>\n    <tr>\n      <th>2013-01-25</th>\n      <td>95.15</td>\n      <td>94.582</td>\n      <td>NaN</td>\n      <td>NaN</td>\n      <td>NaN</td>\n      <td>NaN</td>\n      <td>NaN</td>\n      <td>True</td>\n      <td>False</td>\n      <td>25</td>\n      <td>...</td>\n      <td>False</td>\n      <td>False</td>\n      <td>False</td>\n      <td>False</td>\n      <td>False</td>\n      <td>False</td>\n      <td>True</td>\n      <td>False</td>\n      <td>False</td>\n      <td>False</td>\n    </tr>\n    <tr>\n      <th>2013-01-26</th>\n      <td>NaN</td>\n      <td>94.582</td>\n      <td>NaN</td>\n      <td>NaN</td>\n      <td>NaN</td>\n      <td>NaN</td>\n      <td>NaN</td>\n      <td>True</td>\n      <td>False</td>\n      <td>26</td>\n      <td>...</td>\n      <td>False</td>\n      <td>False</td>\n      <td>False</td>\n      <td>False</td>\n      <td>False</td>\n      <td>False</td>\n      <td>False</td>\n      <td>True</td>\n      <td>False</td>\n      <td>False</td>\n    </tr>\n    <tr>\n      <th>2013-01-27</th>\n      <td>NaN</td>\n      <td>94.582</td>\n      <td>NaN</td>\n      <td>NaN</td>\n      <td>NaN</td>\n      <td>NaN</td>\n      <td>NaN</td>\n      <td>True</td>\n      <td>False</td>\n      <td>27</td>\n      <td>...</td>\n      <td>False</td>\n      <td>False</td>\n      <td>False</td>\n      <td>False</td>\n      <td>False</td>\n      <td>False</td>\n      <td>False</td>\n      <td>False</td>\n      <td>True</td>\n      <td>False</td>\n    </tr>\n    <tr>\n      <th>2013-01-28</th>\n      <td>95.95</td>\n      <td>95.520</td>\n      <td>NaN</td>\n      <td>NaN</td>\n      <td>NaN</td>\n      <td>NaN</td>\n      <td>NaN</td>\n      <td>False</td>\n      <td>False</td>\n      <td>28</td>\n      <td>...</td>\n      <td>False</td>\n      <td>False</td>\n      <td>True</td>\n      <td>False</td>\n      <td>False</td>\n      <td>False</td>\n      <td>False</td>\n      <td>False</td>\n      <td>False</td>\n      <td>False</td>\n    </tr>\n    <tr>\n      <th>2013-01-29</th>\n      <td>97.62</td>\n      <td>95.826</td>\n      <td>NaN</td>\n      <td>NaN</td>\n      <td>NaN</td>\n      <td>NaN</td>\n      <td>NaN</td>\n      <td>False</td>\n      <td>False</td>\n      <td>29</td>\n      <td>...</td>\n      <td>False</td>\n      <td>False</td>\n      <td>False</td>\n      <td>True</td>\n      <td>False</td>\n      <td>False</td>\n      <td>False</td>\n      <td>False</td>\n      <td>False</td>\n      <td>False</td>\n    </tr>\n    <tr>\n      <th>2013-01-30</th>\n      <td>97.98</td>\n      <td>96.410</td>\n      <td>NaN</td>\n      <td>NaN</td>\n      <td>NaN</td>\n      <td>NaN</td>\n      <td>NaN</td>\n      <td>False</td>\n      <td>False</td>\n      <td>30</td>\n      <td>...</td>\n      <td>False</td>\n      <td>False</td>\n      <td>False</td>\n      <td>False</td>\n      <td>True</td>\n      <td>False</td>\n      <td>False</td>\n      <td>False</td>\n      <td>False</td>\n      <td>False</td>\n    </tr>\n    <tr>\n      <th>2013-01-31</th>\n      <td>97.65</td>\n      <td>96.870</td>\n      <td>NaN</td>\n      <td>NaN</td>\n      <td>NaN</td>\n      <td>NaN</td>\n      <td>NaN</td>\n      <td>False</td>\n      <td>True</td>\n      <td>31</td>\n      <td>...</td>\n      <td>False</td>\n      <td>False</td>\n      <td>False</td>\n      <td>False</td>\n      <td>False</td>\n      <td>True</td>\n      <td>False</td>\n      <td>False</td>\n      <td>False</td>\n      <td>False</td>\n    </tr>\n    <tr>\n      <th>2013-02-01</th>\n      <td>97.46</td>\n      <td>97.332</td>\n      <td>NaN</td>\n      <td>NaN</td>\n      <td>NaN</td>\n      <td>NaN</td>\n      <td>NaN</td>\n      <td>True</td>\n      <td>False</td>\n      <td>1</td>\n      <td>...</td>\n      <td>False</td>\n      <td>False</td>\n      <td>False</td>\n      <td>False</td>\n      <td>False</td>\n      <td>False</td>\n      <td>True</td>\n      <td>False</td>\n      <td>False</td>\n      <td>False</td>\n    </tr>\n    <tr>\n      <th>2013-02-02</th>\n      <td>NaN</td>\n      <td>97.332</td>\n      <td>NaN</td>\n      <td>NaN</td>\n      <td>NaN</td>\n      <td>NaN</td>\n      <td>NaN</td>\n      <td>True</td>\n      <td>False</td>\n      <td>2</td>\n      <td>...</td>\n      <td>False</td>\n      <td>False</td>\n      <td>False</td>\n      <td>False</td>\n      <td>False</td>\n      <td>False</td>\n      <td>False</td>\n      <td>True</td>\n      <td>False</td>\n      <td>False</td>\n    </tr>\n    <tr>\n      <th>2013-02-03</th>\n      <td>NaN</td>\n      <td>97.332</td>\n      <td>NaN</td>\n      <td>NaN</td>\n      <td>NaN</td>\n      <td>NaN</td>\n      <td>NaN</td>\n      <td>True</td>\n      <td>False</td>\n      <td>3</td>\n      <td>...</td>\n      <td>False</td>\n      <td>False</td>\n      <td>False</td>\n      <td>False</td>\n      <td>False</td>\n      <td>False</td>\n      <td>False</td>\n      <td>False</td>\n      <td>True</td>\n      <td>False</td>\n    </tr>\n    <tr>\n      <th>2013-02-04</th>\n      <td>96.21</td>\n      <td>97.384</td>\n      <td>NaN</td>\n      <td>NaN</td>\n      <td>NaN</td>\n      <td>NaN</td>\n      <td>NaN</td>\n      <td>False</td>\n      <td>False</td>\n      <td>4</td>\n      <td>...</td>\n      <td>False</td>\n      <td>False</td>\n      <td>True</td>\n      <td>False</td>\n      <td>False</td>\n      <td>False</td>\n      <td>False</td>\n      <td>False</td>\n      <td>False</td>\n      <td>False</td>\n    </tr>\n  </tbody>\n</table>\n<p>35 rows × 32 columns</p>\n</div>"
     },
     "execution_count": 7,
     "metadata": {},
     "output_type": "execute_result"
    }
   ],
   "source": [
    "########################################################################################################################\n",
    "# TODO: create a True/False feature calendar['wd'] to indicate whether each date is a workday (Monday-Friday) or not.\n",
    "# Hint: check documentation of pandas.DatetimeIndex.dayofweek\n",
    "########################################################################################################################\n",
    "#public sector paid\n",
    "calendar['pay'] = None\n",
    "calendar['pay'] = False\n",
    "calendar['dayind'] = calendar.index.day\n",
    "calendar['wd'] = None # change 'None' to your answer\n",
    "calendar['dofw'] = calendar.index.dayofweek ### answer\n",
    "calendar['wd'] = True ### answer\n",
    "calendar['month'] = calendar.index.month ### answer\n",
    "#months\n",
    "calendar['january']  = None\n",
    "calendar['february'] = None\n",
    "calendar['march'] = None\n",
    "calendar['april'] = None\n",
    "calendar['may'] = None\n",
    "calendar['june'] = None\n",
    "calendar['july'] = None\n",
    "calendar['august'] = None\n",
    "calendar['september'] = None\n",
    "calendar['october'] = None\n",
    "calendar['november'] = None\n",
    "calendar['december'] = None\n",
    "\n",
    "calendar['january']  = False\n",
    "calendar['february'] = False\n",
    "calendar['march'] = False\n",
    "calendar['april'] = False\n",
    "calendar['may'] = False\n",
    "calendar['june'] = False\n",
    "calendar['july'] = False\n",
    "calendar['august'] = False\n",
    "calendar['september'] = False\n",
    "calendar['october'] = False\n",
    "calendar['november'] = False\n",
    "calendar['december'] = False\n",
    "\n",
    "#all days of week\n",
    "calendar['monday'] = None\n",
    "calendar['tuesday'] = None\n",
    "calendar['wednesday'] = None\n",
    "calendar['thursday'] = None\n",
    "calendar['friday'] = None\n",
    "calendar['saturday'] = None\n",
    "calendar['sunday'] = None\n",
    "\n",
    "calendar['monday'] = False\n",
    "calendar['tuesday'] = False\n",
    "calendar['wednesday'] = False\n",
    "calendar['thursday'] = False\n",
    "calendar['friday'] = False\n",
    "calendar['saturday'] = False\n",
    "calendar['sunday'] = False\n",
    "\n",
    "#holidays\n",
    "calendar['bigholiday'] = None\n",
    "calendar['bigholiday'] = False\n",
    "\n",
    "print(calendar['dofw'\n",
    "      ])\n",
    "calendar.loc[(calendar.dofw < 4), 'wd'] = False ### answer\n",
    "calendar.loc[((calendar.dayind > 14) & (calendar.dayind < 16)) | (calendar.index.is_month_end), 'pay'] = True\n",
    "calendar.loc[(calendar.dofw == 0), 'monday'] = True ### answer\n",
    "calendar.loc[(calendar.dofw == 1), 'tuesday'] = True ### answer\n",
    "calendar.loc[(calendar.dofw == 2), 'wednesday'] = True ### answer\n",
    "calendar.loc[(calendar.dofw == 3), 'thursday'] = True ### answer\n",
    "calendar.loc[(calendar.dofw == 4), 'friday'] = True ### answer\n",
    "calendar.loc[(calendar.dofw == 5), 'saturday'] = True ### answer\n",
    "calendar.loc[(calendar.dofw == 6), 'sunday'] = True ### answer\n",
    "\n",
    "print(calendar)\n",
    "calendar.loc[(calendar.month == 0), 'january'] = True ### answer\n",
    "calendar.loc[(calendar.month == 1), 'february'] = True ### answer\n",
    "calendar.loc[(calendar.month == 2), 'march'] = True ### answer\n",
    "calendar.loc[(calendar.month == 3), 'april'] = True ### answer\n",
    "calendar.loc[(calendar.month == 4), 'may'] = True ### answer\n",
    "calendar.loc[(calendar.month == 5), 'june'] = True ### answer\n",
    "calendar.loc[(calendar.month == 6), 'july'] = True ### answer\n",
    "calendar.loc[(calendar.month == 7), 'august'] = True ### answer\n",
    "calendar.loc[(calendar.month == 8), 'september'] = True ### answer\n",
    "calendar.loc[(calendar.month == 9), 'october'] = True ### answer\n",
    "calendar.loc[(calendar.month == 10), 'november'] = True ### answer\n",
    "calendar.loc[(calendar.month == 11), 'december'] = True ### answer\n",
    "\n",
    "calendar.loc[(calendar.month == 1) & (calendar.dayind == 1) |\n",
    "#             (calendar.month == 12) & (calendar.dayind == 31) |\n",
    "#             (calendar.month == 12) & (calendar.dayind == 30) |\n",
    "#             (calendar.month == 12) & (calendar.dayind == 29) |\n",
    "\n",
    "             (calendar.month == 5) & (calendar.dayind == 30) |\n",
    "#             (calendar.month == 5) & (calendar.dayind == 29) |\n",
    "#             (calendar.month == 5) & (calendar.dayind == 28) |\n",
    "#             (calendar.month == 5) & (calendar.dayind == 27) |\n",
    "\n",
    "             (calendar.month == 5) & (calendar.dayind == 24) |\n",
    "#             (calendar.month == 5) & (calendar.dayind == 23) |\n",
    "#             (calendar.month == 5) & (calendar.dayind == 22) |\n",
    "#             (calendar.month == 5) & (calendar.dayind == 21) |\n",
    "\n",
    "             (calendar.month == 7) & (calendar.dayind == 24) |\n",
    "#             (calendar.month == 7) & (calendar.dayind == 23) |\n",
    "#             (calendar.month == 7) & (calendar.dayind == 22) |\n",
    "#             (calendar.month == 7) & (calendar.dayind == 21) |\n",
    "\n",
    "             (calendar.month == 8) & (calendar.dayind == 10) |\n",
    "             (calendar.month == 8) & (calendar.dayind == 9) |\n",
    "#             (calendar.month == 8) & (calendar.dayind == 8) |\n",
    "#             (calendar.month == 8) & (calendar.dayind == 7) |\n",
    "\n",
    "             (calendar.month == 11) & (calendar.dayind == 2) |\n",
    "#             (calendar.month == 11) & (calendar.dayind == 1) |\n",
    "#             (calendar.month == 10) & (calendar.dayind == 31) |\n",
    "#             (calendar.month == 10) & (calendar.dayind == 30) |\n",
    "\n",
    "             (calendar.month == 11) & (calendar.dayind == 25) |\n",
    "#             (calendar.month == 11) & (calendar.dayind == 24) |\n",
    "#             (calendar.month == 11) & (calendar.dayind == 23) |\n",
    "#             (calendar.month == 11) & (calendar.dayind == 22) |\n",
    "\n",
    "             (calendar.month == 12) & (calendar.dayind == 25) \n",
    "#             (calendar.month == 12) & (calendar.dayind == 24)\n",
    "#             (calendar.month == 12) & (calendar.dayind == 23) |\n",
    "#             (calendar.month == 12) & (calendar.dayind == 22)\n",
    "            , 'bigholiday'] = True\n",
    "\n",
    "\n",
    "calendar.head(35) # display some entries of calendar"
   ]
  },
  {
   "cell_type": "markdown",
   "id": "468667e8",
   "metadata": {
    "papermill": {
     "duration": 0.0049,
     "end_time": "2022-10-26T23:30:16.560371",
     "exception": false,
     "start_time": "2022-10-26T23:30:16.555471",
     "status": "completed"
    },
    "tags": []
   },
   "source": [
    "### 3. Read Train and Test Data"
   ]
  },
  {
   "cell_type": "code",
   "execution_count": 8,
   "id": "5a7cbeb6",
   "metadata": {
    "execution": {
     "iopub.execute_input": "2022-10-26T23:30:16.574907Z",
     "iopub.status.busy": "2022-10-26T23:30:16.574085Z",
     "iopub.status.idle": "2022-10-26T23:30:21.880076Z",
     "shell.execute_reply": "2022-10-26T23:30:21.878917Z"
    },
    "papermill": {
     "duration": 5.317147,
     "end_time": "2022-10-26T23:30:21.882538",
     "exception": false,
     "start_time": "2022-10-26T23:30:16.565391",
     "status": "completed"
    },
    "tags": []
   },
   "outputs": [
    {
     "data": {
      "text/plain": "                                 sales\nstore_nbr family     date             \n1         AUTOMOTIVE 2013-01-01    0.0\n                     2013-01-02    2.0\n                     2013-01-03    3.0\n                     2013-01-04    3.0\n                     2013-01-05    5.0\n                     2013-01-06    2.0\n                     2013-01-07    0.0\n                     2013-01-08    2.0\n                     2013-01-09    2.0\n                     2013-01-10    2.0\n                     2013-01-11    3.0\n                     2013-01-12    2.0\n                     2013-01-13    2.0\n                     2013-01-14    2.0\n                     2013-01-15    1.0",
      "text/html": "<div>\n<style scoped>\n    .dataframe tbody tr th:only-of-type {\n        vertical-align: middle;\n    }\n\n    .dataframe tbody tr th {\n        vertical-align: top;\n    }\n\n    .dataframe thead th {\n        text-align: right;\n    }\n</style>\n<table border=\"1\" class=\"dataframe\">\n  <thead>\n    <tr style=\"text-align: right;\">\n      <th></th>\n      <th></th>\n      <th></th>\n      <th>sales</th>\n    </tr>\n    <tr>\n      <th>store_nbr</th>\n      <th>family</th>\n      <th>date</th>\n      <th></th>\n    </tr>\n  </thead>\n  <tbody>\n    <tr>\n      <th rowspan=\"15\" valign=\"top\">1</th>\n      <th rowspan=\"15\" valign=\"top\">AUTOMOTIVE</th>\n      <th>2013-01-01</th>\n      <td>0.0</td>\n    </tr>\n    <tr>\n      <th>2013-01-02</th>\n      <td>2.0</td>\n    </tr>\n    <tr>\n      <th>2013-01-03</th>\n      <td>3.0</td>\n    </tr>\n    <tr>\n      <th>2013-01-04</th>\n      <td>3.0</td>\n    </tr>\n    <tr>\n      <th>2013-01-05</th>\n      <td>5.0</td>\n    </tr>\n    <tr>\n      <th>2013-01-06</th>\n      <td>2.0</td>\n    </tr>\n    <tr>\n      <th>2013-01-07</th>\n      <td>0.0</td>\n    </tr>\n    <tr>\n      <th>2013-01-08</th>\n      <td>2.0</td>\n    </tr>\n    <tr>\n      <th>2013-01-09</th>\n      <td>2.0</td>\n    </tr>\n    <tr>\n      <th>2013-01-10</th>\n      <td>2.0</td>\n    </tr>\n    <tr>\n      <th>2013-01-11</th>\n      <td>3.0</td>\n    </tr>\n    <tr>\n      <th>2013-01-12</th>\n      <td>2.0</td>\n    </tr>\n    <tr>\n      <th>2013-01-13</th>\n      <td>2.0</td>\n    </tr>\n    <tr>\n      <th>2013-01-14</th>\n      <td>2.0</td>\n    </tr>\n    <tr>\n      <th>2013-01-15</th>\n      <td>1.0</td>\n    </tr>\n  </tbody>\n</table>\n</div>"
     },
     "execution_count": 8,
     "metadata": {},
     "output_type": "execute_result"
    }
   ],
   "source": [
    "df_train = pd.read_csv(path + 'train.csv',\n",
    "                       usecols=['store_nbr', 'family', 'date', 'sales'],\n",
    "                       dtype={'store_nbr': 'category', 'family': 'category', 'sales': 'float32'},\n",
    "                       parse_dates=['date'], infer_datetime_format=True)\n",
    "\n",
    "df_train.date = df_train.date.dt.to_period('D')\n",
    "df_train = df_train.set_index(['store_nbr', 'family', 'date']).sort_index()\n",
    "\n",
    "df_train.head(15) # display some entries of the training data"
   ]
  },
  {
   "cell_type": "code",
   "execution_count": 9,
   "id": "3704f2fd",
   "metadata": {
    "execution": {
     "iopub.execute_input": "2022-10-26T23:30:21.894660Z",
     "iopub.status.busy": "2022-10-26T23:30:21.893915Z",
     "iopub.status.idle": "2022-10-26T23:30:21.960674Z",
     "shell.execute_reply": "2022-10-26T23:30:21.959447Z"
    },
    "papermill": {
     "duration": 0.075989,
     "end_time": "2022-10-26T23:30:21.963404",
     "exception": false,
     "start_time": "2022-10-26T23:30:21.887415",
     "status": "completed"
    },
    "tags": []
   },
   "outputs": [
    {
     "name": "stdout",
     "output_type": "stream",
     "text": [
      "<class 'pandas.core.frame.DataFrame'>\n",
      "MultiIndex: 28512 entries, ('1', 'AUTOMOTIVE', Period('2017-08-16', 'D')) to ('9', 'SEAFOOD', Period('2017-08-31', 'D'))\n",
      "Empty DataFrame"
     ]
    }
   ],
   "source": [
    "df_test = pd.read_csv(path + 'test.csv',\n",
    "                      usecols=['store_nbr', 'family', 'date'],\n",
    "                      dtype={'store_nbr': 'category', 'family': 'category'},\n",
    "                      parse_dates=['date'], infer_datetime_format=True)\n",
    "\n",
    "df_test.date = df_test.date.dt.to_period('D')\n",
    "df_test = df_test.set_index(['store_nbr', 'family', 'date']).sort_index()\n",
    "\n",
    "pd.set_option('display.max_columns', len(df_test.columns))\n",
    "\n",
    "df_test.head(15) # display some entries of the testing data\n",
    "df_test.info()"
   ]
  },
  {
   "cell_type": "code",
   "execution_count": 10,
   "id": "ff54a6b8",
   "metadata": {
    "execution": {
     "iopub.execute_input": "2022-10-26T23:30:21.975749Z",
     "iopub.status.busy": "2022-10-26T23:30:21.975363Z",
     "iopub.status.idle": "2022-10-26T23:30:23.339648Z",
     "shell.execute_reply": "2022-10-26T23:30:23.338402Z"
    },
    "papermill": {
     "duration": 1.373811,
     "end_time": "2022-10-26T23:30:23.342518",
     "exception": false,
     "start_time": "2022-10-26T23:30:21.968707",
     "status": "completed"
    },
    "tags": []
   },
   "outputs": [
    {
     "data": {
      "text/plain": "            trend     oil     wd  ...  november  december  bigholiday\ndate                              ...                                \n2017-04-01    1.0  49.138   True  ...     False     False       False\n2017-04-02    2.0  49.138   True  ...     False     False       False\n2017-04-03    3.0  49.784  False  ...     False     False       False\n2017-04-04    4.0  50.310  False  ...     False     False       False\n2017-04-05    5.0  50.644  False  ...     False     False       False\n2017-04-06    6.0  50.922  False  ...     False     False       False\n2017-04-07    7.0  51.264   True  ...     False     False       False\n2017-04-08    8.0  51.264   True  ...     False     False       False\n2017-04-09    9.0  51.264   True  ...     False     False       False\n2017-04-10   10.0  51.826  False  ...     False     False       False\n2017-04-11   11.0  52.304  False  ...     False     False       False\n2017-04-12   12.0  52.700  False  ...     False     False       False\n2017-04-13   13.0  53.000  False  ...     False     False       False\n2017-04-14   14.0  53.000   True  ...     False     False       False\n2017-04-15   15.0  53.000   True  ...     False     False       False\n\n[15 rows x 24 columns]",
      "text/html": "<div>\n<style scoped>\n    .dataframe tbody tr th:only-of-type {\n        vertical-align: middle;\n    }\n\n    .dataframe tbody tr th {\n        vertical-align: top;\n    }\n\n    .dataframe thead th {\n        text-align: right;\n    }\n</style>\n<table border=\"1\" class=\"dataframe\">\n  <thead>\n    <tr style=\"text-align: right;\">\n      <th></th>\n      <th>trend</th>\n      <th>oil</th>\n      <th>wd</th>\n      <th>pay</th>\n      <th>monday</th>\n      <th>tuesday</th>\n      <th>wednesday</th>\n      <th>thursday</th>\n      <th>friday</th>\n      <th>saturday</th>\n      <th>sunday</th>\n      <th>january</th>\n      <th>february</th>\n      <th>march</th>\n      <th>april</th>\n      <th>may</th>\n      <th>june</th>\n      <th>july</th>\n      <th>august</th>\n      <th>september</th>\n      <th>october</th>\n      <th>november</th>\n      <th>december</th>\n      <th>bigholiday</th>\n    </tr>\n    <tr>\n      <th>date</th>\n      <th></th>\n      <th></th>\n      <th></th>\n      <th></th>\n      <th></th>\n      <th></th>\n      <th></th>\n      <th></th>\n      <th></th>\n      <th></th>\n      <th></th>\n      <th></th>\n      <th></th>\n      <th></th>\n      <th></th>\n      <th></th>\n      <th></th>\n      <th></th>\n      <th></th>\n      <th></th>\n      <th></th>\n      <th></th>\n      <th></th>\n      <th></th>\n    </tr>\n  </thead>\n  <tbody>\n    <tr>\n      <th>2017-04-01</th>\n      <td>1.0</td>\n      <td>49.138</td>\n      <td>True</td>\n      <td>False</td>\n      <td>False</td>\n      <td>False</td>\n      <td>False</td>\n      <td>False</td>\n      <td>False</td>\n      <td>True</td>\n      <td>False</td>\n      <td>False</td>\n      <td>False</td>\n      <td>False</td>\n      <td>False</td>\n      <td>True</td>\n      <td>False</td>\n      <td>False</td>\n      <td>False</td>\n      <td>False</td>\n      <td>False</td>\n      <td>False</td>\n      <td>False</td>\n      <td>False</td>\n    </tr>\n    <tr>\n      <th>2017-04-02</th>\n      <td>2.0</td>\n      <td>49.138</td>\n      <td>True</td>\n      <td>False</td>\n      <td>False</td>\n      <td>False</td>\n      <td>False</td>\n      <td>False</td>\n      <td>False</td>\n      <td>False</td>\n      <td>True</td>\n      <td>False</td>\n      <td>False</td>\n      <td>False</td>\n      <td>False</td>\n      <td>True</td>\n      <td>False</td>\n      <td>False</td>\n      <td>False</td>\n      <td>False</td>\n      <td>False</td>\n      <td>False</td>\n      <td>False</td>\n      <td>False</td>\n    </tr>\n    <tr>\n      <th>2017-04-03</th>\n      <td>3.0</td>\n      <td>49.784</td>\n      <td>False</td>\n      <td>False</td>\n      <td>True</td>\n      <td>False</td>\n      <td>False</td>\n      <td>False</td>\n      <td>False</td>\n      <td>False</td>\n      <td>False</td>\n      <td>False</td>\n      <td>False</td>\n      <td>False</td>\n      <td>False</td>\n      <td>True</td>\n      <td>False</td>\n      <td>False</td>\n      <td>False</td>\n      <td>False</td>\n      <td>False</td>\n      <td>False</td>\n      <td>False</td>\n      <td>False</td>\n    </tr>\n    <tr>\n      <th>2017-04-04</th>\n      <td>4.0</td>\n      <td>50.310</td>\n      <td>False</td>\n      <td>False</td>\n      <td>False</td>\n      <td>True</td>\n      <td>False</td>\n      <td>False</td>\n      <td>False</td>\n      <td>False</td>\n      <td>False</td>\n      <td>False</td>\n      <td>False</td>\n      <td>False</td>\n      <td>False</td>\n      <td>True</td>\n      <td>False</td>\n      <td>False</td>\n      <td>False</td>\n      <td>False</td>\n      <td>False</td>\n      <td>False</td>\n      <td>False</td>\n      <td>False</td>\n    </tr>\n    <tr>\n      <th>2017-04-05</th>\n      <td>5.0</td>\n      <td>50.644</td>\n      <td>False</td>\n      <td>False</td>\n      <td>False</td>\n      <td>False</td>\n      <td>True</td>\n      <td>False</td>\n      <td>False</td>\n      <td>False</td>\n      <td>False</td>\n      <td>False</td>\n      <td>False</td>\n      <td>False</td>\n      <td>False</td>\n      <td>True</td>\n      <td>False</td>\n      <td>False</td>\n      <td>False</td>\n      <td>False</td>\n      <td>False</td>\n      <td>False</td>\n      <td>False</td>\n      <td>False</td>\n    </tr>\n    <tr>\n      <th>2017-04-06</th>\n      <td>6.0</td>\n      <td>50.922</td>\n      <td>False</td>\n      <td>False</td>\n      <td>False</td>\n      <td>False</td>\n      <td>False</td>\n      <td>True</td>\n      <td>False</td>\n      <td>False</td>\n      <td>False</td>\n      <td>False</td>\n      <td>False</td>\n      <td>False</td>\n      <td>False</td>\n      <td>True</td>\n      <td>False</td>\n      <td>False</td>\n      <td>False</td>\n      <td>False</td>\n      <td>False</td>\n      <td>False</td>\n      <td>False</td>\n      <td>False</td>\n    </tr>\n    <tr>\n      <th>2017-04-07</th>\n      <td>7.0</td>\n      <td>51.264</td>\n      <td>True</td>\n      <td>False</td>\n      <td>False</td>\n      <td>False</td>\n      <td>False</td>\n      <td>False</td>\n      <td>True</td>\n      <td>False</td>\n      <td>False</td>\n      <td>False</td>\n      <td>False</td>\n      <td>False</td>\n      <td>False</td>\n      <td>True</td>\n      <td>False</td>\n      <td>False</td>\n      <td>False</td>\n      <td>False</td>\n      <td>False</td>\n      <td>False</td>\n      <td>False</td>\n      <td>False</td>\n    </tr>\n    <tr>\n      <th>2017-04-08</th>\n      <td>8.0</td>\n      <td>51.264</td>\n      <td>True</td>\n      <td>False</td>\n      <td>False</td>\n      <td>False</td>\n      <td>False</td>\n      <td>False</td>\n      <td>False</td>\n      <td>True</td>\n      <td>False</td>\n      <td>False</td>\n      <td>False</td>\n      <td>False</td>\n      <td>False</td>\n      <td>True</td>\n      <td>False</td>\n      <td>False</td>\n      <td>False</td>\n      <td>False</td>\n      <td>False</td>\n      <td>False</td>\n      <td>False</td>\n      <td>False</td>\n    </tr>\n    <tr>\n      <th>2017-04-09</th>\n      <td>9.0</td>\n      <td>51.264</td>\n      <td>True</td>\n      <td>False</td>\n      <td>False</td>\n      <td>False</td>\n      <td>False</td>\n      <td>False</td>\n      <td>False</td>\n      <td>False</td>\n      <td>True</td>\n      <td>False</td>\n      <td>False</td>\n      <td>False</td>\n      <td>False</td>\n      <td>True</td>\n      <td>False</td>\n      <td>False</td>\n      <td>False</td>\n      <td>False</td>\n      <td>False</td>\n      <td>False</td>\n      <td>False</td>\n      <td>False</td>\n    </tr>\n    <tr>\n      <th>2017-04-10</th>\n      <td>10.0</td>\n      <td>51.826</td>\n      <td>False</td>\n      <td>False</td>\n      <td>True</td>\n      <td>False</td>\n      <td>False</td>\n      <td>False</td>\n      <td>False</td>\n      <td>False</td>\n      <td>False</td>\n      <td>False</td>\n      <td>False</td>\n      <td>False</td>\n      <td>False</td>\n      <td>True</td>\n      <td>False</td>\n      <td>False</td>\n      <td>False</td>\n      <td>False</td>\n      <td>False</td>\n      <td>False</td>\n      <td>False</td>\n      <td>False</td>\n    </tr>\n    <tr>\n      <th>2017-04-11</th>\n      <td>11.0</td>\n      <td>52.304</td>\n      <td>False</td>\n      <td>False</td>\n      <td>False</td>\n      <td>True</td>\n      <td>False</td>\n      <td>False</td>\n      <td>False</td>\n      <td>False</td>\n      <td>False</td>\n      <td>False</td>\n      <td>False</td>\n      <td>False</td>\n      <td>False</td>\n      <td>True</td>\n      <td>False</td>\n      <td>False</td>\n      <td>False</td>\n      <td>False</td>\n      <td>False</td>\n      <td>False</td>\n      <td>False</td>\n      <td>False</td>\n    </tr>\n    <tr>\n      <th>2017-04-12</th>\n      <td>12.0</td>\n      <td>52.700</td>\n      <td>False</td>\n      <td>False</td>\n      <td>False</td>\n      <td>False</td>\n      <td>True</td>\n      <td>False</td>\n      <td>False</td>\n      <td>False</td>\n      <td>False</td>\n      <td>False</td>\n      <td>False</td>\n      <td>False</td>\n      <td>False</td>\n      <td>True</td>\n      <td>False</td>\n      <td>False</td>\n      <td>False</td>\n      <td>False</td>\n      <td>False</td>\n      <td>False</td>\n      <td>False</td>\n      <td>False</td>\n    </tr>\n    <tr>\n      <th>2017-04-13</th>\n      <td>13.0</td>\n      <td>53.000</td>\n      <td>False</td>\n      <td>False</td>\n      <td>False</td>\n      <td>False</td>\n      <td>False</td>\n      <td>True</td>\n      <td>False</td>\n      <td>False</td>\n      <td>False</td>\n      <td>False</td>\n      <td>False</td>\n      <td>False</td>\n      <td>False</td>\n      <td>True</td>\n      <td>False</td>\n      <td>False</td>\n      <td>False</td>\n      <td>False</td>\n      <td>False</td>\n      <td>False</td>\n      <td>False</td>\n      <td>False</td>\n    </tr>\n    <tr>\n      <th>2017-04-14</th>\n      <td>14.0</td>\n      <td>53.000</td>\n      <td>True</td>\n      <td>False</td>\n      <td>False</td>\n      <td>False</td>\n      <td>False</td>\n      <td>False</td>\n      <td>True</td>\n      <td>False</td>\n      <td>False</td>\n      <td>False</td>\n      <td>False</td>\n      <td>False</td>\n      <td>False</td>\n      <td>True</td>\n      <td>False</td>\n      <td>False</td>\n      <td>False</td>\n      <td>False</td>\n      <td>False</td>\n      <td>False</td>\n      <td>False</td>\n      <td>False</td>\n    </tr>\n    <tr>\n      <th>2017-04-15</th>\n      <td>15.0</td>\n      <td>53.000</td>\n      <td>True</td>\n      <td>True</td>\n      <td>False</td>\n      <td>False</td>\n      <td>False</td>\n      <td>False</td>\n      <td>False</td>\n      <td>True</td>\n      <td>False</td>\n      <td>False</td>\n      <td>False</td>\n      <td>False</td>\n      <td>False</td>\n      <td>True</td>\n      <td>False</td>\n      <td>False</td>\n      <td>False</td>\n      <td>False</td>\n      <td>False</td>\n      <td>False</td>\n      <td>False</td>\n      <td>False</td>\n    </tr>\n  </tbody>\n</table>\n</div>"
     },
     "execution_count": 10,
     "metadata": {},
     "output_type": "execute_result"
    }
   ],
   "source": [
    "# set the range of data used in training\n",
    "sdate = '2017-04-01'\n",
    "edate = '2017-08-15'\n",
    "\n",
    "# we will train a model that takes feature of a date as input and predicts the sales for each store and family of goods on that date.\n",
    "y = df_train.unstack(['store_nbr', 'family']).loc[sdate:edate]\n",
    "\n",
    "\n",
    "########################################################################################################################\n",
    "# TODO: create the trend feature X: the value for sdate is 1, the value for the next day of sdate is 2, etc.\n",
    "# Hint: check the documentation of DeterministicProcess, or this tutorial: https://www.kaggle.com/code/ryanholbrook/trend.\n",
    "########################################################################################################################\n",
    "\n",
    "X = None # change 'None' to your answer\n",
    "dp = DeterministicProcess(index=y.index, ### answer\n",
    "                          constant=False,\n",
    "                          order=1)\n",
    "X = dp.in_sample() ### answer\n",
    "# Extentions\n",
    "X['oil']  = calendar.loc[sdate:edate]['ma_oil'].values\n",
    "X['wd']   = calendar.loc[sdate:edate]['wd'].values\n",
    "X['pay']  = calendar.loc[sdate:edate]['pay'].values\n",
    "X['monday'] = calendar.loc[sdate:edate]['monday'].values\n",
    "X['tuesday'] = calendar.loc[sdate:edate]['tuesday'].values\n",
    "X['wednesday'] = calendar.loc[sdate:edate]['wednesday'].values\n",
    "X['thursday'] = calendar.loc[sdate:edate]['thursday'].values\n",
    "X['friday'] = calendar.loc[sdate:edate]['friday'].values\n",
    "X['saturday'] = calendar.loc[sdate:edate]['saturday'].values\n",
    "X['sunday'] = calendar.loc[sdate:edate]['sunday'].values\n",
    "\n",
    "X['january'] = calendar.loc[sdate:edate]['january'].values\n",
    "X['february'] = calendar.loc[sdate:edate]['february'].values\n",
    "X['march'] = calendar.loc[sdate:edate]['march'].values\n",
    "X['april'] = calendar.loc[sdate:edate]['april'].values\n",
    "X['may'] = calendar.loc[sdate:edate]['may'].values\n",
    "X['june'] = calendar.loc[sdate:edate]['june'].values\n",
    "X['july'] = calendar.loc[sdate:edate]['july'].values\n",
    "X['august'] = calendar.loc[sdate:edate]['august'].values\n",
    "X['september'] = calendar.loc[sdate:edate]['september'].values\n",
    "X['october'] = calendar.loc[sdate:edate]['october'].values\n",
    "X['november'] = calendar.loc[sdate:edate]['november'].values\n",
    "X['december'] = calendar.loc[sdate:edate]['december'].values\n",
    "\n",
    "X['bigholiday'] = calendar.loc[sdate:edate]['bigholiday'].values\n",
    "\n",
    "#df_test = df_test.set_index('date')\n",
    "\n",
    "# Use the pivot method to reshape the dataframe and create a new column for each str_nbr value\n",
    "#df_test = df_test.pivot(columns='str_nbr')\n",
    "\n",
    "# Rename the columns to include the str_nbr value\n",
    "#df_test.columns = [f'str_{c[1]}' for c in df_test.columns]\n",
    "\n",
    "# Merge the reshaped dataframe with X\n",
    "#X = pd.concat([X, df_test], axis=1)\n",
    "X.head(15)"
   ]
  },
  {
   "cell_type": "code",
   "execution_count": 10,
   "outputs": [],
   "source": [],
   "metadata": {
    "collapsed": false
   }
  },
  {
   "cell_type": "code",
   "execution_count": 10,
   "outputs": [],
   "source": [],
   "metadata": {
    "collapsed": false
   }
  },
  {
   "cell_type": "markdown",
   "id": "b0cc688b",
   "metadata": {
    "papermill": {
     "duration": 0.005308,
     "end_time": "2022-10-26T23:30:23.353709",
     "exception": false,
     "start_time": "2022-10-26T23:30:23.348401",
     "status": "completed"
    },
    "tags": []
   },
   "source": [
    "### 4. Train Model!"
   ]
  },
  {
   "cell_type": "code",
   "execution_count": 11,
   "id": "97876cd8",
   "metadata": {
    "execution": {
     "iopub.execute_input": "2022-10-26T23:30:23.367146Z",
     "iopub.status.busy": "2022-10-26T23:30:23.366065Z",
     "iopub.status.idle": "2022-10-26T23:30:23.425469Z",
     "shell.execute_reply": "2022-10-26T23:30:23.421030Z"
    },
    "papermill": {
     "duration": 0.070576,
     "end_time": "2022-10-26T23:30:23.429767",
     "exception": false,
     "start_time": "2022-10-26T23:30:23.359191",
     "status": "completed"
    },
    "tags": []
   },
   "outputs": [],
   "source": [
    "#model = Ridge(fit_intercept=True, solver='auto', alpha=0.5, normalize=True)\n",
    "\n",
    "\n",
    "model = MLPRegressor(hidden_layer_sizes=(64, 64), learning_rate_init=0.07, max_iter = 5000)\n",
    "new_model = MultiOutputRegressor(model)\n",
    "new_model.fit(X, y)\n",
    "\n",
    "#partial fit\n",
    "#for i in range(50):\n",
    "#    new_model.partial_fit(X, y)\n",
    "    #scores = []\n",
    "    #scores.append(new_model.score(X, y))\n",
    "#    print(\"Iteration {}, Test score = {}\".format(i+1, new_model.score(X, y)))\n",
    "y_pred = pd.DataFrame(new_model.predict(X), index=X.index, columns=y.columns)"
   ]
  },
  {
   "cell_type": "code",
   "execution_count": 12,
   "outputs": [],
   "source": [
    "dp = DeterministicProcess(index = y.index, constant=False, order=1)\n",
    "X = dp.in_sample()\n",
    "calendar['dow'] = calendar.index.dayofweek\n",
    "\n",
    "# Extentions\n",
    "X['oil']  = calendar.loc[sdate:edate]['ma_oil'].values\n",
    "X['dow'] = calendar.loc[sdate:edate]['dow'].values\n",
    "X['wd']   = calendar.loc[sdate:edate]['wd'].values\n",
    "X['type'] = calendar.loc[sdate:edate]['type'].values\n",
    "X = pd.get_dummies(X, columns=['dow'], drop_first=True)\n",
    "X = pd.get_dummies(X, columns=['type'], drop_first=False)"
   ],
   "metadata": {
    "collapsed": false
   }
  },
  {
   "cell_type": "code",
   "execution_count": 13,
   "outputs": [
    {
     "data": {
      "text/plain": "RandomForestRegressor(n_estimators=250, random_state=2022)"
     },
     "execution_count": 13,
     "metadata": {},
     "output_type": "execute_result"
    }
   ],
   "source": [
    "model_rf = RandomForestRegressor(n_estimators=250,random_state=2022, verbose=0)\n",
    "model_rf.fit(X, y)"
   ],
   "metadata": {
    "collapsed": false
   }
  },
  {
   "cell_type": "code",
   "execution_count": 13,
   "outputs": [],
   "source": [],
   "metadata": {
    "collapsed": false
   }
  },
  {
   "cell_type": "code",
   "execution_count": 14,
   "outputs": [
    {
     "data": {
      "text/plain": "         date store_nbr      family        sales\n0  2017-04-01         1  AUTOMOTIVE     5.716524\n1  2017-04-01         1   BABY CARE    -0.020752\n2  2017-04-01         1      BEAUTY     2.648265\n3  2017-04-01         1   BEVERAGES  2502.454954\n4  2017-04-01         1       BOOKS     0.167573",
      "text/html": "<div>\n<style scoped>\n    .dataframe tbody tr th:only-of-type {\n        vertical-align: middle;\n    }\n\n    .dataframe tbody tr th {\n        vertical-align: top;\n    }\n\n    .dataframe thead th {\n        text-align: right;\n    }\n</style>\n<table border=\"1\" class=\"dataframe\">\n  <thead>\n    <tr style=\"text-align: right;\">\n      <th></th>\n      <th>date</th>\n      <th>store_nbr</th>\n      <th>family</th>\n      <th>sales</th>\n    </tr>\n  </thead>\n  <tbody>\n    <tr>\n      <th>0</th>\n      <td>2017-04-01</td>\n      <td>1</td>\n      <td>AUTOMOTIVE</td>\n      <td>5.716524</td>\n    </tr>\n    <tr>\n      <th>1</th>\n      <td>2017-04-01</td>\n      <td>1</td>\n      <td>BABY CARE</td>\n      <td>-0.020752</td>\n    </tr>\n    <tr>\n      <th>2</th>\n      <td>2017-04-01</td>\n      <td>1</td>\n      <td>BEAUTY</td>\n      <td>2.648265</td>\n    </tr>\n    <tr>\n      <th>3</th>\n      <td>2017-04-01</td>\n      <td>1</td>\n      <td>BEVERAGES</td>\n      <td>2502.454954</td>\n    </tr>\n    <tr>\n      <th>4</th>\n      <td>2017-04-01</td>\n      <td>1</td>\n      <td>BOOKS</td>\n      <td>0.167573</td>\n    </tr>\n  </tbody>\n</table>\n</div>"
     },
     "execution_count": 14,
     "metadata": {},
     "output_type": "execute_result"
    }
   ],
   "source": [
    "y_pred_alt = pd.DataFrame(model_rf.predict(X), index=X.index, columns=y.columns)\n",
    "y_pred_alt=y_pred.stack(['store_nbr', 'family']).reset_index()\n",
    "y_pred_alt.head()"
   ],
   "metadata": {
    "collapsed": false
   }
  },
  {
   "cell_type": "code",
   "execution_count": 15,
   "outputs": [
    {
     "name": "stderr",
     "output_type": "stream",
     "text": [
      "/Users/hoseunglee/opt/anaconda3/lib/python3.9/site-packages/sklearn/base.py:493: FutureWarning: The feature names should match those that were passed during fit. Starting version 1.2, an error will be raised.\n",
      "Feature names unseen at fit time:\n",
      "- dow_1\n",
      "- dow_2\n",
      "- dow_3\n",
      "- dow_4\n",
      "- dow_5\n",
      "- ...\n",
      "Feature names seen at fit time, yet now missing:\n",
      "- april\n",
      "- august\n",
      "- bigholiday\n",
      "- december\n",
      "- february\n",
      "- ...\n",
      "\n",
      "  warnings.warn(message, FutureWarning)\n"
     ]
    },
    {
     "ename": "ValueError",
     "evalue": "X has 13 features, but MLPRegressor is expecting 24 features as input.",
     "output_type": "error",
     "traceback": [
      "\u001B[0;31m---------------------------------------------------------------------------\u001B[0m",
      "\u001B[0;31mValueError\u001B[0m                                Traceback (most recent call last)",
      "\u001B[0;32m/var/folders/20/73d9jc4j00dfhtcny191qfgc0000gn/T/ipykernel_33629/14114943.py\u001B[0m in \u001B[0;36m<module>\u001B[0;34m\u001B[0m\n\u001B[1;32m      1\u001B[0m \u001B[0;31m#get loss scores\u001B[0m\u001B[0;34m\u001B[0m\u001B[0;34m\u001B[0m\u001B[0m\n\u001B[0;32m----> 2\u001B[0;31m \u001B[0mprint\u001B[0m\u001B[0;34m(\u001B[0m\u001B[0mnew_model\u001B[0m\u001B[0;34m.\u001B[0m\u001B[0mscore\u001B[0m\u001B[0;34m(\u001B[0m\u001B[0mX\u001B[0m\u001B[0;34m,\u001B[0m \u001B[0my\u001B[0m\u001B[0;34m)\u001B[0m\u001B[0;34m)\u001B[0m\u001B[0;34m\u001B[0m\u001B[0;34m\u001B[0m\u001B[0m\n\u001B[0m",
      "\u001B[0;32m~/opt/anaconda3/lib/python3.9/site-packages/sklearn/base.py\u001B[0m in \u001B[0;36mscore\u001B[0;34m(self, X, y, sample_weight)\u001B[0m\n\u001B[1;32m    703\u001B[0m         \u001B[0;32mfrom\u001B[0m \u001B[0;34m.\u001B[0m\u001B[0mmetrics\u001B[0m \u001B[0;32mimport\u001B[0m \u001B[0mr2_score\u001B[0m\u001B[0;34m\u001B[0m\u001B[0;34m\u001B[0m\u001B[0m\n\u001B[1;32m    704\u001B[0m \u001B[0;34m\u001B[0m\u001B[0m\n\u001B[0;32m--> 705\u001B[0;31m         \u001B[0my_pred\u001B[0m \u001B[0;34m=\u001B[0m \u001B[0mself\u001B[0m\u001B[0;34m.\u001B[0m\u001B[0mpredict\u001B[0m\u001B[0;34m(\u001B[0m\u001B[0mX\u001B[0m\u001B[0;34m)\u001B[0m\u001B[0;34m\u001B[0m\u001B[0;34m\u001B[0m\u001B[0m\n\u001B[0m\u001B[1;32m    706\u001B[0m         \u001B[0;32mreturn\u001B[0m \u001B[0mr2_score\u001B[0m\u001B[0;34m(\u001B[0m\u001B[0my\u001B[0m\u001B[0;34m,\u001B[0m \u001B[0my_pred\u001B[0m\u001B[0;34m,\u001B[0m \u001B[0msample_weight\u001B[0m\u001B[0;34m=\u001B[0m\u001B[0msample_weight\u001B[0m\u001B[0;34m)\u001B[0m\u001B[0;34m\u001B[0m\u001B[0;34m\u001B[0m\u001B[0m\n\u001B[1;32m    707\u001B[0m \u001B[0;34m\u001B[0m\u001B[0m\n",
      "\u001B[0;32m~/opt/anaconda3/lib/python3.9/site-packages/sklearn/multioutput.py\u001B[0m in \u001B[0;36mpredict\u001B[0;34m(self, X)\u001B[0m\n\u001B[1;32m    232\u001B[0m             \u001B[0;32mraise\u001B[0m \u001B[0mValueError\u001B[0m\u001B[0;34m(\u001B[0m\u001B[0;34m\"The base estimator should implement a predict method\"\u001B[0m\u001B[0;34m)\u001B[0m\u001B[0;34m\u001B[0m\u001B[0;34m\u001B[0m\u001B[0m\n\u001B[1;32m    233\u001B[0m \u001B[0;34m\u001B[0m\u001B[0m\n\u001B[0;32m--> 234\u001B[0;31m         y = Parallel(n_jobs=self.n_jobs)(\n\u001B[0m\u001B[1;32m    235\u001B[0m             \u001B[0mdelayed\u001B[0m\u001B[0;34m(\u001B[0m\u001B[0me\u001B[0m\u001B[0;34m.\u001B[0m\u001B[0mpredict\u001B[0m\u001B[0;34m)\u001B[0m\u001B[0;34m(\u001B[0m\u001B[0mX\u001B[0m\u001B[0;34m)\u001B[0m \u001B[0;32mfor\u001B[0m \u001B[0me\u001B[0m \u001B[0;32min\u001B[0m \u001B[0mself\u001B[0m\u001B[0;34m.\u001B[0m\u001B[0mestimators_\u001B[0m\u001B[0;34m\u001B[0m\u001B[0;34m\u001B[0m\u001B[0m\n\u001B[1;32m    236\u001B[0m         )\n",
      "\u001B[0;32m~/opt/anaconda3/lib/python3.9/site-packages/joblib/parallel.py\u001B[0m in \u001B[0;36m__call__\u001B[0;34m(self, iterable)\u001B[0m\n\u001B[1;32m   1041\u001B[0m             \u001B[0;31m# remaining jobs.\u001B[0m\u001B[0;34m\u001B[0m\u001B[0;34m\u001B[0m\u001B[0m\n\u001B[1;32m   1042\u001B[0m             \u001B[0mself\u001B[0m\u001B[0;34m.\u001B[0m\u001B[0m_iterating\u001B[0m \u001B[0;34m=\u001B[0m \u001B[0;32mFalse\u001B[0m\u001B[0;34m\u001B[0m\u001B[0;34m\u001B[0m\u001B[0m\n\u001B[0;32m-> 1043\u001B[0;31m             \u001B[0;32mif\u001B[0m \u001B[0mself\u001B[0m\u001B[0;34m.\u001B[0m\u001B[0mdispatch_one_batch\u001B[0m\u001B[0;34m(\u001B[0m\u001B[0miterator\u001B[0m\u001B[0;34m)\u001B[0m\u001B[0;34m:\u001B[0m\u001B[0;34m\u001B[0m\u001B[0;34m\u001B[0m\u001B[0m\n\u001B[0m\u001B[1;32m   1044\u001B[0m                 \u001B[0mself\u001B[0m\u001B[0;34m.\u001B[0m\u001B[0m_iterating\u001B[0m \u001B[0;34m=\u001B[0m \u001B[0mself\u001B[0m\u001B[0;34m.\u001B[0m\u001B[0m_original_iterator\u001B[0m \u001B[0;32mis\u001B[0m \u001B[0;32mnot\u001B[0m \u001B[0;32mNone\u001B[0m\u001B[0;34m\u001B[0m\u001B[0;34m\u001B[0m\u001B[0m\n\u001B[1;32m   1045\u001B[0m \u001B[0;34m\u001B[0m\u001B[0m\n",
      "\u001B[0;32m~/opt/anaconda3/lib/python3.9/site-packages/joblib/parallel.py\u001B[0m in \u001B[0;36mdispatch_one_batch\u001B[0;34m(self, iterator)\u001B[0m\n\u001B[1;32m    859\u001B[0m                 \u001B[0;32mreturn\u001B[0m \u001B[0;32mFalse\u001B[0m\u001B[0;34m\u001B[0m\u001B[0;34m\u001B[0m\u001B[0m\n\u001B[1;32m    860\u001B[0m             \u001B[0;32melse\u001B[0m\u001B[0;34m:\u001B[0m\u001B[0;34m\u001B[0m\u001B[0;34m\u001B[0m\u001B[0m\n\u001B[0;32m--> 861\u001B[0;31m                 \u001B[0mself\u001B[0m\u001B[0;34m.\u001B[0m\u001B[0m_dispatch\u001B[0m\u001B[0;34m(\u001B[0m\u001B[0mtasks\u001B[0m\u001B[0;34m)\u001B[0m\u001B[0;34m\u001B[0m\u001B[0;34m\u001B[0m\u001B[0m\n\u001B[0m\u001B[1;32m    862\u001B[0m                 \u001B[0;32mreturn\u001B[0m \u001B[0;32mTrue\u001B[0m\u001B[0;34m\u001B[0m\u001B[0;34m\u001B[0m\u001B[0m\n\u001B[1;32m    863\u001B[0m \u001B[0;34m\u001B[0m\u001B[0m\n",
      "\u001B[0;32m~/opt/anaconda3/lib/python3.9/site-packages/joblib/parallel.py\u001B[0m in \u001B[0;36m_dispatch\u001B[0;34m(self, batch)\u001B[0m\n\u001B[1;32m    777\u001B[0m         \u001B[0;32mwith\u001B[0m \u001B[0mself\u001B[0m\u001B[0;34m.\u001B[0m\u001B[0m_lock\u001B[0m\u001B[0;34m:\u001B[0m\u001B[0;34m\u001B[0m\u001B[0;34m\u001B[0m\u001B[0m\n\u001B[1;32m    778\u001B[0m             \u001B[0mjob_idx\u001B[0m \u001B[0;34m=\u001B[0m \u001B[0mlen\u001B[0m\u001B[0;34m(\u001B[0m\u001B[0mself\u001B[0m\u001B[0;34m.\u001B[0m\u001B[0m_jobs\u001B[0m\u001B[0;34m)\u001B[0m\u001B[0;34m\u001B[0m\u001B[0;34m\u001B[0m\u001B[0m\n\u001B[0;32m--> 779\u001B[0;31m             \u001B[0mjob\u001B[0m \u001B[0;34m=\u001B[0m \u001B[0mself\u001B[0m\u001B[0;34m.\u001B[0m\u001B[0m_backend\u001B[0m\u001B[0;34m.\u001B[0m\u001B[0mapply_async\u001B[0m\u001B[0;34m(\u001B[0m\u001B[0mbatch\u001B[0m\u001B[0;34m,\u001B[0m \u001B[0mcallback\u001B[0m\u001B[0;34m=\u001B[0m\u001B[0mcb\u001B[0m\u001B[0;34m)\u001B[0m\u001B[0;34m\u001B[0m\u001B[0;34m\u001B[0m\u001B[0m\n\u001B[0m\u001B[1;32m    780\u001B[0m             \u001B[0;31m# A job can complete so quickly than its callback is\u001B[0m\u001B[0;34m\u001B[0m\u001B[0;34m\u001B[0m\u001B[0m\n\u001B[1;32m    781\u001B[0m             \u001B[0;31m# called before we get here, causing self._jobs to\u001B[0m\u001B[0;34m\u001B[0m\u001B[0;34m\u001B[0m\u001B[0m\n",
      "\u001B[0;32m~/opt/anaconda3/lib/python3.9/site-packages/joblib/_parallel_backends.py\u001B[0m in \u001B[0;36mapply_async\u001B[0;34m(self, func, callback)\u001B[0m\n\u001B[1;32m    206\u001B[0m     \u001B[0;32mdef\u001B[0m \u001B[0mapply_async\u001B[0m\u001B[0;34m(\u001B[0m\u001B[0mself\u001B[0m\u001B[0;34m,\u001B[0m \u001B[0mfunc\u001B[0m\u001B[0;34m,\u001B[0m \u001B[0mcallback\u001B[0m\u001B[0;34m=\u001B[0m\u001B[0;32mNone\u001B[0m\u001B[0;34m)\u001B[0m\u001B[0;34m:\u001B[0m\u001B[0;34m\u001B[0m\u001B[0;34m\u001B[0m\u001B[0m\n\u001B[1;32m    207\u001B[0m         \u001B[0;34m\"\"\"Schedule a func to be run\"\"\"\u001B[0m\u001B[0;34m\u001B[0m\u001B[0;34m\u001B[0m\u001B[0m\n\u001B[0;32m--> 208\u001B[0;31m         \u001B[0mresult\u001B[0m \u001B[0;34m=\u001B[0m \u001B[0mImmediateResult\u001B[0m\u001B[0;34m(\u001B[0m\u001B[0mfunc\u001B[0m\u001B[0;34m)\u001B[0m\u001B[0;34m\u001B[0m\u001B[0;34m\u001B[0m\u001B[0m\n\u001B[0m\u001B[1;32m    209\u001B[0m         \u001B[0;32mif\u001B[0m \u001B[0mcallback\u001B[0m\u001B[0;34m:\u001B[0m\u001B[0;34m\u001B[0m\u001B[0;34m\u001B[0m\u001B[0m\n\u001B[1;32m    210\u001B[0m             \u001B[0mcallback\u001B[0m\u001B[0;34m(\u001B[0m\u001B[0mresult\u001B[0m\u001B[0;34m)\u001B[0m\u001B[0;34m\u001B[0m\u001B[0;34m\u001B[0m\u001B[0m\n",
      "\u001B[0;32m~/opt/anaconda3/lib/python3.9/site-packages/joblib/_parallel_backends.py\u001B[0m in \u001B[0;36m__init__\u001B[0;34m(self, batch)\u001B[0m\n\u001B[1;32m    570\u001B[0m         \u001B[0;31m# Don't delay the application, to avoid keeping the input\u001B[0m\u001B[0;34m\u001B[0m\u001B[0;34m\u001B[0m\u001B[0m\n\u001B[1;32m    571\u001B[0m         \u001B[0;31m# arguments in memory\u001B[0m\u001B[0;34m\u001B[0m\u001B[0;34m\u001B[0m\u001B[0m\n\u001B[0;32m--> 572\u001B[0;31m         \u001B[0mself\u001B[0m\u001B[0;34m.\u001B[0m\u001B[0mresults\u001B[0m \u001B[0;34m=\u001B[0m \u001B[0mbatch\u001B[0m\u001B[0;34m(\u001B[0m\u001B[0;34m)\u001B[0m\u001B[0;34m\u001B[0m\u001B[0;34m\u001B[0m\u001B[0m\n\u001B[0m\u001B[1;32m    573\u001B[0m \u001B[0;34m\u001B[0m\u001B[0m\n\u001B[1;32m    574\u001B[0m     \u001B[0;32mdef\u001B[0m \u001B[0mget\u001B[0m\u001B[0;34m(\u001B[0m\u001B[0mself\u001B[0m\u001B[0;34m)\u001B[0m\u001B[0;34m:\u001B[0m\u001B[0;34m\u001B[0m\u001B[0;34m\u001B[0m\u001B[0m\n",
      "\u001B[0;32m~/opt/anaconda3/lib/python3.9/site-packages/joblib/parallel.py\u001B[0m in \u001B[0;36m__call__\u001B[0;34m(self)\u001B[0m\n\u001B[1;32m    260\u001B[0m         \u001B[0;31m# change the default number of processes to -1\u001B[0m\u001B[0;34m\u001B[0m\u001B[0;34m\u001B[0m\u001B[0m\n\u001B[1;32m    261\u001B[0m         \u001B[0;32mwith\u001B[0m \u001B[0mparallel_backend\u001B[0m\u001B[0;34m(\u001B[0m\u001B[0mself\u001B[0m\u001B[0;34m.\u001B[0m\u001B[0m_backend\u001B[0m\u001B[0;34m,\u001B[0m \u001B[0mn_jobs\u001B[0m\u001B[0;34m=\u001B[0m\u001B[0mself\u001B[0m\u001B[0;34m.\u001B[0m\u001B[0m_n_jobs\u001B[0m\u001B[0;34m)\u001B[0m\u001B[0;34m:\u001B[0m\u001B[0;34m\u001B[0m\u001B[0;34m\u001B[0m\u001B[0m\n\u001B[0;32m--> 262\u001B[0;31m             return [func(*args, **kwargs)\n\u001B[0m\u001B[1;32m    263\u001B[0m                     for func, args, kwargs in self.items]\n\u001B[1;32m    264\u001B[0m \u001B[0;34m\u001B[0m\u001B[0m\n",
      "\u001B[0;32m~/opt/anaconda3/lib/python3.9/site-packages/joblib/parallel.py\u001B[0m in \u001B[0;36m<listcomp>\u001B[0;34m(.0)\u001B[0m\n\u001B[1;32m    260\u001B[0m         \u001B[0;31m# change the default number of processes to -1\u001B[0m\u001B[0;34m\u001B[0m\u001B[0;34m\u001B[0m\u001B[0m\n\u001B[1;32m    261\u001B[0m         \u001B[0;32mwith\u001B[0m \u001B[0mparallel_backend\u001B[0m\u001B[0;34m(\u001B[0m\u001B[0mself\u001B[0m\u001B[0;34m.\u001B[0m\u001B[0m_backend\u001B[0m\u001B[0;34m,\u001B[0m \u001B[0mn_jobs\u001B[0m\u001B[0;34m=\u001B[0m\u001B[0mself\u001B[0m\u001B[0;34m.\u001B[0m\u001B[0m_n_jobs\u001B[0m\u001B[0;34m)\u001B[0m\u001B[0;34m:\u001B[0m\u001B[0;34m\u001B[0m\u001B[0;34m\u001B[0m\u001B[0m\n\u001B[0;32m--> 262\u001B[0;31m             return [func(*args, **kwargs)\n\u001B[0m\u001B[1;32m    263\u001B[0m                     for func, args, kwargs in self.items]\n\u001B[1;32m    264\u001B[0m \u001B[0;34m\u001B[0m\u001B[0m\n",
      "\u001B[0;32m~/opt/anaconda3/lib/python3.9/site-packages/sklearn/utils/fixes.py\u001B[0m in \u001B[0;36m__call__\u001B[0;34m(self, *args, **kwargs)\u001B[0m\n\u001B[1;32m    214\u001B[0m     \u001B[0;32mdef\u001B[0m \u001B[0m__call__\u001B[0m\u001B[0;34m(\u001B[0m\u001B[0mself\u001B[0m\u001B[0;34m,\u001B[0m \u001B[0;34m*\u001B[0m\u001B[0margs\u001B[0m\u001B[0;34m,\u001B[0m \u001B[0;34m**\u001B[0m\u001B[0mkwargs\u001B[0m\u001B[0;34m)\u001B[0m\u001B[0;34m:\u001B[0m\u001B[0;34m\u001B[0m\u001B[0;34m\u001B[0m\u001B[0m\n\u001B[1;32m    215\u001B[0m         \u001B[0;32mwith\u001B[0m \u001B[0mconfig_context\u001B[0m\u001B[0;34m(\u001B[0m\u001B[0;34m**\u001B[0m\u001B[0mself\u001B[0m\u001B[0;34m.\u001B[0m\u001B[0mconfig\u001B[0m\u001B[0;34m)\u001B[0m\u001B[0;34m:\u001B[0m\u001B[0;34m\u001B[0m\u001B[0;34m\u001B[0m\u001B[0m\n\u001B[0;32m--> 216\u001B[0;31m             \u001B[0;32mreturn\u001B[0m \u001B[0mself\u001B[0m\u001B[0;34m.\u001B[0m\u001B[0mfunction\u001B[0m\u001B[0;34m(\u001B[0m\u001B[0;34m*\u001B[0m\u001B[0margs\u001B[0m\u001B[0;34m,\u001B[0m \u001B[0;34m**\u001B[0m\u001B[0mkwargs\u001B[0m\u001B[0;34m)\u001B[0m\u001B[0;34m\u001B[0m\u001B[0;34m\u001B[0m\u001B[0m\n\u001B[0m\u001B[1;32m    217\u001B[0m \u001B[0;34m\u001B[0m\u001B[0m\n\u001B[1;32m    218\u001B[0m \u001B[0;34m\u001B[0m\u001B[0m\n",
      "\u001B[0;32m~/opt/anaconda3/lib/python3.9/site-packages/sklearn/neural_network/_multilayer_perceptron.py\u001B[0m in \u001B[0;36mpredict\u001B[0;34m(self, X)\u001B[0m\n\u001B[1;32m   1581\u001B[0m         \"\"\"\n\u001B[1;32m   1582\u001B[0m         \u001B[0mcheck_is_fitted\u001B[0m\u001B[0;34m(\u001B[0m\u001B[0mself\u001B[0m\u001B[0;34m)\u001B[0m\u001B[0;34m\u001B[0m\u001B[0;34m\u001B[0m\u001B[0m\n\u001B[0;32m-> 1583\u001B[0;31m         \u001B[0my_pred\u001B[0m \u001B[0;34m=\u001B[0m \u001B[0mself\u001B[0m\u001B[0;34m.\u001B[0m\u001B[0m_forward_pass_fast\u001B[0m\u001B[0;34m(\u001B[0m\u001B[0mX\u001B[0m\u001B[0;34m)\u001B[0m\u001B[0;34m\u001B[0m\u001B[0;34m\u001B[0m\u001B[0m\n\u001B[0m\u001B[1;32m   1584\u001B[0m         \u001B[0;32mif\u001B[0m \u001B[0my_pred\u001B[0m\u001B[0;34m.\u001B[0m\u001B[0mshape\u001B[0m\u001B[0;34m[\u001B[0m\u001B[0;36m1\u001B[0m\u001B[0;34m]\u001B[0m \u001B[0;34m==\u001B[0m \u001B[0;36m1\u001B[0m\u001B[0;34m:\u001B[0m\u001B[0;34m\u001B[0m\u001B[0;34m\u001B[0m\u001B[0m\n\u001B[1;32m   1585\u001B[0m             \u001B[0;32mreturn\u001B[0m \u001B[0my_pred\u001B[0m\u001B[0;34m.\u001B[0m\u001B[0mravel\u001B[0m\u001B[0;34m(\u001B[0m\u001B[0;34m)\u001B[0m\u001B[0;34m\u001B[0m\u001B[0;34m\u001B[0m\u001B[0m\n",
      "\u001B[0;32m~/opt/anaconda3/lib/python3.9/site-packages/sklearn/neural_network/_multilayer_perceptron.py\u001B[0m in \u001B[0;36m_forward_pass_fast\u001B[0;34m(self, X)\u001B[0m\n\u001B[1;32m    157\u001B[0m             \u001B[0mThe\u001B[0m \u001B[0mdecision\u001B[0m \u001B[0mfunction\u001B[0m \u001B[0mof\u001B[0m \u001B[0mthe\u001B[0m \u001B[0msamples\u001B[0m \u001B[0;32mfor\u001B[0m \u001B[0meach\u001B[0m \u001B[0;32mclass\u001B[0m \u001B[0;32min\u001B[0m \u001B[0mthe\u001B[0m \u001B[0mmodel\u001B[0m\u001B[0;34m.\u001B[0m\u001B[0;34m\u001B[0m\u001B[0;34m\u001B[0m\u001B[0m\n\u001B[1;32m    158\u001B[0m         \"\"\"\n\u001B[0;32m--> 159\u001B[0;31m         \u001B[0mX\u001B[0m \u001B[0;34m=\u001B[0m \u001B[0mself\u001B[0m\u001B[0;34m.\u001B[0m\u001B[0m_validate_data\u001B[0m\u001B[0;34m(\u001B[0m\u001B[0mX\u001B[0m\u001B[0;34m,\u001B[0m \u001B[0maccept_sparse\u001B[0m\u001B[0;34m=\u001B[0m\u001B[0;34m[\u001B[0m\u001B[0;34m\"csr\"\u001B[0m\u001B[0;34m,\u001B[0m \u001B[0;34m\"csc\"\u001B[0m\u001B[0;34m]\u001B[0m\u001B[0;34m,\u001B[0m \u001B[0mreset\u001B[0m\u001B[0;34m=\u001B[0m\u001B[0;32mFalse\u001B[0m\u001B[0;34m)\u001B[0m\u001B[0;34m\u001B[0m\u001B[0;34m\u001B[0m\u001B[0m\n\u001B[0m\u001B[1;32m    160\u001B[0m \u001B[0;34m\u001B[0m\u001B[0m\n\u001B[1;32m    161\u001B[0m         \u001B[0;31m# Initialize first layer\u001B[0m\u001B[0;34m\u001B[0m\u001B[0;34m\u001B[0m\u001B[0m\n",
      "\u001B[0;32m~/opt/anaconda3/lib/python3.9/site-packages/sklearn/base.py\u001B[0m in \u001B[0;36m_validate_data\u001B[0;34m(self, X, y, reset, validate_separately, **check_params)\u001B[0m\n\u001B[1;32m    583\u001B[0m \u001B[0;34m\u001B[0m\u001B[0m\n\u001B[1;32m    584\u001B[0m         \u001B[0;32mif\u001B[0m \u001B[0;32mnot\u001B[0m \u001B[0mno_val_X\u001B[0m \u001B[0;32mand\u001B[0m \u001B[0mcheck_params\u001B[0m\u001B[0;34m.\u001B[0m\u001B[0mget\u001B[0m\u001B[0;34m(\u001B[0m\u001B[0;34m\"ensure_2d\"\u001B[0m\u001B[0;34m,\u001B[0m \u001B[0;32mTrue\u001B[0m\u001B[0;34m)\u001B[0m\u001B[0;34m:\u001B[0m\u001B[0;34m\u001B[0m\u001B[0;34m\u001B[0m\u001B[0m\n\u001B[0;32m--> 585\u001B[0;31m             \u001B[0mself\u001B[0m\u001B[0;34m.\u001B[0m\u001B[0m_check_n_features\u001B[0m\u001B[0;34m(\u001B[0m\u001B[0mX\u001B[0m\u001B[0;34m,\u001B[0m \u001B[0mreset\u001B[0m\u001B[0;34m=\u001B[0m\u001B[0mreset\u001B[0m\u001B[0;34m)\u001B[0m\u001B[0;34m\u001B[0m\u001B[0;34m\u001B[0m\u001B[0m\n\u001B[0m\u001B[1;32m    586\u001B[0m \u001B[0;34m\u001B[0m\u001B[0m\n\u001B[1;32m    587\u001B[0m         \u001B[0;32mreturn\u001B[0m \u001B[0mout\u001B[0m\u001B[0;34m\u001B[0m\u001B[0;34m\u001B[0m\u001B[0m\n",
      "\u001B[0;32m~/opt/anaconda3/lib/python3.9/site-packages/sklearn/base.py\u001B[0m in \u001B[0;36m_check_n_features\u001B[0;34m(self, X, reset)\u001B[0m\n\u001B[1;32m    398\u001B[0m \u001B[0;34m\u001B[0m\u001B[0m\n\u001B[1;32m    399\u001B[0m         \u001B[0;32mif\u001B[0m \u001B[0mn_features\u001B[0m \u001B[0;34m!=\u001B[0m \u001B[0mself\u001B[0m\u001B[0;34m.\u001B[0m\u001B[0mn_features_in_\u001B[0m\u001B[0;34m:\u001B[0m\u001B[0;34m\u001B[0m\u001B[0;34m\u001B[0m\u001B[0m\n\u001B[0;32m--> 400\u001B[0;31m             raise ValueError(\n\u001B[0m\u001B[1;32m    401\u001B[0m                 \u001B[0;34mf\"X has {n_features} features, but {self.__class__.__name__} \"\u001B[0m\u001B[0;34m\u001B[0m\u001B[0;34m\u001B[0m\u001B[0m\n\u001B[1;32m    402\u001B[0m                 \u001B[0;34mf\"is expecting {self.n_features_in_} features as input.\"\u001B[0m\u001B[0;34m\u001B[0m\u001B[0;34m\u001B[0m\u001B[0m\n",
      "\u001B[0;31mValueError\u001B[0m: X has 13 features, but MLPRegressor is expecting 24 features as input."
     ]
    }
   ],
   "source": [
    "#get loss scores\n",
    "print(new_model.score(X, y))"
   ],
   "metadata": {
    "collapsed": false
   }
  },
  {
   "cell_type": "code",
   "execution_count": null,
   "id": "fe4cdae0",
   "metadata": {
    "execution": {
     "iopub.execute_input": "2022-10-26T23:30:23.480446Z",
     "iopub.status.busy": "2022-10-26T23:30:23.479599Z",
     "iopub.status.idle": "2022-10-26T23:30:23.747424Z",
     "shell.execute_reply": "2022-10-26T23:30:23.746243Z"
    },
    "papermill": {
     "duration": 0.299301,
     "end_time": "2022-10-26T23:30:23.750222",
     "exception": false,
     "start_time": "2022-10-26T23:30:23.450921",
     "status": "completed"
    },
    "tags": []
   },
   "outputs": [],
   "source": [
    "# Results on the training set\n",
    "\n",
    "\n",
    "y_pred   = y_pred.stack(['store_nbr', 'family']).reset_index()\n",
    "y_target = y.stack(['store_nbr', 'family']).reset_index().copy()\n",
    "\n",
    "y_target['sales_pred'] = y_pred['sales'].clip(0.) # Sales should be >= 0\n",
    "\n",
    "#y_pred_alt   = y_pred_alt.stack(['store_nbr', 'family']).reset_index()\n",
    "#y_target_alt = y.stack(['store_nbr', 'family']).reset_index().copy()\n",
    "\n",
    "#y_target_alt['sales_pred'] = y_pred_alt['sales'].clip(0.) # Sales should be >= 0\n",
    "y_target_alt=y.stack(['store_nbr', 'family']).reset_index().copy()\n",
    "y_target_alt['sales_pred'] = y_pred_alt['sales'].clip(0.) # Sales should be >= 0\n",
    "y_target_alt.groupby('family').apply(lambda x: np.sqrt(mean_squared_log_error(x['sales'], x['sales_pred'])))\n",
    "########################################################################################################################\n",
    "# TODO: show the training loss for each type of product.\n",
    "# Hint: check the documentation of DataFrame.groupby() and GroupBy.apply().\n",
    "########################################################################################################################\n",
    "print(y_target.groupby('family').apply(lambda r: mean_squared_log_error(r['sales'], r['sales_pred']))) ### answer\n",
    "print(y_target.groupby('family').apply(lambda r: mean_squared_log_error(r['sales'], r['sales_pred'])).sum())\n",
    "\n",
    "print(y_target_alt.groupby('family').apply(lambda r: mean_squared_log_error(r['sales'], r['sales_pred']))) ### answer\n",
    "print(y_target_alt.groupby('family').apply(lambda r: mean_squared_log_error(r['sales'], r['sales_pred'])).sum())"
   ]
  },
  {
   "cell_type": "code",
   "execution_count": null,
   "id": "a6f06646",
   "metadata": {
    "execution": {
     "iopub.execute_input": "2022-10-26T23:30:23.763755Z",
     "iopub.status.busy": "2022-10-26T23:30:23.763362Z",
     "iopub.status.idle": "2022-10-26T23:30:23.826164Z",
     "shell.execute_reply": "2022-10-26T23:30:23.824651Z"
    },
    "papermill": {
     "duration": 0.073018,
     "end_time": "2022-10-26T23:30:23.829080",
     "exception": false,
     "start_time": "2022-10-26T23:30:23.756062",
     "status": "completed"
    },
    "tags": []
   },
   "outputs": [],
   "source": [
    "\n",
    "stest = '2017-08-16'\n",
    "etest = '2017-08-31'\n",
    "X_test_alt = dp.out_of_sample(steps=16)\n",
    "\n",
    "# Extentions\n",
    "X_test_alt['oil']  = calendar.loc[stest:etest]['ma_oil'].values\n",
    "X_test_alt['dow'] = calendar.loc[stest:etest]['dow'].values\n",
    "X_test_alt['wd']   = calendar.loc[stest:etest]['wd'].values\n",
    "X_test_alt['type'] = calendar.loc[stest:etest]['type'].values\n",
    "X_test_alt = pd.get_dummies(X_test_alt, columns=['dow'], drop_first=True)\n",
    "X_test_alt = pd.get_dummies(X_test_alt, columns=['type'], drop_first=False)\n",
    "\n",
    "# No national level events in this period\n",
    "X_test_alt[['type_Additional', 'type_Event', 'type_Holiday', 'type_Transfer']] = 0\n",
    "X_test_alt.index.names = ['date']\n",
    "print(X_test_alt.shape)\n",
    "X_test_alt.head()\n",
    "\n",
    "stest = '2017-08-16'\n",
    "etest = '2017-08-31'\n",
    "y_test = df_test.unstack(['store_nbr', 'family']).loc[stest:etest]\n",
    "print(y_test.shape)\n",
    "\n",
    "sales_pred_alt = pd.DataFrame(model_rf.predict(X_test_alt), index=X_test_alt.index, columns=y.columns)\n",
    "sales_pred_alt = sales_pred_alt.stack(['store_nbr', 'family']).reset_index()\n",
    "sales_pred_alt['sales'] = sales_pred_alt['sales'].clip(0.) # Sales should be >= 0\n",
    "sales_pred_alt.head()"
   ]
  },
  {
   "cell_type": "code",
   "execution_count": null,
   "outputs": [],
   "source": [
    "# Test predictions\n",
    "\n",
    "stest = '2017-08-16'\n",
    "etest = '2017-08-31'\n",
    "\n",
    "########################################################################################################################\n",
    "# TODO: create the feature matrix of test data.\n",
    "# Hint: check the documentation of DeterministicProcess.\n",
    "########################################################################################################################\n",
    "X_test = None # change 'None' to your answer\n",
    "X_test = dp.out_of_sample(steps=16) ### answer\n",
    "\n",
    "# Extentions\n",
    "\n",
    "X_test['oil']  = calendar.loc[stest:etest]['ma_oil'].values ### answer\n",
    "\n",
    "X_test['wd']   = calendar.loc[stest:etest]['wd'].values ### answer\n",
    "X_test['pay']  = calendar.loc[stest:etest]['pay'].values\n",
    "X_test['monday'] = calendar.loc[stest:etest]['monday'].values\n",
    "X_test['tuesday'] = calendar.loc[stest:etest]['tuesday'].values\n",
    "X_test['wednesday'] = calendar.loc[stest:etest]['wednesday'].values\n",
    "X_test['thursday'] = calendar.loc[stest:etest]['thursday'].values\n",
    "X_test['friday'] = calendar.loc[stest:etest]['friday'].values\n",
    "X_test['saturday'] = calendar.loc[stest:etest]['saturday'].values\n",
    "X_test['sunday'] = calendar.loc[stest:etest]['sunday'].values\n",
    "\n",
    "X_test['january'] = calendar.loc[stest:etest]['january'].values\n",
    "X_test['february'] = calendar.loc[stest:etest]['february'].values\n",
    "X_test['march'] = calendar.loc[stest:etest]['march'].values\n",
    "X_test['april'] = calendar.loc[stest:etest]['april'].values\n",
    "X_test['may'] = calendar.loc[stest:etest]['may'].values\n",
    "X_test['june'] = calendar.loc[stest:etest]['june'].values\n",
    "X_test['july'] = calendar.loc[stest:etest]['july'].values\n",
    "X_test['august'] = calendar.loc[stest:etest]['august'].values\n",
    "X_test['september'] = calendar.loc[stest:etest]['september'].values\n",
    "X_test['october'] = calendar.loc[stest:etest]['october'].values\n",
    "X_test['november'] = calendar.loc[stest:etest]['november'].values\n",
    "X_test['december'] = calendar.loc[stest:etest]['december'].values\n",
    "\n",
    "X_test['bigholiday'] = calendar.loc[stest:etest]['bigholiday'].values\n",
    "\n",
    "sales_pred = pd.DataFrame(new_model.predict(X_test), index=X_test.index, columns=y.columns)\n",
    "sales_pred = sales_pred.stack(['store_nbr', 'family'])\n",
    "\n",
    "sales_pred[sales_pred < 0] = 0. # Sales should be >= 0"
   ],
   "metadata": {
    "collapsed": false
   }
  },
  {
   "cell_type": "code",
   "execution_count": null,
   "id": "ebe60226",
   "metadata": {
    "execution": {
     "iopub.execute_input": "2022-10-26T23:30:23.844066Z",
     "iopub.status.busy": "2022-10-26T23:30:23.843597Z",
     "iopub.status.idle": "2022-10-26T23:30:23.942205Z",
     "shell.execute_reply": "2022-10-26T23:30:23.941030Z"
    },
    "papermill": {
     "duration": 0.110244,
     "end_time": "2022-10-26T23:30:23.945169",
     "exception": false,
     "start_time": "2022-10-26T23:30:23.834925",
     "status": "completed"
    },
    "tags": []
   },
   "outputs": [],
   "source": [
    "# Create submission\n",
    "df_test\n",
    "df_sub = pd.read_csv(path + 'sample_submission.csv', index_col='id')\n",
    "for i in range(0, 28512):\n",
    "    j = i + 1\n",
    "    if i % 33 == 0:#RF\n",
    "        df_sub.sales[i] = sales_pred_alt.values[i]\n",
    "    elif i % 32 == 0:#RF\n",
    "        df_sub.sales[i] = sales_pred_alt.values[i]\n",
    "    elif i % 31 == 0:#RF\n",
    "        df_sub.sales[i] = sales_pred_alt.values[i]\n",
    "    elif i % 30 == 0:#NN\n",
    "        df_sub.sales[i] = sales_pred.values[i]\n",
    "    elif i % 29 == 0:#NN\n",
    "        df_sub.sales[i] = sales_pred.values[i]\n",
    "    elif i % 28 == 0:#NN\n",
    "        df_sub.sales[i] = sales_pred.values[i]\n",
    "    elif i % 27 == 0:#RF\n",
    "        df_sub.sales[i] = sales_pred_alt.values[i]\n",
    "    elif i % 26 == 0:#NN\n",
    "        df_sub.sales[i] = sales_pred.values[i]\n",
    "    elif i % 25 == 0:#NN 8\n",
    "        df_sub.sales[i] = sales_pred.values[i]\n",
    "    elif i % 24 == 0:#NN\n",
    "        df_sub.sales[i] = sales_pred.values[i]\n",
    "    elif i % 23 == 0:#NN\n",
    "        df_sub.sales[i] = sales_pred.values[i]\n",
    "    elif i % 22 == 0:#NN\n",
    "        df_sub.sales[i] = sales_pred.values[i]\n",
    "    elif i % 21 == 0:#NN\n",
    "        df_sub.sales[i] = sales_pred.values[i]\n",
    "    elif i % 20 == 0:#NN 13\n",
    "        df_sub.sales[i] = sales_pred.values[i]\n",
    "    elif i % 19 == 0:#RF\n",
    "        df_sub.sales[i] = sales_pred_alt.values[i]\n",
    "    elif i % 18 == 0:#NN\n",
    "        df_sub.sales[i] = sales_pred.values[i]\n",
    "    elif i % 17 == 0:#NN\n",
    "        df_sub.sales[i] = sales_pred.values[i]\n",
    "    elif i % 16 == 0:#RF\n",
    "        df_sub.sales[i] = sales_pred_alt.values[i]\n",
    "    elif i % 15 == 0:#NN 18\n",
    "        df_sub.sales[i] = sales_pred.values[i]\n",
    "    elif i % 14 == 0:#RF\n",
    "        df_sub.sales[i] = sales_pred_alt.values[i]\n",
    "    elif i % 13 == 0:#NN\n",
    "        df_sub.sales[i] = sales_pred.values[i]\n",
    "    elif i % 12 == 0:#RF\n",
    "        df_sub.sales[i] = sales_pred_alt.values[i]\n",
    "    elif i % 11 == 0:#NN\n",
    "        df_sub.sales[i] = sales_pred.values[i]\n",
    "    elif i % 10 == 0:#RF 23\n",
    "        df_sub.sales[i] = sales_pred_alt.values[i]\n",
    "    elif i % 9 == 0:#NN\n",
    "        df_sub.sales[i] = sales_pred.values[i]\n",
    "    elif i % 8 == 0:#NN\n",
    "        df_sub.sales[i] = sales_pred.values[i]\n",
    "    elif i % 7 == 0:#RF\n",
    "        df_sub.sales[i] = sales_pred_alt.values[i]\n",
    "    elif i % 6 == 0:#RF\n",
    "        df_sub.sales[i] = sales_pred_alt.values[i]\n",
    "    elif i % 5 == 0:#NN 28\n",
    "        df_sub.sales[i] = sales_pred.values[i]\n",
    "    elif i % 4 == 0:#NN\n",
    "        df_sub.sales[i] = sales_pred.values[i]\n",
    "    elif i % 3 == 0:#NN\n",
    "        df_sub.sales[i] = sales_pred.values[i]\n",
    "    elif i % 2 == 0:#RF\n",
    "        df_sub.sales[i] = sales_pred_alt.values[i]\n",
    "    elif i % 1 == 0:#RF\n",
    "        df_sub.sales[i] = sales_pred_alt.values[i]\n",
    "#df_sub.sales = sales_pred.values\n",
    "df_sub.to_csv('submission.csv', index=True)"
   ]
  }
 ],
 "metadata": {
  "kernelspec": {
   "display_name": "Python 3",
   "language": "python",
   "name": "python3"
  },
  "language_info": {
   "codemirror_mode": {
    "name": "ipython",
    "version": 3
   },
   "file_extension": ".py",
   "mimetype": "text/x-python",
   "name": "python",
   "nbconvert_exporter": "python",
   "pygments_lexer": "ipython3",
   "version": "3.7.12"
  },
  "papermill": {
   "default_parameters": {},
   "duration": 19.048883,
   "end_time": "2022-10-26T23:30:24.775754",
   "environment_variables": {},
   "exception": null,
   "input_path": "__notebook__.ipynb",
   "output_path": "__notebook__.ipynb",
   "parameters": {},
   "start_time": "2022-10-26T23:30:05.726871",
   "version": "2.3.4"
  }
 },
 "nbformat": 4,
 "nbformat_minor": 5
}
